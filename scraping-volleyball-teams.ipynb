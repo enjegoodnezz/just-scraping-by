{
 "cells": [
  {
   "cell_type": "code",
   "execution_count": 1,
   "id": "a3236f0d",
   "metadata": {
    "_cell_guid": "b1076dfc-b9ad-4769-8c92-a6c4dae69d19",
    "_uuid": "8f2839f25d086af736a60e9eeb907d3b93b6e0e5",
    "execution": {
     "iopub.execute_input": "2023-08-12T00:34:46.542864Z",
     "iopub.status.busy": "2023-08-12T00:34:46.542399Z",
     "iopub.status.idle": "2023-08-12T00:34:46.796423Z",
     "shell.execute_reply": "2023-08-12T00:34:46.795281Z"
    },
    "papermill": {
     "duration": 0.265595,
     "end_time": "2023-08-12T00:34:46.799383",
     "exception": false,
     "start_time": "2023-08-12T00:34:46.533788",
     "status": "completed"
    },
    "tags": []
   },
   "outputs": [
    {
     "name": "stdout",
     "output_type": "stream",
     "text": [
      "/kaggle/input/unique-bvbinfo-tournament-id/unique_tournid.csv\n"
     ]
    }
   ],
   "source": [
    "import numpy as np # linear algebra\n",
    "import pandas as pd # data processing, CSV file I/O (e.g. pd.read_csv)\n",
    "\n",
    "import os\n",
    "for dirname, _, filenames in os.walk('/kaggle/input'):\n",
    "    for filename in filenames:\n",
    "        print(os.path.join(dirname, filename))\n",
    "\n",
    "import requests\n",
    "from bs4 import BeautifulSoup"
   ]
  },
  {
   "cell_type": "markdown",
   "id": "9fbcd2d0",
   "metadata": {
    "papermill": {
     "duration": 0.006082,
     "end_time": "2023-08-12T00:34:46.812205",
     "exception": false,
     "start_time": "2023-08-12T00:34:46.806123",
     "status": "completed"
    },
    "tags": []
   },
   "source": [
    "### Scrape Sessions"
   ]
  },
  {
   "cell_type": "code",
   "execution_count": 2,
   "id": "af4a3cce",
   "metadata": {
    "execution": {
     "iopub.execute_input": "2023-08-12T00:34:46.827368Z",
     "iopub.status.busy": "2023-08-12T00:34:46.826608Z",
     "iopub.status.idle": "2023-08-12T00:34:46.832701Z",
     "shell.execute_reply": "2023-08-12T00:34:46.831525Z"
    },
    "papermill": {
     "duration": 0.016355,
     "end_time": "2023-08-12T00:34:46.834988",
     "exception": false,
     "start_time": "2023-08-12T00:34:46.818633",
     "status": "completed"
    },
    "tags": []
   },
   "outputs": [],
   "source": [
    "base_season_url = \"http://www.bvbinfo.com/season.asp\""
   ]
  },
  {
   "cell_type": "code",
   "execution_count": 3,
   "id": "5c743708",
   "metadata": {
    "execution": {
     "iopub.execute_input": "2023-08-12T00:34:46.850328Z",
     "iopub.status.busy": "2023-08-12T00:34:46.849563Z",
     "iopub.status.idle": "2023-08-12T00:34:46.862075Z",
     "shell.execute_reply": "2023-08-12T00:34:46.860876Z"
    },
    "papermill": {
     "duration": 0.023463,
     "end_time": "2023-08-12T00:34:46.864949",
     "exception": false,
     "start_time": "2023-08-12T00:34:46.841486",
     "status": "completed"
    },
    "tags": []
   },
   "outputs": [],
   "source": [
    "def bvbinfo_season_scraper():\n",
    "    url = base_season_url\n",
    "    \n",
    "    year_index = 0\n",
    "    fivb_index = 15\n",
    "    \n",
    "    response = requests.get(url)\n",
    "    soup = BeautifulSoup(response.content, 'html.parser')\n",
    "\n",
    "    # Extracting team information from the table\n",
    "    table = soup.find_all('table')\n",
    "\n",
    "    if len(table) < 2:\n",
    "        return []\n",
    "    rows = table[2].find_all('tr')\n",
    "    header_element = rows[2]\n",
    "    header_text = header_element.get_text(strip=True, separator=\"\\n\").split(\"\\n\")\n",
    "    print(header_text[year_index], header_text[fivb_index])\n",
    "    \n",
    "    if (header_text[year_index].upper() != 'YEAR') or (header_text[fivb_index].upper() != 'FIVB'):\n",
    "        print(f\"bvbinfo_season_scraper - Error: check website structure\")\n",
    "        return []\n",
    "        \n",
    "    season_years = []\n",
    "    for cols_element in rows[3:]:\n",
    "        try:\n",
    "            col_element_data = cols_element.find_all('td')\n",
    "            len_col_element_data = len(col_element_data)\n",
    "\n",
    "            if len_col_element_data >= fivb_index:\n",
    "                col = col_element_data[fivb_index]\n",
    "                col.find('a', href=True)\n",
    "                a_tag = col.find('a', href=True)\n",
    "                if a_tag and 'Season.asp' in a_tag['href']:\n",
    "                    value = a_tag['href'].split('=')[-1]            \n",
    "                    season_years.append(value)\n",
    "        except ValueError as e:\n",
    "                print(f\"bvbinfo_tourni_scraper - Error: {e.args[0]}\")\n",
    "\n",
    "    return season_years"
   ]
  },
  {
   "cell_type": "code",
   "execution_count": 4,
   "id": "6792672d",
   "metadata": {
    "execution": {
     "iopub.execute_input": "2023-08-12T00:34:46.879851Z",
     "iopub.status.busy": "2023-08-12T00:34:46.879376Z",
     "iopub.status.idle": "2023-08-12T00:34:48.078936Z",
     "shell.execute_reply": "2023-08-12T00:34:48.077595Z"
    },
    "papermill": {
     "duration": 1.211253,
     "end_time": "2023-08-12T00:34:48.082832",
     "exception": false,
     "start_time": "2023-08-12T00:34:46.871579",
     "status": "completed"
    },
    "tags": []
   },
   "outputs": [
    {
     "name": "stdout",
     "output_type": "stream",
     "text": [
      "Year FIVB\n",
      "<class 'pandas.core.frame.DataFrame'>\n",
      "RangeIndex: 38 entries, 0 to 37\n",
      "Data columns (total 1 columns):\n",
      " #   Column  Non-Null Count  Dtype \n",
      "---  ------  --------------  ----- \n",
      " 0   YEAR    38 non-null     object\n",
      "dtypes: object(1)\n",
      "memory usage: 432.0+ bytes\n"
     ]
    }
   ],
   "source": [
    "season_years = bvbinfo_season_scraper()\n",
    "season_years_df = pd.DataFrame(season_years, columns=['YEAR'])\n",
    "season_years_df.info()"
   ]
  },
  {
   "cell_type": "markdown",
   "id": "d9d06777",
   "metadata": {
    "papermill": {
     "duration": 0.008578,
     "end_time": "2023-08-12T00:34:48.100850",
     "exception": false,
     "start_time": "2023-08-12T00:34:48.092272",
     "status": "completed"
    },
    "tags": []
   },
   "source": [
    "### Scrape Season Tournament IDs"
   ]
  },
  {
   "cell_type": "code",
   "execution_count": 5,
   "id": "bef125d6",
   "metadata": {
    "execution": {
     "iopub.execute_input": "2023-08-12T00:34:48.116659Z",
     "iopub.status.busy": "2023-08-12T00:34:48.116104Z",
     "iopub.status.idle": "2023-08-12T00:34:48.121651Z",
     "shell.execute_reply": "2023-08-12T00:34:48.120551Z"
    },
    "papermill": {
     "duration": 0.016251,
     "end_time": "2023-08-12T00:34:48.123857",
     "exception": false,
     "start_time": "2023-08-12T00:34:48.107606",
     "status": "completed"
    },
    "tags": []
   },
   "outputs": [],
   "source": [
    "base_season_summ_url = \"http://www.bvbinfo.com/Season.asp?AssocID=3&Year=\""
   ]
  },
  {
   "cell_type": "code",
   "execution_count": 6,
   "id": "06e455d4",
   "metadata": {
    "execution": {
     "iopub.execute_input": "2023-08-12T00:34:48.139566Z",
     "iopub.status.busy": "2023-08-12T00:34:48.138595Z",
     "iopub.status.idle": "2023-08-12T00:34:48.153353Z",
     "shell.execute_reply": "2023-08-12T00:34:48.152208Z"
    },
    "papermill": {
     "duration": 0.026573,
     "end_time": "2023-08-12T00:34:48.156878",
     "exception": false,
     "start_time": "2023-08-12T00:34:48.130305",
     "status": "completed"
    },
    "tags": []
   },
   "outputs": [],
   "source": [
    "def bvbinfo_tourni_scraper(year):\n",
    "    url = base_season_summ_url + str(year)\n",
    "    \n",
    "    location_index = 1\n",
    "    \n",
    "    response = requests.get(url)\n",
    "    soup = BeautifulSoup(response.content, 'html.parser')\n",
    "\n",
    "    # Extracting team information from the table\n",
    "    table = soup.find_all('table')\n",
    "\n",
    "    if len(table) < 2:\n",
    "        return []\n",
    "    rows = table[2].find_all('tr')\n",
    "    header_element = rows[3]\n",
    "    header_text = header_element.get_text(strip=True, separator=\"\\n\").split(\"\\n\")\n",
    "    \n",
    "    if header_text[location_index].upper() != 'LOCATION':\n",
    "        print(f\"bvbinfo_tourni_scraper - Error: check website structure\")\n",
    "        return []\n",
    "    tournament_ids = []\n",
    "\n",
    "    for cols_element in rows[4:]:\n",
    "        try:\n",
    "            col_element_data = cols_element.find_all('td')\n",
    "            len_col_element_data = len(col_element_data)\n",
    "            if len_col_element_data > location_index:\n",
    "                col = col_element_data[location_index]\n",
    "\n",
    "                col.find('a', href=True)\n",
    "                a_tag = col.find('a', href=True)\n",
    "                if a_tag and 'Tournament.asp' in a_tag['href']:\n",
    "                    value = a_tag['href'].split('=')[-1]\n",
    "                    tournament_ids.append(value)                \n",
    "        except ValueError as e:\n",
    "                print(f\"bvbinfo_tourni_scraper - Error: {e.args[0]}\")\n",
    "                \n",
    "    return tournament_ids"
   ]
  },
  {
   "cell_type": "code",
   "execution_count": 7,
   "id": "b298b587",
   "metadata": {
    "execution": {
     "iopub.execute_input": "2023-08-12T00:34:48.172851Z",
     "iopub.status.busy": "2023-08-12T00:34:48.172279Z",
     "iopub.status.idle": "2023-08-12T00:34:55.612253Z",
     "shell.execute_reply": "2023-08-12T00:34:55.611013Z"
    },
    "papermill": {
     "duration": 7.451723,
     "end_time": "2023-08-12T00:34:55.615432",
     "exception": false,
     "start_time": "2023-08-12T00:34:48.163709",
     "status": "completed"
    },
    "tags": []
   },
   "outputs": [],
   "source": [
    "columns = ['TOURNID']\n",
    "scraped_tournid_df = pd.DataFrame(columns=columns)\n",
    "\n",
    "years_list = season_years_df[(season_years_df['YEAR'] >= '2010') & (season_years_df['YEAR'] <= '2023')]['YEAR'].unique()\n",
    "for year in years_list:\n",
    "    data = bvbinfo_tourni_scraper(year)\n",
    "    if data:  # Check if data is not empty\n",
    "        temp_df = pd.DataFrame(data, columns=['TOURNID'])\n",
    "        scraped_tournid_df = pd.concat([scraped_tournid_df, temp_df], ignore_index=True)"
   ]
  },
  {
   "cell_type": "code",
   "execution_count": 8,
   "id": "007c8c45",
   "metadata": {
    "execution": {
     "iopub.execute_input": "2023-08-12T00:34:55.630890Z",
     "iopub.status.busy": "2023-08-12T00:34:55.630399Z",
     "iopub.status.idle": "2023-08-12T00:34:55.646712Z",
     "shell.execute_reply": "2023-08-12T00:34:55.644878Z"
    },
    "papermill": {
     "duration": 0.027917,
     "end_time": "2023-08-12T00:34:55.650106",
     "exception": false,
     "start_time": "2023-08-12T00:34:55.622189",
     "status": "completed"
    },
    "tags": []
   },
   "outputs": [
    {
     "name": "stdout",
     "output_type": "stream",
     "text": [
      "TOURNID    0\n",
      "dtype: int64\n",
      "<class 'pandas.core.frame.DataFrame'>\n",
      "RangeIndex: 688 entries, 0 to 687\n",
      "Data columns (total 1 columns):\n",
      " #   Column   Non-Null Count  Dtype \n",
      "---  ------   --------------  ----- \n",
      " 0   TOURNID  688 non-null    object\n",
      "dtypes: object(1)\n",
      "memory usage: 5.5+ KB\n"
     ]
    }
   ],
   "source": [
    "print(scraped_tournid_df.isnull().sum())\n",
    "scraped_tournid_df.info()"
   ]
  },
  {
   "cell_type": "markdown",
   "id": "eac3f08b",
   "metadata": {
    "papermill": {
     "duration": 0.006184,
     "end_time": "2023-08-12T00:34:55.664779",
     "exception": false,
     "start_time": "2023-08-12T00:34:55.658595",
     "status": "completed"
    },
    "tags": []
   },
   "source": [
    "### Scrape Team Tournament Information"
   ]
  },
  {
   "cell_type": "code",
   "execution_count": 9,
   "id": "bc486ce6",
   "metadata": {
    "execution": {
     "iopub.execute_input": "2023-08-12T00:34:55.680157Z",
     "iopub.status.busy": "2023-08-12T00:34:55.679737Z",
     "iopub.status.idle": "2023-08-12T00:34:55.686371Z",
     "shell.execute_reply": "2023-08-12T00:34:55.684562Z"
    },
    "papermill": {
     "duration": 0.018012,
     "end_time": "2023-08-12T00:34:55.689251",
     "exception": false,
     "start_time": "2023-08-12T00:34:55.671239",
     "status": "completed"
    },
    "tags": []
   },
   "outputs": [],
   "source": [
    "base_tournament_url = \"http://www.bvbinfo.com/Tournament.asp?ID=\"\n",
    "\n",
    "columns = ['Finish', 'Player', 'Partner', 'Player_ID', 'Partner_ID', 'Country'\n",
    "           , 'TourniStartDate', 'TourniEndDate', 'TournLocation', 'Event', 'TOURNID']\n",
    "\n",
    "tournament_list = ['CHALLENGE','ELITE16']\n",
    "len_columns = len(columns)"
   ]
  },
  {
   "cell_type": "code",
   "execution_count": 10,
   "id": "b404afa6",
   "metadata": {
    "execution": {
     "iopub.execute_input": "2023-08-12T00:34:55.705072Z",
     "iopub.status.busy": "2023-08-12T00:34:55.704622Z",
     "iopub.status.idle": "2023-08-12T00:34:55.712708Z",
     "shell.execute_reply": "2023-08-12T00:34:55.711561Z"
    },
    "papermill": {
     "duration": 0.018868,
     "end_time": "2023-08-12T00:34:55.715144",
     "exception": false,
     "start_time": "2023-08-12T00:34:55.696276",
     "status": "completed"
    },
    "tags": []
   },
   "outputs": [],
   "source": [
    "import re\n",
    "from datetime import datetime\n",
    "def extract_dates(s):\n",
    "    # Regular expression pattern to match the date scenarios\n",
    "    pattern = r\"([A-Za-z]+) (\\d+)-(?:([A-Za-z]+) )?(\\d+), (\\d{4})\"\n",
    "    match = re.search(pattern, s)\n",
    "    \n",
    "    if not match:\n",
    "        return None, None\n",
    "\n",
    "    start_month, start_day, end_month, end_day, year = match.groups()\n",
    "    # If end_month is not provided, use start_month\n",
    "    end_month = end_month or start_month\n",
    "    \n",
    "    start_date_str = f\"{start_month} {start_day}, {year}\"\n",
    "    end_date_str = f\"{end_month} {end_day}, {year}\"\n",
    "    \n",
    "    # Convert to datetime objects for further processing if needed\n",
    "    start_date = datetime.strptime(start_date_str, '%B %d, %Y').date()\n",
    "    end_date = datetime.strptime(end_date_str, '%B %d, %Y').date()\n",
    "    \n",
    "    return start_date, end_date"
   ]
  },
  {
   "cell_type": "code",
   "execution_count": 11,
   "id": "7925c7b0",
   "metadata": {
    "execution": {
     "iopub.execute_input": "2023-08-12T00:34:55.730654Z",
     "iopub.status.busy": "2023-08-12T00:34:55.730139Z",
     "iopub.status.idle": "2023-08-12T00:34:55.748411Z",
     "shell.execute_reply": "2023-08-12T00:34:55.746985Z"
    },
    "papermill": {
     "duration": 0.029498,
     "end_time": "2023-08-12T00:34:55.751327",
     "exception": false,
     "start_time": "2023-08-12T00:34:55.721829",
     "status": "completed"
    },
    "tags": []
   },
   "outputs": [],
   "source": [
    "\n",
    "def bvbinfo_team_scraper(tourn_id, top_n):\n",
    "    url = base_tournament_url + str(tourn_id)\n",
    "\n",
    "    response = requests.get(url)\n",
    "    soup = BeautifulSoup(response.content, 'html.parser')\n",
    "\n",
    "    # Extracting team information from the table  \n",
    "    table = soup.find_all('table')\n",
    "\n",
    "    if len(table) < 5:\n",
    "        return []\n",
    "    rows = table[4].find_all('tr')\n",
    "    header_element = rows[0]\n",
    "    header_text = header_element.get_text(strip=True, separator=\"\\n\").split(\"\\n\")\n",
    "   \n",
    "    # Extract category, tournament, location, and start-end date\n",
    "    category = header_text[0].split(\"'\")[0]  \n",
    "    tournament = ''.join(header_text[0].split()[4:])\n",
    "    location = header_text[0].split()[3]  \n",
    "    startenddate = header_text[1]  \n",
    "\n",
    "    #print(startenddate)    \n",
    "    tourniStartDate, tourniEndDate = extract_dates(startenddate)        \n",
    "    \n",
    "    event = str(tournament) + \" \" + str(category)\n",
    "    \n",
    "    misc_info = []\n",
    "    misc_info =[tourniStartDate, tourniEndDate, location, event, tourn_id]\n",
    "    data = []\n",
    "            \n",
    "    fetch_columns = columns[:3] + [columns[5]]\n",
    "    \n",
    "    row_data = rows[1].find_all('td')\n",
    "    for val in row_data[:4]:\n",
    "        # print(val.text.strip(), fetch_columns)\n",
    "        if val.text.strip() not in fetch_columns:\n",
    "            print(f\"bvbinfo_team_scraper - Error: check website structure\")\n",
    "            return []\n",
    "        \n",
    "    if len([1 for val in tournament_list if val in tournament.upper()]) == 0:\n",
    "        return []\n",
    "\n",
    "    for cols_element in rows[2:]:\n",
    "        values = []\n",
    "        players = []\n",
    "        \n",
    "        try:\n",
    "            col_element_data = cols_element.find_all('td')\n",
    "            finish_rank = col_element_data[0].text.strip()\n",
    "            if not finish_rank:\n",
    "                finish_rank = 999\n",
    "             \n",
    "            if 'Canada' in cols_element.get_text() or int(finish_rank) <= int(top_n) or int(top_n) == 0:\n",
    "                for col in col_element_data[:4]: # don't need all columns\n",
    "                    a_tag = col.find('a', href=True)\n",
    "                    if a_tag and 'player.asp' in a_tag['href']:\n",
    "                        value = a_tag['href'].split('=')[-1]\n",
    "                        players.append(value)\n",
    "                    #else:\n",
    "                    value = col.text.strip()\n",
    "                    values.append(value)\n",
    "                data.append(values[:3] + players + values[3:] + misc_info)\n",
    "        except ValueError as e:\n",
    "                print(f\"bvbinfo_team_scraper - Error: {e.args[0]} - {tourn_id}\")\n",
    "                 \n",
    "    return data"
   ]
  },
  {
   "cell_type": "code",
   "execution_count": 12,
   "id": "e6bc92eb",
   "metadata": {
    "execution": {
     "iopub.execute_input": "2023-08-12T00:34:55.767034Z",
     "iopub.status.busy": "2023-08-12T00:34:55.766617Z",
     "iopub.status.idle": "2023-08-12T00:39:35.116426Z",
     "shell.execute_reply": "2023-08-12T00:39:35.114856Z"
    },
    "papermill": {
     "duration": 279.361739,
     "end_time": "2023-08-12T00:39:35.119800",
     "exception": false,
     "start_time": "2023-08-12T00:34:55.758061",
     "status": "completed"
    },
    "tags": []
   },
   "outputs": [],
   "source": [
    "scraped_team_df = pd.DataFrame(columns=columns)\n",
    "\n",
    "for tournament_id in scraped_tournid_df['TOURNID']:\n",
    "# for tournament_id in [3982, 3961]:\n",
    "    data = bvbinfo_team_scraper(tournament_id, 5)\n",
    "    if data:  # Check if data is not empty\n",
    "        if len(data[0]) == len_columns:\n",
    "            temp_df = pd.DataFrame(data, columns=columns)\n",
    "            scraped_team_df = pd.concat([scraped_team_df, temp_df], ignore_index=True)"
   ]
  },
  {
   "cell_type": "code",
   "execution_count": 13,
   "id": "6b57981a",
   "metadata": {
    "execution": {
     "iopub.execute_input": "2023-08-12T00:39:35.136513Z",
     "iopub.status.busy": "2023-08-12T00:39:35.136067Z",
     "iopub.status.idle": "2023-08-12T00:39:35.155488Z",
     "shell.execute_reply": "2023-08-12T00:39:35.153293Z"
    },
    "papermill": {
     "duration": 0.031538,
     "end_time": "2023-08-12T00:39:35.158397",
     "exception": false,
     "start_time": "2023-08-12T00:39:35.126859",
     "status": "completed"
    },
    "tags": []
   },
   "outputs": [
    {
     "name": "stdout",
     "output_type": "stream",
     "text": [
      "<class 'pandas.core.frame.DataFrame'>\n",
      "RangeIndex: 611 entries, 0 to 610\n",
      "Data columns (total 11 columns):\n",
      " #   Column           Non-Null Count  Dtype \n",
      "---  ------           --------------  ----- \n",
      " 0   Finish           611 non-null    object\n",
      " 1   Player           611 non-null    object\n",
      " 2   Partner          611 non-null    object\n",
      " 3   Player_ID        611 non-null    object\n",
      " 4   Partner_ID       611 non-null    object\n",
      " 5   Country          611 non-null    object\n",
      " 6   TourniStartDate  611 non-null    object\n",
      " 7   TourniEndDate    611 non-null    object\n",
      " 8   TournLocation    611 non-null    object\n",
      " 9   Event            611 non-null    object\n",
      " 10  TOURNID          611 non-null    object\n",
      "dtypes: object(11)\n",
      "memory usage: 52.6+ KB\n"
     ]
    }
   ],
   "source": [
    "scraped_team_df.info()"
   ]
  },
  {
   "cell_type": "code",
   "execution_count": 14,
   "id": "19eeb4a9",
   "metadata": {
    "execution": {
     "iopub.execute_input": "2023-08-12T00:39:35.174562Z",
     "iopub.status.busy": "2023-08-12T00:39:35.174065Z",
     "iopub.status.idle": "2023-08-12T00:39:35.196800Z",
     "shell.execute_reply": "2023-08-12T00:39:35.195211Z"
    },
    "papermill": {
     "duration": 0.034575,
     "end_time": "2023-08-12T00:39:35.200136",
     "exception": false,
     "start_time": "2023-08-12T00:39:35.165561",
     "status": "completed"
    },
    "tags": []
   },
   "outputs": [],
   "source": [
    "scraped_team_df.to_csv(\"scraped_team_info.csv\")"
   ]
  }
 ],
 "metadata": {
  "kernelspec": {
   "display_name": "Python 3",
   "language": "python",
   "name": "python3"
  },
  "language_info": {
   "codemirror_mode": {
    "name": "ipython",
    "version": 3
   },
   "file_extension": ".py",
   "mimetype": "text/x-python",
   "name": "python",
   "nbconvert_exporter": "python",
   "pygments_lexer": "ipython3",
   "version": "3.10.12"
  },
  "papermill": {
   "default_parameters": {},
   "duration": 303.683284,
   "end_time": "2023-08-12T00:39:36.534485",
   "environment_variables": {},
   "exception": null,
   "input_path": "__notebook__.ipynb",
   "output_path": "__notebook__.ipynb",
   "parameters": {},
   "start_time": "2023-08-12T00:34:32.851201",
   "version": "2.4.0"
  }
 },
 "nbformat": 4,
 "nbformat_minor": 5
}

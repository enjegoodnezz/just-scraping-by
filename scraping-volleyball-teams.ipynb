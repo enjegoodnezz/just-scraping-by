{
 "cells": [
  {
   "cell_type": "code",
   "execution_count": 1,
   "id": "752eca6c",
   "metadata": {
    "_cell_guid": "b1076dfc-b9ad-4769-8c92-a6c4dae69d19",
    "_uuid": "8f2839f25d086af736a60e9eeb907d3b93b6e0e5",
    "execution": {
     "iopub.execute_input": "2023-08-11T18:42:15.522647Z",
     "iopub.status.busy": "2023-08-11T18:42:15.522111Z",
     "iopub.status.idle": "2023-08-11T18:42:15.759293Z",
     "shell.execute_reply": "2023-08-11T18:42:15.758374Z"
    },
    "papermill": {
     "duration": 0.248331,
     "end_time": "2023-08-11T18:42:15.761901",
     "exception": false,
     "start_time": "2023-08-11T18:42:15.513570",
     "status": "completed"
    },
    "tags": []
   },
   "outputs": [
    {
     "name": "stdout",
     "output_type": "stream",
     "text": [
      "/kaggle/input/unique-bvbinfo-tournament-id/unique_tournid.csv\n"
     ]
    }
   ],
   "source": [
    "import numpy as np # linear algebra\n",
    "import pandas as pd # data processing, CSV file I/O (e.g. pd.read_csv)\n",
    "\n",
    "import os\n",
    "for dirname, _, filenames in os.walk('/kaggle/input'):\n",
    "    for filename in filenames:\n",
    "        print(os.path.join(dirname, filename))\n",
    "\n",
    "import requests\n",
    "from bs4 import BeautifulSoup"
   ]
  },
  {
   "cell_type": "code",
   "execution_count": 2,
   "id": "071d46ed",
   "metadata": {
    "execution": {
     "iopub.execute_input": "2023-08-11T18:42:15.776759Z",
     "iopub.status.busy": "2023-08-11T18:42:15.776073Z",
     "iopub.status.idle": "2023-08-11T18:42:15.823286Z",
     "shell.execute_reply": "2023-08-11T18:42:15.821797Z"
    },
    "papermill": {
     "duration": 0.057699,
     "end_time": "2023-08-11T18:42:15.826102",
     "exception": false,
     "start_time": "2023-08-11T18:42:15.768403",
     "status": "completed"
    },
    "tags": []
   },
   "outputs": [
    {
     "name": "stdout",
     "output_type": "stream",
     "text": [
      "<class 'pandas.core.frame.DataFrame'>\n",
      "RangeIndex: 50 entries, 0 to 49\n",
      "Data columns (total 1 columns):\n",
      " #   Column   Non-Null Count  Dtype\n",
      "---  ------   --------------  -----\n",
      " 0   TOURNID  50 non-null     int64\n",
      "dtypes: int64(1)\n",
      "memory usage: 528.0 bytes\n"
     ]
    }
   ],
   "source": [
    "tourn_id_df = pd.read_csv(\"/kaggle/input/unique-bvbinfo-tournament-id/unique_tournid.csv\")\n",
    "tourn_id_df.info()                 "
   ]
  },
  {
   "cell_type": "markdown",
   "id": "17c4e5a4",
   "metadata": {
    "papermill": {
     "duration": 0.006024,
     "end_time": "2023-08-11T18:42:15.838640",
     "exception": false,
     "start_time": "2023-08-11T18:42:15.832616",
     "status": "completed"
    },
    "tags": []
   },
   "source": [
    "### Scrape Sessions"
   ]
  },
  {
   "cell_type": "code",
   "execution_count": 3,
   "id": "5e95b521",
   "metadata": {
    "execution": {
     "iopub.execute_input": "2023-08-11T18:42:15.852777Z",
     "iopub.status.busy": "2023-08-11T18:42:15.852354Z",
     "iopub.status.idle": "2023-08-11T18:42:15.857370Z",
     "shell.execute_reply": "2023-08-11T18:42:15.856272Z"
    },
    "papermill": {
     "duration": 0.014784,
     "end_time": "2023-08-11T18:42:15.859672",
     "exception": false,
     "start_time": "2023-08-11T18:42:15.844888",
     "status": "completed"
    },
    "tags": []
   },
   "outputs": [],
   "source": [
    "base_season_url = \"http://www.bvbinfo.com/season.asp\""
   ]
  },
  {
   "cell_type": "code",
   "execution_count": 4,
   "id": "f2357252",
   "metadata": {
    "execution": {
     "iopub.execute_input": "2023-08-11T18:42:15.874609Z",
     "iopub.status.busy": "2023-08-11T18:42:15.873799Z",
     "iopub.status.idle": "2023-08-11T18:42:15.884226Z",
     "shell.execute_reply": "2023-08-11T18:42:15.883030Z"
    },
    "papermill": {
     "duration": 0.020363,
     "end_time": "2023-08-11T18:42:15.886597",
     "exception": false,
     "start_time": "2023-08-11T18:42:15.866234",
     "status": "completed"
    },
    "tags": []
   },
   "outputs": [],
   "source": [
    "def bvbinfo_season_scraper():\n",
    "    url = base_season_url\n",
    "    print(url)\n",
    "    response = requests.get(url)\n",
    "    soup = BeautifulSoup(response.content, 'html.parser')\n",
    "\n",
    "    # Extracting team information from the table\n",
    "\n",
    "    table = soup.find_all('table')\n",
    "    # print(\"len: \", len(table))\n",
    "    # if len(table) < 2:\n",
    "        #return []\n",
    "    rows = table[2].find_all('tr')\n",
    "    header_element = rows[2]\n",
    "    header_text = header_element.get_text(strip=True, separator=\"\\n\").split(\"\\n\")\n",
    "    #print(header_text[0])\n",
    "    #print(header_text[15])\n",
    "    season_years = []\n",
    "    for cols_element in rows[3:]:\n",
    "        col_element_data = cols_element.find_all('td')\n",
    "        len_col_element_data = len(col_element_data)\n",
    "        col_element_data\n",
    "\n",
    "        if len_col_element_data > 15:\n",
    "            #print(col_element_data[0].text.strip(),col_element_data[15].text.strip())\n",
    "            col = col_element_data[15]\n",
    "            col.find('a', href=True)\n",
    "            a_tag = col.find('a', href=True)\n",
    "            if a_tag and 'Season.asp' in a_tag['href']:\n",
    "                value = a_tag['href'].split('=')[-1]            \n",
    "                season_years.append(value)\n",
    "\n",
    "    return season_years"
   ]
  },
  {
   "cell_type": "code",
   "execution_count": 5,
   "id": "6bdf8428",
   "metadata": {
    "execution": {
     "iopub.execute_input": "2023-08-11T18:42:15.901936Z",
     "iopub.status.busy": "2023-08-11T18:42:15.901246Z",
     "iopub.status.idle": "2023-08-11T18:42:17.058103Z",
     "shell.execute_reply": "2023-08-11T18:42:17.056574Z"
    },
    "papermill": {
     "duration": 1.167379,
     "end_time": "2023-08-11T18:42:17.060623",
     "exception": false,
     "start_time": "2023-08-11T18:42:15.893244",
     "status": "completed"
    },
    "tags": []
   },
   "outputs": [
    {
     "name": "stdout",
     "output_type": "stream",
     "text": [
      "http://www.bvbinfo.com/season.asp\n",
      "<class 'pandas.core.frame.DataFrame'>\n",
      "RangeIndex: 38 entries, 0 to 37\n",
      "Data columns (total 1 columns):\n",
      " #   Column  Non-Null Count  Dtype \n",
      "---  ------  --------------  ----- \n",
      " 0   YEAR    38 non-null     object\n",
      "dtypes: object(1)\n",
      "memory usage: 432.0+ bytes\n"
     ]
    }
   ],
   "source": [
    "season_years = bvbinfo_season_scraper()\n",
    "season_years_df = pd.DataFrame(season_years, columns=['YEAR'])\n",
    "season_years_df.info()"
   ]
  },
  {
   "cell_type": "markdown",
   "id": "98473dc1",
   "metadata": {
    "papermill": {
     "duration": 0.006213,
     "end_time": "2023-08-11T18:42:17.073540",
     "exception": false,
     "start_time": "2023-08-11T18:42:17.067327",
     "status": "completed"
    },
    "tags": []
   },
   "source": [
    "### Scrape Season Tournament IDs"
   ]
  },
  {
   "cell_type": "code",
   "execution_count": 6,
   "id": "c4d1d0a0",
   "metadata": {
    "execution": {
     "iopub.execute_input": "2023-08-11T18:42:17.090312Z",
     "iopub.status.busy": "2023-08-11T18:42:17.089893Z",
     "iopub.status.idle": "2023-08-11T18:42:17.095059Z",
     "shell.execute_reply": "2023-08-11T18:42:17.093889Z"
    },
    "papermill": {
     "duration": 0.017019,
     "end_time": "2023-08-11T18:42:17.097666",
     "exception": false,
     "start_time": "2023-08-11T18:42:17.080647",
     "status": "completed"
    },
    "tags": []
   },
   "outputs": [],
   "source": [
    "base_season_summ_url = \"http://www.bvbinfo.com/Season.asp?AssocID=3&Year=\""
   ]
  },
  {
   "cell_type": "code",
   "execution_count": 7,
   "id": "a9c66cb1",
   "metadata": {
    "execution": {
     "iopub.execute_input": "2023-08-11T18:42:17.114084Z",
     "iopub.status.busy": "2023-08-11T18:42:17.113271Z",
     "iopub.status.idle": "2023-08-11T18:42:17.123422Z",
     "shell.execute_reply": "2023-08-11T18:42:17.122474Z"
    },
    "papermill": {
     "duration": 0.021437,
     "end_time": "2023-08-11T18:42:17.126086",
     "exception": false,
     "start_time": "2023-08-11T18:42:17.104649",
     "status": "completed"
    },
    "tags": []
   },
   "outputs": [],
   "source": [
    "def bvbinfo_tourni_scraper(year):\n",
    "    url = base_season_summ_url + str(year)\n",
    "    print(url)\n",
    "    response = requests.get(url)\n",
    "    soup = BeautifulSoup(response.content, 'html.parser')\n",
    "\n",
    "    # Extracting team information from the table\n",
    "\n",
    "    table = soup.find_all('table')\n",
    "    print(\"len: \", len(table))\n",
    "    #if len(table) < 2:\n",
    "        #return []\n",
    "    rows = table[2].find_all('tr')\n",
    "    header_element = rows[3]\n",
    "    header_text = header_element.get_text(strip=True, separator=\"\\n\").split(\"\\n\")\n",
    "    # print(header_text)\n",
    "\n",
    "    tournament_ids = []\n",
    "\n",
    "    for cols_element in rows[4:]:\n",
    "        col_element_data = cols_element.find_all('td')\n",
    "        len_col_element_data = len(col_element_data)\n",
    "        if len_col_element_data > 1:\n",
    "            col = col_element_data[1]\n",
    "\n",
    "            col.find('a', href=True)\n",
    "            a_tag = col.find('a', href=True)\n",
    "            if a_tag and 'Tournament.asp' in a_tag['href']:\n",
    "                value = a_tag['href'].split('=')[-1]\n",
    "                tournament_ids.append(value)\n",
    "    return tournament_ids"
   ]
  },
  {
   "cell_type": "code",
   "execution_count": 8,
   "id": "fec4f735",
   "metadata": {
    "execution": {
     "iopub.execute_input": "2023-08-11T18:42:17.140984Z",
     "iopub.status.busy": "2023-08-11T18:42:17.140552Z",
     "iopub.status.idle": "2023-08-11T18:42:24.761839Z",
     "shell.execute_reply": "2023-08-11T18:42:24.760121Z"
    },
    "papermill": {
     "duration": 7.632846,
     "end_time": "2023-08-11T18:42:24.765402",
     "exception": false,
     "start_time": "2023-08-11T18:42:17.132556",
     "status": "completed"
    },
    "tags": []
   },
   "outputs": [
    {
     "name": "stdout",
     "output_type": "stream",
     "text": [
      "http://www.bvbinfo.com/Season.asp?AssocID=3&Year=2023\n",
      "len:  7\n",
      "http://www.bvbinfo.com/Season.asp?AssocID=3&Year=2022\n",
      "len:  6\n",
      "http://www.bvbinfo.com/Season.asp?AssocID=3&Year=2021\n",
      "len:  6\n",
      "http://www.bvbinfo.com/Season.asp?AssocID=3&Year=2020\n",
      "len:  6\n",
      "http://www.bvbinfo.com/Season.asp?AssocID=3&Year=2019\n",
      "len:  6\n",
      "http://www.bvbinfo.com/Season.asp?AssocID=3&Year=2018\n",
      "len:  6\n",
      "http://www.bvbinfo.com/Season.asp?AssocID=3&Year=2017\n",
      "len:  6\n",
      "http://www.bvbinfo.com/Season.asp?AssocID=3&Year=2016\n",
      "len:  6\n",
      "http://www.bvbinfo.com/Season.asp?AssocID=3&Year=2015\n",
      "len:  6\n",
      "http://www.bvbinfo.com/Season.asp?AssocID=3&Year=2014\n",
      "len:  6\n",
      "http://www.bvbinfo.com/Season.asp?AssocID=3&Year=2013\n",
      "len:  6\n",
      "http://www.bvbinfo.com/Season.asp?AssocID=3&Year=2012\n",
      "len:  6\n",
      "http://www.bvbinfo.com/Season.asp?AssocID=3&Year=2011\n",
      "len:  6\n",
      "http://www.bvbinfo.com/Season.asp?AssocID=3&Year=2010\n",
      "len:  6\n"
     ]
    }
   ],
   "source": [
    "columns = ['TOURNID']\n",
    "scraped_tournid_df = pd.DataFrame(columns=columns)\n",
    "\n",
    "years_list = season_years_df[(season_years_df['YEAR'] >= '2010') & (season_years_df['YEAR'] <= '2023')]['YEAR'].unique()\n",
    "for year in years_list:\n",
    "# for year in [2023]:\n",
    "    data = bvbinfo_tourni_scraper(year)\n",
    "    if data:  # Check if data is not empty\n",
    "        temp_df = pd.DataFrame(data, columns=['TOURNID'])\n",
    "        scraped_tournid_df = pd.concat([scraped_tournid_df, temp_df], ignore_index=True)"
   ]
  },
  {
   "cell_type": "code",
   "execution_count": 9,
   "id": "950132d5",
   "metadata": {
    "execution": {
     "iopub.execute_input": "2023-08-11T18:42:24.784782Z",
     "iopub.status.busy": "2023-08-11T18:42:24.784365Z",
     "iopub.status.idle": "2023-08-11T18:42:24.798311Z",
     "shell.execute_reply": "2023-08-11T18:42:24.797033Z"
    },
    "papermill": {
     "duration": 0.026022,
     "end_time": "2023-08-11T18:42:24.800967",
     "exception": false,
     "start_time": "2023-08-11T18:42:24.774945",
     "status": "completed"
    },
    "tags": []
   },
   "outputs": [
    {
     "name": "stdout",
     "output_type": "stream",
     "text": [
      "<class 'pandas.core.frame.DataFrame'>\n",
      "RangeIndex: 688 entries, 0 to 687\n",
      "Data columns (total 1 columns):\n",
      " #   Column   Non-Null Count  Dtype \n",
      "---  ------   --------------  ----- \n",
      " 0   TOURNID  688 non-null    object\n",
      "dtypes: object(1)\n",
      "memory usage: 5.5+ KB\n"
     ]
    }
   ],
   "source": [
    "scraped_tournid_df.info()"
   ]
  },
  {
   "cell_type": "markdown",
   "id": "da2252f2",
   "metadata": {
    "papermill": {
     "duration": 0.007647,
     "end_time": "2023-08-11T18:42:24.816638",
     "exception": false,
     "start_time": "2023-08-11T18:42:24.808991",
     "status": "completed"
    },
    "tags": []
   },
   "source": [
    "### Scrape Team Tournament Information"
   ]
  },
  {
   "cell_type": "code",
   "execution_count": 10,
   "id": "0ae4fd46",
   "metadata": {
    "execution": {
     "iopub.execute_input": "2023-08-11T18:42:24.834450Z",
     "iopub.status.busy": "2023-08-11T18:42:24.834012Z",
     "iopub.status.idle": "2023-08-11T18:42:24.839181Z",
     "shell.execute_reply": "2023-08-11T18:42:24.837901Z"
    },
    "papermill": {
     "duration": 0.016933,
     "end_time": "2023-08-11T18:42:24.841575",
     "exception": false,
     "start_time": "2023-08-11T18:42:24.824642",
     "status": "completed"
    },
    "tags": []
   },
   "outputs": [],
   "source": [
    "base_tournament_url = \"http://www.bvbinfo.com/Tournament.asp?ID=\""
   ]
  },
  {
   "cell_type": "code",
   "execution_count": 11,
   "id": "cc216585",
   "metadata": {
    "execution": {
     "iopub.execute_input": "2023-08-11T18:42:24.859406Z",
     "iopub.status.busy": "2023-08-11T18:42:24.859033Z",
     "iopub.status.idle": "2023-08-11T18:42:24.874334Z",
     "shell.execute_reply": "2023-08-11T18:42:24.873085Z"
    },
    "papermill": {
     "duration": 0.026999,
     "end_time": "2023-08-11T18:42:24.876675",
     "exception": false,
     "start_time": "2023-08-11T18:42:24.849676",
     "status": "completed"
    },
    "tags": []
   },
   "outputs": [],
   "source": [
    "\n",
    "def bvbinfo_team_scraper(tourn_id, top_n):\n",
    "    url = base_tournament_url + str(tourn_id)\n",
    "    print(url)\n",
    "    response = requests.get(url)\n",
    "    soup = BeautifulSoup(response.content, 'html.parser')\n",
    "\n",
    "    # Extracting team information from the table\n",
    "  \n",
    "    table = soup.find_all('table')\n",
    "    print(\"len: \", len(table))\n",
    "    if len(table) < 5:\n",
    "        return []\n",
    "    rows = table[4].find_all('tr')\n",
    "    header_element = rows[0]\n",
    "    header_text = header_element.get_text(strip=True, separator=\"\\n\").split(\"\\n\")\n",
    "    # Extract category, tournament, location, and start-end date\n",
    "    category = header_text[0].split(\"'\")[0]  \n",
    "    tournament = ' '.join(header_text[0].split()[4:])\n",
    "    location = header_text[0].split()[3]  \n",
    "    startenddate = header_text[1]  \n",
    "\n",
    "    event = str(tournament) + \" \" + str(category)\n",
    "    # Split by space to get month and day range\n",
    "    month, day_range, year = startenddate.split()[:3]\n",
    "\n",
    "    # Split day range by '-'\n",
    "    start_day, end_day = day_range.split('-')\n",
    "\n",
    "    # Construct tourniStartDate and tourniEndDate\n",
    "    tourniStartDate = f\"{month} {start_day}, {year}\"\n",
    "    tourniEndDate = f\"{month} {end_day}, {year}\"\n",
    "    \n",
    "    misc_info = []\n",
    "    misc_info =[tourniStartDate, tourniStartDate, location, event, tourn_id]\n",
    "    data = []\n",
    "    for cols_element in rows[2:]:\n",
    "        values = []\n",
    "        players = []\n",
    "        col_element_data = cols_element.find_all('td')\n",
    "        finish_rank = col_element_data[0].text.strip()\n",
    "        if 'Canada' in cols_element.get_text() or int(finish_rank) <= int(top_n) or finish_rank == 0:\n",
    "            for col in col_element_data[:-4]: # don't need all columns\n",
    "                a_tag = col.find('a', href=True)\n",
    "                if a_tag and 'player.asp' in a_tag['href']:\n",
    "                    value = a_tag['href'].split('=')[-1]\n",
    "                    players.append(value)\n",
    "                #else:\n",
    "                value = col.text.strip()\n",
    "                values.append(value)\n",
    "            data.append(values[:3] + players + values[3:] + misc_info)\n",
    "                 \n",
    "    return data\n"
   ]
  },
  {
   "cell_type": "code",
   "execution_count": 12,
   "id": "3ed06e2c",
   "metadata": {
    "execution": {
     "iopub.execute_input": "2023-08-11T18:42:24.895277Z",
     "iopub.status.busy": "2023-08-11T18:42:24.894082Z",
     "iopub.status.idle": "2023-08-11T18:42:47.783744Z",
     "shell.execute_reply": "2023-08-11T18:42:47.782444Z"
    },
    "papermill": {
     "duration": 22.902038,
     "end_time": "2023-08-11T18:42:47.786730",
     "exception": false,
     "start_time": "2023-08-11T18:42:24.884692",
     "status": "completed"
    },
    "tags": []
   },
   "outputs": [
    {
     "name": "stdout",
     "output_type": "stream",
     "text": [
      "http://www.bvbinfo.com/Tournament.asp?ID=3962\n",
      "len:  6\n",
      "http://www.bvbinfo.com/Tournament.asp?ID=3968\n",
      "len:  6\n",
      "http://www.bvbinfo.com/Tournament.asp?ID=3970\n",
      "len:  6\n",
      "http://www.bvbinfo.com/Tournament.asp?ID=3972\n",
      "len:  6\n",
      "http://www.bvbinfo.com/Tournament.asp?ID=3992\n",
      "len:  6\n",
      "http://www.bvbinfo.com/Tournament.asp?ID=3994\n",
      "len:  6\n",
      "http://www.bvbinfo.com/Tournament.asp?ID=3964\n",
      "len:  6\n",
      "http://www.bvbinfo.com/Tournament.asp?ID=3960\n",
      "len:  6\n",
      "http://www.bvbinfo.com/Tournament.asp?ID=3982\n",
      "len:  6\n",
      "http://www.bvbinfo.com/Tournament.asp?ID=4147\n",
      "len:  6\n",
      "http://www.bvbinfo.com/Tournament.asp?ID=4149\n",
      "len:  6\n",
      "http://www.bvbinfo.com/Tournament.asp?ID=4151\n",
      "len:  6\n",
      "http://www.bvbinfo.com/Tournament.asp?ID=3961\n",
      "len:  6\n",
      "http://www.bvbinfo.com/Tournament.asp?ID=3967\n",
      "len:  6\n",
      "http://www.bvbinfo.com/Tournament.asp?ID=3969\n",
      "len:  6\n",
      "http://www.bvbinfo.com/Tournament.asp?ID=3971\n",
      "len:  6\n",
      "http://www.bvbinfo.com/Tournament.asp?ID=3991\n",
      "len:  6\n",
      "http://www.bvbinfo.com/Tournament.asp?ID=3993\n",
      "len:  6\n",
      "http://www.bvbinfo.com/Tournament.asp?ID=3963\n",
      "len:  6\n",
      "http://www.bvbinfo.com/Tournament.asp?ID=3959\n",
      "len:  6\n",
      "http://www.bvbinfo.com/Tournament.asp?ID=3981\n",
      "len:  6\n",
      "http://www.bvbinfo.com/Tournament.asp?ID=4146\n",
      "len:  6\n",
      "http://www.bvbinfo.com/Tournament.asp?ID=4148\n",
      "len:  6\n",
      "http://www.bvbinfo.com/Tournament.asp?ID=4150\n",
      "len:  6\n",
      "http://www.bvbinfo.com/Tournament.asp?ID=3985\n",
      "len:  6\n",
      "http://www.bvbinfo.com/Tournament.asp?ID=3987\n",
      "len:  6\n",
      "http://www.bvbinfo.com/Tournament.asp?ID=4053\n",
      "len:  6\n",
      "http://www.bvbinfo.com/Tournament.asp?ID=4055\n",
      "len:  6\n",
      "http://www.bvbinfo.com/Tournament.asp?ID=4057\n",
      "len:  6\n",
      "http://www.bvbinfo.com/Tournament.asp?ID=4059\n",
      "len:  6\n",
      "http://www.bvbinfo.com/Tournament.asp?ID=3995\n",
      "len:  6\n",
      "http://www.bvbinfo.com/Tournament.asp?ID=4127\n",
      "len:  6\n",
      "http://www.bvbinfo.com/Tournament.asp?ID=4129\n",
      "len:  6\n",
      "http://www.bvbinfo.com/Tournament.asp?ID=3979\n",
      "len:  6\n",
      "http://www.bvbinfo.com/Tournament.asp?ID=4168\n",
      "len:  6\n",
      "http://www.bvbinfo.com/Tournament.asp?ID=4166\n",
      "len:  6\n",
      "http://www.bvbinfo.com/Tournament.asp?ID=4170\n",
      "len:  6\n",
      "http://www.bvbinfo.com/Tournament.asp?ID=3986\n",
      "len:  6\n",
      "http://www.bvbinfo.com/Tournament.asp?ID=3988\n",
      "len:  6\n",
      "http://www.bvbinfo.com/Tournament.asp?ID=4054\n",
      "len:  6\n",
      "http://www.bvbinfo.com/Tournament.asp?ID=4056\n",
      "len:  6\n",
      "http://www.bvbinfo.com/Tournament.asp?ID=4058\n",
      "len:  6\n",
      "http://www.bvbinfo.com/Tournament.asp?ID=4060\n",
      "len:  6\n",
      "http://www.bvbinfo.com/Tournament.asp?ID=3996\n",
      "len:  6\n",
      "http://www.bvbinfo.com/Tournament.asp?ID=4128\n",
      "len:  6\n",
      "http://www.bvbinfo.com/Tournament.asp?ID=4130\n",
      "len:  6\n",
      "http://www.bvbinfo.com/Tournament.asp?ID=3980\n",
      "len:  6\n",
      "http://www.bvbinfo.com/Tournament.asp?ID=4169\n",
      "len:  6\n",
      "http://www.bvbinfo.com/Tournament.asp?ID=4167\n",
      "len:  6\n",
      "http://www.bvbinfo.com/Tournament.asp?ID=4171\n",
      "len:  6\n"
     ]
    }
   ],
   "source": [
    "columns = ['Finish', 'Player', 'Partner', 'Player_ID', 'Partner_ID', 'Country'\n",
    "           , 'TourniStartDate', 'TourniEndDate', 'TournLocation', 'Event', 'TOURNID']\n",
    "scraped_team_df = pd.DataFrame(columns=columns)\n",
    "\n",
    "for tournament_id in tourn_id_df['TOURNID']:\n",
    "#for tournament_id in [3985]:\n",
    "    data = bvbinfo_team_scraper(tournament_id, 5)\n",
    "    if data:  # Check if data is not empty\n",
    "        temp_df = pd.DataFrame(data, columns=columns)\n",
    "        scraped_team_df = pd.concat([scraped_team_df, temp_df], ignore_index=True)"
   ]
  },
  {
   "cell_type": "code",
   "execution_count": 13,
   "id": "f87d1e67",
   "metadata": {
    "execution": {
     "iopub.execute_input": "2023-08-11T18:42:47.813670Z",
     "iopub.status.busy": "2023-08-11T18:42:47.813250Z",
     "iopub.status.idle": "2023-08-11T18:42:47.841390Z",
     "shell.execute_reply": "2023-08-11T18:42:47.840048Z"
    },
    "papermill": {
     "duration": 0.044884,
     "end_time": "2023-08-11T18:42:47.844272",
     "exception": false,
     "start_time": "2023-08-11T18:42:47.799388",
     "status": "completed"
    },
    "tags": []
   },
   "outputs": [
    {
     "data": {
      "text/html": [
       "<div>\n",
       "<style scoped>\n",
       "    .dataframe tbody tr th:only-of-type {\n",
       "        vertical-align: middle;\n",
       "    }\n",
       "\n",
       "    .dataframe tbody tr th {\n",
       "        vertical-align: top;\n",
       "    }\n",
       "\n",
       "    .dataframe thead th {\n",
       "        text-align: right;\n",
       "    }\n",
       "</style>\n",
       "<table border=\"1\" class=\"dataframe\">\n",
       "  <thead>\n",
       "    <tr style=\"text-align: right;\">\n",
       "      <th></th>\n",
       "      <th>Finish</th>\n",
       "      <th>Player</th>\n",
       "      <th>Partner</th>\n",
       "      <th>Player_ID</th>\n",
       "      <th>Partner_ID</th>\n",
       "      <th>Country</th>\n",
       "      <th>TourniStartDate</th>\n",
       "      <th>TourniEndDate</th>\n",
       "      <th>TournLocation</th>\n",
       "      <th>Event</th>\n",
       "      <th>TOURNID</th>\n",
       "    </tr>\n",
       "  </thead>\n",
       "  <tbody>\n",
       "    <tr>\n",
       "      <th>0</th>\n",
       "      <td>1</td>\n",
       "      <td>Raisa Schoon</td>\n",
       "      <td>Katja Stam</td>\n",
       "      <td>16919</td>\n",
       "      <td>16917</td>\n",
       "      <td>Netherlands</td>\n",
       "      <td>March 23, 2022</td>\n",
       "      <td>March 23, 2022</td>\n",
       "      <td>Rosarito</td>\n",
       "      <td>Elite 16 Women</td>\n",
       "      <td>3962</td>\n",
       "    </tr>\n",
       "    <tr>\n",
       "      <th>1</th>\n",
       "      <td>2</td>\n",
       "      <td>Tina Graudina</td>\n",
       "      <td>Anastasija Samoilova</td>\n",
       "      <td>14462</td>\n",
       "      <td>14774</td>\n",
       "      <td>Latvia</td>\n",
       "      <td>March 23, 2022</td>\n",
       "      <td>March 23, 2022</td>\n",
       "      <td>Rosarito</td>\n",
       "      <td>Elite 16 Women</td>\n",
       "      <td>3962</td>\n",
       "    </tr>\n",
       "    <tr>\n",
       "      <th>2</th>\n",
       "      <td>3</td>\n",
       "      <td>Talita Antunes</td>\n",
       "      <td>Rebecca Cavalcanti</td>\n",
       "      <td>5146</td>\n",
       "      <td>11610</td>\n",
       "      <td>Brazil</td>\n",
       "      <td>March 23, 2022</td>\n",
       "      <td>March 23, 2022</td>\n",
       "      <td>Rosarito</td>\n",
       "      <td>Elite 16 Women</td>\n",
       "      <td>3962</td>\n",
       "    </tr>\n",
       "    <tr>\n",
       "      <th>3</th>\n",
       "      <td>4</td>\n",
       "      <td>Kelly Cheng</td>\n",
       "      <td>Betsi Flint</td>\n",
       "      <td>14478</td>\n",
       "      <td>12974</td>\n",
       "      <td>United States</td>\n",
       "      <td>March 23, 2022</td>\n",
       "      <td>March 23, 2022</td>\n",
       "      <td>Rosarito</td>\n",
       "      <td>Elite 16 Women</td>\n",
       "      <td>3962</td>\n",
       "    </tr>\n",
       "    <tr>\n",
       "      <th>4</th>\n",
       "      <td>5</td>\n",
       "      <td>Duda Lisboa</td>\n",
       "      <td>Ana Patricia Silva</td>\n",
       "      <td>13802</td>\n",
       "      <td>15329</td>\n",
       "      <td>Brazil</td>\n",
       "      <td>March 23, 2022</td>\n",
       "      <td>March 23, 2022</td>\n",
       "      <td>Rosarito</td>\n",
       "      <td>Elite 16 Women</td>\n",
       "      <td>3962</td>\n",
       "    </tr>\n",
       "    <tr>\n",
       "      <th>...</th>\n",
       "      <td>...</td>\n",
       "      <td>...</td>\n",
       "      <td>...</td>\n",
       "      <td>...</td>\n",
       "      <td>...</td>\n",
       "      <td>...</td>\n",
       "      <td>...</td>\n",
       "      <td>...</td>\n",
       "      <td>...</td>\n",
       "      <td>...</td>\n",
       "      <td>...</td>\n",
       "    </tr>\n",
       "    <tr>\n",
       "      <th>453</th>\n",
       "      <td>5</td>\n",
       "      <td>Jagoda Gruszczynska</td>\n",
       "      <td>Aleksandra Wachowicz</td>\n",
       "      <td>13339</td>\n",
       "      <td>17223</td>\n",
       "      <td>Poland</td>\n",
       "      <td>April 13, 2023</td>\n",
       "      <td>April 13, 2023</td>\n",
       "      <td>BPT</td>\n",
       "      <td>Challenge Saquarema Women</td>\n",
       "      <td>4171</td>\n",
       "    </tr>\n",
       "    <tr>\n",
       "      <th>454</th>\n",
       "      <td>5</td>\n",
       "      <td>Talita Antunes</td>\n",
       "      <td>Thamela Coradelli</td>\n",
       "      <td>5146</td>\n",
       "      <td>18464</td>\n",
       "      <td>Brazil</td>\n",
       "      <td>April 13, 2023</td>\n",
       "      <td>April 13, 2023</td>\n",
       "      <td>BPT</td>\n",
       "      <td>Challenge Saquarema Women</td>\n",
       "      <td>4171</td>\n",
       "    </tr>\n",
       "    <tr>\n",
       "      <th>455</th>\n",
       "      <td>5</td>\n",
       "      <td>Liliana Fernandez</td>\n",
       "      <td>Paula Soria</td>\n",
       "      <td>8380</td>\n",
       "      <td>11614</td>\n",
       "      <td>Spain</td>\n",
       "      <td>April 13, 2023</td>\n",
       "      <td>April 13, 2023</td>\n",
       "      <td>BPT</td>\n",
       "      <td>Challenge Saquarema Women</td>\n",
       "      <td>4171</td>\n",
       "    </tr>\n",
       "    <tr>\n",
       "      <th>456</th>\n",
       "      <td>25</td>\n",
       "      <td>Marie-Alex Belanger</td>\n",
       "      <td>Molley McBain</td>\n",
       "      <td>21327</td>\n",
       "      <td>18610</td>\n",
       "      <td>Canada</td>\n",
       "      <td>April 13, 2023</td>\n",
       "      <td>April 13, 2023</td>\n",
       "      <td>BPT</td>\n",
       "      <td>Challenge Saquarema Women</td>\n",
       "      <td>4171</td>\n",
       "    </tr>\n",
       "    <tr>\n",
       "      <th>457</th>\n",
       "      <td>33</td>\n",
       "      <td>Alison Mckay</td>\n",
       "      <td>Katharine Wuttunee</td>\n",
       "      <td>21898</td>\n",
       "      <td>21129</td>\n",
       "      <td>Canada</td>\n",
       "      <td>April 13, 2023</td>\n",
       "      <td>April 13, 2023</td>\n",
       "      <td>BPT</td>\n",
       "      <td>Challenge Saquarema Women</td>\n",
       "      <td>4171</td>\n",
       "    </tr>\n",
       "  </tbody>\n",
       "</table>\n",
       "<p>458 rows × 11 columns</p>\n",
       "</div>"
      ],
      "text/plain": [
       "    Finish               Player               Partner Player_ID Partner_ID  \\\n",
       "0        1         Raisa Schoon            Katja Stam     16919      16917   \n",
       "1        2        Tina Graudina  Anastasija Samoilova     14462      14774   \n",
       "2        3       Talita Antunes    Rebecca Cavalcanti      5146      11610   \n",
       "3        4          Kelly Cheng           Betsi Flint     14478      12974   \n",
       "4        5          Duda Lisboa    Ana Patricia Silva     13802      15329   \n",
       "..     ...                  ...                   ...       ...        ...   \n",
       "453      5  Jagoda Gruszczynska  Aleksandra Wachowicz     13339      17223   \n",
       "454      5       Talita Antunes     Thamela Coradelli      5146      18464   \n",
       "455      5    Liliana Fernandez           Paula Soria      8380      11614   \n",
       "456     25  Marie-Alex Belanger         Molley McBain     21327      18610   \n",
       "457     33         Alison Mckay    Katharine Wuttunee     21898      21129   \n",
       "\n",
       "           Country TourniStartDate   TourniEndDate TournLocation  \\\n",
       "0      Netherlands  March 23, 2022  March 23, 2022      Rosarito   \n",
       "1           Latvia  March 23, 2022  March 23, 2022      Rosarito   \n",
       "2           Brazil  March 23, 2022  March 23, 2022      Rosarito   \n",
       "3    United States  March 23, 2022  March 23, 2022      Rosarito   \n",
       "4           Brazil  March 23, 2022  March 23, 2022      Rosarito   \n",
       "..             ...             ...             ...           ...   \n",
       "453         Poland  April 13, 2023  April 13, 2023           BPT   \n",
       "454         Brazil  April 13, 2023  April 13, 2023           BPT   \n",
       "455          Spain  April 13, 2023  April 13, 2023           BPT   \n",
       "456         Canada  April 13, 2023  April 13, 2023           BPT   \n",
       "457         Canada  April 13, 2023  April 13, 2023           BPT   \n",
       "\n",
       "                         Event TOURNID  \n",
       "0               Elite 16 Women    3962  \n",
       "1               Elite 16 Women    3962  \n",
       "2               Elite 16 Women    3962  \n",
       "3               Elite 16 Women    3962  \n",
       "4               Elite 16 Women    3962  \n",
       "..                         ...     ...  \n",
       "453  Challenge Saquarema Women    4171  \n",
       "454  Challenge Saquarema Women    4171  \n",
       "455  Challenge Saquarema Women    4171  \n",
       "456  Challenge Saquarema Women    4171  \n",
       "457  Challenge Saquarema Women    4171  \n",
       "\n",
       "[458 rows x 11 columns]"
      ]
     },
     "execution_count": 13,
     "metadata": {},
     "output_type": "execute_result"
    }
   ],
   "source": [
    "scraped_team_df"
   ]
  },
  {
   "cell_type": "code",
   "execution_count": 14,
   "id": "9a427b5d",
   "metadata": {
    "execution": {
     "iopub.execute_input": "2023-08-11T18:42:47.873412Z",
     "iopub.status.busy": "2023-08-11T18:42:47.872518Z",
     "iopub.status.idle": "2023-08-11T18:42:47.887641Z",
     "shell.execute_reply": "2023-08-11T18:42:47.886411Z"
    },
    "papermill": {
     "duration": 0.03314,
     "end_time": "2023-08-11T18:42:47.890489",
     "exception": false,
     "start_time": "2023-08-11T18:42:47.857349",
     "status": "completed"
    },
    "tags": []
   },
   "outputs": [],
   "source": [
    "scraped_team_df.to_csv(\"scraped_tournament_info.csv\")"
   ]
  }
 ],
 "metadata": {
  "kernelspec": {
   "display_name": "Python 3",
   "language": "python",
   "name": "python3"
  },
  "language_info": {
   "codemirror_mode": {
    "name": "ipython",
    "version": 3
   },
   "file_extension": ".py",
   "mimetype": "text/x-python",
   "name": "python",
   "nbconvert_exporter": "python",
   "pygments_lexer": "ipython3",
   "version": "3.10.12"
  },
  "papermill": {
   "default_parameters": {},
   "duration": 45.144468,
   "end_time": "2023-08-11T18:42:48.830062",
   "environment_variables": {},
   "exception": null,
   "input_path": "__notebook__.ipynb",
   "output_path": "__notebook__.ipynb",
   "parameters": {},
   "start_time": "2023-08-11T18:42:03.685594",
   "version": "2.4.0"
  }
 },
 "nbformat": 4,
 "nbformat_minor": 5
}

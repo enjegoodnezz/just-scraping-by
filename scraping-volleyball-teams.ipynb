{
 "cells": [
  {
   "cell_type": "code",
   "execution_count": 1,
   "id": "7357cb4b",
   "metadata": {
    "_cell_guid": "b1076dfc-b9ad-4769-8c92-a6c4dae69d19",
    "_uuid": "8f2839f25d086af736a60e9eeb907d3b93b6e0e5",
    "execution": {
     "iopub.execute_input": "2023-08-12T00:34:25.320763Z",
     "iopub.status.busy": "2023-08-12T00:34:25.320312Z",
     "iopub.status.idle": "2023-08-12T00:34:25.528920Z",
     "shell.execute_reply": "2023-08-12T00:34:25.527820Z"
    },
    "papermill": {
     "duration": 0.218522,
     "end_time": "2023-08-12T00:34:25.531102",
     "exception": false,
     "start_time": "2023-08-12T00:34:25.312580",
     "status": "completed"
    },
    "tags": []
   },
   "outputs": [
    {
     "name": "stdout",
     "output_type": "stream",
     "text": [
      "/kaggle/input/unique-bvbinfo-tournament-id/unique_tournid.csv\n"
     ]
    }
   ],
   "source": [
    "import numpy as np # linear algebra\n",
    "import pandas as pd # data processing, CSV file I/O (e.g. pd.read_csv)\n",
    "\n",
    "import os\n",
    "for dirname, _, filenames in os.walk('/kaggle/input'):\n",
    "    for filename in filenames:\n",
    "        print(os.path.join(dirname, filename))\n",
    "\n",
    "import requests\n",
    "from bs4 import BeautifulSoup"
   ]
  },
  {
   "cell_type": "markdown",
   "id": "0ea27918",
   "metadata": {
    "papermill": {
     "duration": 0.00511,
     "end_time": "2023-08-12T00:34:25.542449",
     "exception": false,
     "start_time": "2023-08-12T00:34:25.537339",
     "status": "completed"
    },
    "tags": []
   },
   "source": [
    "### Scrape Sessions"
   ]
  },
  {
   "cell_type": "code",
   "execution_count": 2,
   "id": "58954253",
   "metadata": {
    "execution": {
     "iopub.execute_input": "2023-08-12T00:34:25.555419Z",
     "iopub.status.busy": "2023-08-12T00:34:25.554785Z",
     "iopub.status.idle": "2023-08-12T00:34:25.559674Z",
     "shell.execute_reply": "2023-08-12T00:34:25.558504Z"
    },
    "papermill": {
     "duration": 0.013606,
     "end_time": "2023-08-12T00:34:25.561591",
     "exception": false,
     "start_time": "2023-08-12T00:34:25.547985",
     "status": "completed"
    },
    "tags": []
   },
   "outputs": [],
   "source": [
    "base_season_url = \"http://www.bvbinfo.com/season.asp\""
   ]
  },
  {
   "cell_type": "code",
   "execution_count": 3,
   "id": "228b2592",
   "metadata": {
    "execution": {
     "iopub.execute_input": "2023-08-12T00:34:25.573816Z",
     "iopub.status.busy": "2023-08-12T00:34:25.573463Z",
     "iopub.status.idle": "2023-08-12T00:34:25.583819Z",
     "shell.execute_reply": "2023-08-12T00:34:25.583023Z"
    },
    "papermill": {
     "duration": 0.018947,
     "end_time": "2023-08-12T00:34:25.585976",
     "exception": false,
     "start_time": "2023-08-12T00:34:25.567029",
     "status": "completed"
    },
    "tags": []
   },
   "outputs": [],
   "source": [
    "def bvbinfo_season_scraper():\n",
    "    url = base_season_url\n",
    "    \n",
    "    year_index = 0\n",
    "    fivb_index = 15\n",
    "    \n",
    "    response = requests.get(url)\n",
    "    soup = BeautifulSoup(response.content, 'html.parser')\n",
    "\n",
    "    # Extracting team information from the table\n",
    "    table = soup.find_all('table')\n",
    "\n",
    "    if len(table) < 2:\n",
    "        return []\n",
    "    rows = table[2].find_all('tr')\n",
    "    header_element = rows[2]\n",
    "    header_text = header_element.get_text(strip=True, separator=\"\\n\").split(\"\\n\")\n",
    "    print(header_text[year_index], header_text[fivb_index])\n",
    "    \n",
    "    if (header_text[year_index].upper() != 'YEAR') or (header_text[fivb_index].upper() != 'FIVB'):\n",
    "        print(f\"bvbinfo_season_scraper - Error: check website structure\")\n",
    "        return []\n",
    "        \n",
    "    season_years = []\n",
    "    for cols_element in rows[3:]:\n",
    "        try:\n",
    "            col_element_data = cols_element.find_all('td')\n",
    "            len_col_element_data = len(col_element_data)\n",
    "\n",
    "            if len_col_element_data >= fivb_index:\n",
    "                col = col_element_data[fivb_index]\n",
    "                col.find('a', href=True)\n",
    "                a_tag = col.find('a', href=True)\n",
    "                if a_tag and 'Season.asp' in a_tag['href']:\n",
    "                    value = a_tag['href'].split('=')[-1]            \n",
    "                    season_years.append(value)\n",
    "        except ValueError as e:\n",
    "                print(f\"bvbinfo_tourni_scraper - Error: {e.args[0]}\")\n",
    "\n",
    "    return season_years"
   ]
  },
  {
   "cell_type": "code",
   "execution_count": 4,
   "id": "f3b3a862",
   "metadata": {
    "execution": {
     "iopub.execute_input": "2023-08-12T00:34:25.598501Z",
     "iopub.status.busy": "2023-08-12T00:34:25.598152Z",
     "iopub.status.idle": "2023-08-12T00:34:26.730509Z",
     "shell.execute_reply": "2023-08-12T00:34:26.729373Z"
    },
    "papermill": {
     "duration": 1.141322,
     "end_time": "2023-08-12T00:34:26.732792",
     "exception": false,
     "start_time": "2023-08-12T00:34:25.591470",
     "status": "completed"
    },
    "tags": []
   },
   "outputs": [
    {
     "name": "stdout",
     "output_type": "stream",
     "text": [
      "Year FIVB\n",
      "<class 'pandas.core.frame.DataFrame'>\n",
      "RangeIndex: 38 entries, 0 to 37\n",
      "Data columns (total 1 columns):\n",
      " #   Column  Non-Null Count  Dtype \n",
      "---  ------  --------------  ----- \n",
      " 0   YEAR    38 non-null     object\n",
      "dtypes: object(1)\n",
      "memory usage: 432.0+ bytes\n"
     ]
    }
   ],
   "source": [
    "season_years = bvbinfo_season_scraper()\n",
    "season_years_df = pd.DataFrame(season_years, columns=['YEAR'])\n",
    "season_years_df.info()"
   ]
  },
  {
   "cell_type": "markdown",
   "id": "f7eb590e",
   "metadata": {
    "papermill": {
     "duration": 0.005453,
     "end_time": "2023-08-12T00:34:26.744188",
     "exception": false,
     "start_time": "2023-08-12T00:34:26.738735",
     "status": "completed"
    },
    "tags": []
   },
   "source": [
    "### Scrape Season Tournament IDs"
   ]
  },
  {
   "cell_type": "code",
   "execution_count": 5,
   "id": "20d53b50",
   "metadata": {
    "execution": {
     "iopub.execute_input": "2023-08-12T00:34:26.756919Z",
     "iopub.status.busy": "2023-08-12T00:34:26.756607Z",
     "iopub.status.idle": "2023-08-12T00:34:26.761072Z",
     "shell.execute_reply": "2023-08-12T00:34:26.760013Z"
    },
    "papermill": {
     "duration": 0.013259,
     "end_time": "2023-08-12T00:34:26.763036",
     "exception": false,
     "start_time": "2023-08-12T00:34:26.749777",
     "status": "completed"
    },
    "tags": []
   },
   "outputs": [],
   "source": [
    "base_season_summ_url = \"http://www.bvbinfo.com/Season.asp?AssocID=3&Year=\""
   ]
  },
  {
   "cell_type": "code",
   "execution_count": 6,
   "id": "b8a08ae8",
   "metadata": {
    "execution": {
     "iopub.execute_input": "2023-08-12T00:34:26.775756Z",
     "iopub.status.busy": "2023-08-12T00:34:26.775458Z",
     "iopub.status.idle": "2023-08-12T00:34:26.785037Z",
     "shell.execute_reply": "2023-08-12T00:34:26.784000Z"
    },
    "papermill": {
     "duration": 0.018626,
     "end_time": "2023-08-12T00:34:26.787223",
     "exception": false,
     "start_time": "2023-08-12T00:34:26.768597",
     "status": "completed"
    },
    "tags": []
   },
   "outputs": [],
   "source": [
    "def bvbinfo_tourni_scraper(year):\n",
    "    url = base_season_summ_url + str(year)\n",
    "    \n",
    "    location_index = 1\n",
    "    \n",
    "    response = requests.get(url)\n",
    "    soup = BeautifulSoup(response.content, 'html.parser')\n",
    "\n",
    "    # Extracting team information from the table\n",
    "    table = soup.find_all('table')\n",
    "\n",
    "    if len(table) < 2:\n",
    "        return []\n",
    "    rows = table[2].find_all('tr')\n",
    "    header_element = rows[3]\n",
    "    header_text = header_element.get_text(strip=True, separator=\"\\n\").split(\"\\n\")\n",
    "    \n",
    "    if header_text[location_index].upper() != 'LOCATION':\n",
    "        print(f\"bvbinfo_tourni_scraper - Error: check website structure\")\n",
    "        return []\n",
    "    tournament_ids = []\n",
    "\n",
    "    for cols_element in rows[4:]:\n",
    "        try:\n",
    "            col_element_data = cols_element.find_all('td')\n",
    "            len_col_element_data = len(col_element_data)\n",
    "            if len_col_element_data > location_index:\n",
    "                col = col_element_data[location_index]\n",
    "\n",
    "                col.find('a', href=True)\n",
    "                a_tag = col.find('a', href=True)\n",
    "                if a_tag and 'Tournament.asp' in a_tag['href']:\n",
    "                    value = a_tag['href'].split('=')[-1]\n",
    "                    tournament_ids.append(value)                \n",
    "        except ValueError as e:\n",
    "                print(f\"bvbinfo_tourni_scraper - Error: {e.args[0]}\")\n",
    "                \n",
    "    return tournament_ids"
   ]
  },
  {
   "cell_type": "code",
   "execution_count": 7,
   "id": "4ead2f83",
   "metadata": {
    "execution": {
     "iopub.execute_input": "2023-08-12T00:34:26.799951Z",
     "iopub.status.busy": "2023-08-12T00:34:26.799646Z",
     "iopub.status.idle": "2023-08-12T00:34:34.168227Z",
     "shell.execute_reply": "2023-08-12T00:34:34.166478Z"
    },
    "papermill": {
     "duration": 7.379194,
     "end_time": "2023-08-12T00:34:34.172076",
     "exception": false,
     "start_time": "2023-08-12T00:34:26.792882",
     "status": "completed"
    },
    "tags": []
   },
   "outputs": [],
   "source": [
    "columns = ['TOURNID']\n",
    "scraped_tournid_df = pd.DataFrame(columns=columns)\n",
    "\n",
    "years_list = season_years_df[(season_years_df['YEAR'] >= '2010') & (season_years_df['YEAR'] <= '2023')]['YEAR'].unique()\n",
    "for year in years_list:\n",
    "    data = bvbinfo_tourni_scraper(year)\n",
    "    if data:  # Check if data is not empty\n",
    "        temp_df = pd.DataFrame(data, columns=['TOURNID'])\n",
    "        scraped_tournid_df = pd.concat([scraped_tournid_df, temp_df], ignore_index=True)"
   ]
  },
  {
   "cell_type": "code",
   "execution_count": 8,
   "id": "59e567ee",
   "metadata": {
    "execution": {
     "iopub.execute_input": "2023-08-12T00:34:34.187135Z",
     "iopub.status.busy": "2023-08-12T00:34:34.186172Z",
     "iopub.status.idle": "2023-08-12T00:34:34.198265Z",
     "shell.execute_reply": "2023-08-12T00:34:34.197096Z"
    },
    "papermill": {
     "duration": 0.021292,
     "end_time": "2023-08-12T00:34:34.200470",
     "exception": false,
     "start_time": "2023-08-12T00:34:34.179178",
     "status": "completed"
    },
    "tags": []
   },
   "outputs": [
    {
     "name": "stdout",
     "output_type": "stream",
     "text": [
      "TOURNID    0\n",
      "dtype: int64\n",
      "<class 'pandas.core.frame.DataFrame'>\n",
      "RangeIndex: 688 entries, 0 to 687\n",
      "Data columns (total 1 columns):\n",
      " #   Column   Non-Null Count  Dtype \n",
      "---  ------   --------------  ----- \n",
      " 0   TOURNID  688 non-null    object\n",
      "dtypes: object(1)\n",
      "memory usage: 5.5+ KB\n"
     ]
    }
   ],
   "source": [
    "print(scraped_tournid_df.isnull().sum())\n",
    "scraped_tournid_df.info()"
   ]
  },
  {
   "cell_type": "markdown",
   "id": "5cda9235",
   "metadata": {
    "papermill": {
     "duration": 0.005512,
     "end_time": "2023-08-12T00:34:34.213245",
     "exception": false,
     "start_time": "2023-08-12T00:34:34.207733",
     "status": "completed"
    },
    "tags": []
   },
   "source": [
    "### Scrape Team Tournament Information"
   ]
  },
  {
   "cell_type": "code",
   "execution_count": 9,
   "id": "bff73f9c",
   "metadata": {
    "execution": {
     "iopub.execute_input": "2023-08-12T00:34:34.226536Z",
     "iopub.status.busy": "2023-08-12T00:34:34.225743Z",
     "iopub.status.idle": "2023-08-12T00:34:34.230338Z",
     "shell.execute_reply": "2023-08-12T00:34:34.229668Z"
    },
    "papermill": {
     "duration": 0.013165,
     "end_time": "2023-08-12T00:34:34.232192",
     "exception": false,
     "start_time": "2023-08-12T00:34:34.219027",
     "status": "completed"
    },
    "tags": []
   },
   "outputs": [],
   "source": [
    "base_tournament_url = \"http://www.bvbinfo.com/Tournament.asp?ID=\"\n",
    "\n",
    "columns = ['Finish', 'Player', 'Partner', 'Player_ID', 'Partner_ID', 'Country'\n",
    "           , 'TourniStartDate', 'TourniEndDate', 'TournLocation', 'Event', 'TOURNID']\n",
    "\n",
    "tournament_list = ['CHALLENGE','ELITE16']\n",
    "len_columns = len(columns)"
   ]
  },
  {
   "cell_type": "code",
   "execution_count": 10,
   "id": "ae0b5bf0",
   "metadata": {
    "execution": {
     "iopub.execute_input": "2023-08-12T00:34:34.245358Z",
     "iopub.status.busy": "2023-08-12T00:34:34.245023Z",
     "iopub.status.idle": "2023-08-12T00:34:34.251916Z",
     "shell.execute_reply": "2023-08-12T00:34:34.250995Z"
    },
    "papermill": {
     "duration": 0.01606,
     "end_time": "2023-08-12T00:34:34.254097",
     "exception": false,
     "start_time": "2023-08-12T00:34:34.238037",
     "status": "completed"
    },
    "tags": []
   },
   "outputs": [],
   "source": [
    "import re\n",
    "from datetime import datetime\n",
    "def extract_dates(s):\n",
    "    # Regular expression pattern to match the date scenarios\n",
    "    pattern = r\"([A-Za-z]+) (\\d+)-(?:([A-Za-z]+) )?(\\d+), (\\d{4})\"\n",
    "    match = re.search(pattern, s)\n",
    "    \n",
    "    if not match:\n",
    "        return None, None\n",
    "\n",
    "    start_month, start_day, end_month, end_day, year = match.groups()\n",
    "    # If end_month is not provided, use start_month\n",
    "    end_month = end_month or start_month\n",
    "    \n",
    "    start_date_str = f\"{start_month} {start_day}, {year}\"\n",
    "    end_date_str = f\"{end_month} {end_day}, {year}\"\n",
    "    \n",
    "    # Convert to datetime objects for further processing if needed\n",
    "    start_date = datetime.strptime(start_date_str, '%B %d, %Y').date()\n",
    "    end_date = datetime.strptime(end_date_str, '%B %d, %Y').date()\n",
    "    \n",
    "    return start_date, end_date"
   ]
  },
  {
   "cell_type": "code",
   "execution_count": 11,
   "id": "52902a08",
   "metadata": {
    "execution": {
     "iopub.execute_input": "2023-08-12T00:34:34.266903Z",
     "iopub.status.busy": "2023-08-12T00:34:34.266564Z",
     "iopub.status.idle": "2023-08-12T00:34:34.282158Z",
     "shell.execute_reply": "2023-08-12T00:34:34.281170Z"
    },
    "papermill": {
     "duration": 0.02441,
     "end_time": "2023-08-12T00:34:34.284250",
     "exception": false,
     "start_time": "2023-08-12T00:34:34.259840",
     "status": "completed"
    },
    "tags": []
   },
   "outputs": [],
   "source": [
    "\n",
    "def bvbinfo_team_scraper(tourn_id, top_n):\n",
    "    url = base_tournament_url + str(tourn_id)\n",
    "\n",
    "    response = requests.get(url)\n",
    "    soup = BeautifulSoup(response.content, 'html.parser')\n",
    "\n",
    "    # Extracting team information from the table  \n",
    "    table = soup.find_all('table')\n",
    "\n",
    "    if len(table) < 5:\n",
    "        return []\n",
    "    rows = table[4].find_all('tr')\n",
    "    header_element = rows[0]\n",
    "    header_text = header_element.get_text(strip=True, separator=\"\\n\").split(\"\\n\")\n",
    "   \n",
    "    # Extract category, tournament, location, and start-end date\n",
    "    category = header_text[0].split(\"'\")[0]  \n",
    "    tournament = ''.join(header_text[0].split()[4:])\n",
    "    location = header_text[0].split()[3]  \n",
    "    startenddate = header_text[1]  \n",
    "\n",
    "    #print(startenddate)    \n",
    "    tourniStartDate, tourniEndDate = extract_dates(startenddate)        \n",
    "    \n",
    "    event = str(tournament) + \" \" + str(category)\n",
    "    \n",
    "    misc_info = []\n",
    "    misc_info =[tourniStartDate, tourniEndDate, location, event, tourn_id]\n",
    "    data = []\n",
    "            \n",
    "    fetch_columns = columns[:3] + [columns[5]]\n",
    "    \n",
    "    row_data = rows[1].find_all('td')\n",
    "    for val in row_data[:4]:\n",
    "        # print(val.text.strip(), fetch_columns)\n",
    "        if val.text.strip() not in fetch_columns:\n",
    "            print(f\"bvbinfo_team_scraper - Error: check website structure\")\n",
    "            return []\n",
    "        \n",
    "    if len([1 for val in tournament_list if val in tournament.upper()]) == 0:\n",
    "        return []\n",
    "\n",
    "    for cols_element in rows[2:]:\n",
    "        values = []\n",
    "        players = []\n",
    "        \n",
    "        try:\n",
    "            col_element_data = cols_element.find_all('td')\n",
    "            finish_rank = col_element_data[0].text.strip()\n",
    "            if not finish_rank:\n",
    "                finish_rank = 999\n",
    "             \n",
    "            if 'Canada' in cols_element.get_text() or int(finish_rank) <= int(top_n) or int(top_n) == 0:\n",
    "                for col in col_element_data[:4]: # don't need all columns\n",
    "                    a_tag = col.find('a', href=True)\n",
    "                    if a_tag and 'player.asp' in a_tag['href']:\n",
    "                        value = a_tag['href'].split('=')[-1]\n",
    "                        players.append(value)\n",
    "                    #else:\n",
    "                    value = col.text.strip()\n",
    "                    values.append(value)\n",
    "                data.append(values[:3] + players + values[3:] + misc_info)\n",
    "        except ValueError as e:\n",
    "                print(f\"bvbinfo_team_scraper - Error: {e.args[0]} - {tourn_id}\")\n",
    "                 \n",
    "    return data"
   ]
  },
  {
   "cell_type": "code",
   "execution_count": 12,
   "id": "5a2dcfea",
   "metadata": {
    "execution": {
     "iopub.execute_input": "2023-08-12T00:34:34.297782Z",
     "iopub.status.busy": "2023-08-12T00:34:34.297476Z",
     "iopub.status.idle": "2023-08-12T00:39:25.785697Z",
     "shell.execute_reply": "2023-08-12T00:39:25.784687Z"
    },
    "papermill": {
     "duration": 291.498382,
     "end_time": "2023-08-12T00:39:25.788531",
     "exception": false,
     "start_time": "2023-08-12T00:34:34.290149",
     "status": "completed"
    },
    "tags": []
   },
   "outputs": [],
   "source": [
    "scraped_team_df = pd.DataFrame(columns=columns)\n",
    "\n",
    "for tournament_id in scraped_tournid_df['TOURNID']:\n",
    "# for tournament_id in [3982, 3961]:\n",
    "    data = bvbinfo_team_scraper(tournament_id, 5)\n",
    "    if data:  # Check if data is not empty\n",
    "        if len(data[0]) == len_columns:\n",
    "            temp_df = pd.DataFrame(data, columns=columns)\n",
    "            scraped_team_df = pd.concat([scraped_team_df, temp_df], ignore_index=True)"
   ]
  },
  {
   "cell_type": "code",
   "execution_count": 13,
   "id": "10b0a7dc",
   "metadata": {
    "execution": {
     "iopub.execute_input": "2023-08-12T00:39:25.801819Z",
     "iopub.status.busy": "2023-08-12T00:39:25.801473Z",
     "iopub.status.idle": "2023-08-12T00:39:25.816255Z",
     "shell.execute_reply": "2023-08-12T00:39:25.815092Z"
    },
    "papermill": {
     "duration": 0.02367,
     "end_time": "2023-08-12T00:39:25.818655",
     "exception": false,
     "start_time": "2023-08-12T00:39:25.794985",
     "status": "completed"
    },
    "tags": []
   },
   "outputs": [
    {
     "name": "stdout",
     "output_type": "stream",
     "text": [
      "<class 'pandas.core.frame.DataFrame'>\n",
      "RangeIndex: 611 entries, 0 to 610\n",
      "Data columns (total 11 columns):\n",
      " #   Column           Non-Null Count  Dtype \n",
      "---  ------           --------------  ----- \n",
      " 0   Finish           611 non-null    object\n",
      " 1   Player           611 non-null    object\n",
      " 2   Partner          611 non-null    object\n",
      " 3   Player_ID        611 non-null    object\n",
      " 4   Partner_ID       611 non-null    object\n",
      " 5   Country          611 non-null    object\n",
      " 6   TourniStartDate  611 non-null    object\n",
      " 7   TourniEndDate    611 non-null    object\n",
      " 8   TournLocation    611 non-null    object\n",
      " 9   Event            611 non-null    object\n",
      " 10  TOURNID          611 non-null    object\n",
      "dtypes: object(11)\n",
      "memory usage: 52.6+ KB\n"
     ]
    }
   ],
   "source": [
    "scraped_team_df.info()"
   ]
  },
  {
   "cell_type": "code",
   "execution_count": 14,
   "id": "60decd09",
   "metadata": {
    "execution": {
     "iopub.execute_input": "2023-08-12T00:39:25.831751Z",
     "iopub.status.busy": "2023-08-12T00:39:25.831184Z",
     "iopub.status.idle": "2023-08-12T00:39:25.847607Z",
     "shell.execute_reply": "2023-08-12T00:39:25.846790Z"
    },
    "papermill": {
     "duration": 0.025236,
     "end_time": "2023-08-12T00:39:25.849883",
     "exception": false,
     "start_time": "2023-08-12T00:39:25.824647",
     "status": "completed"
    },
    "tags": []
   },
   "outputs": [],
   "source": [
    "scraped_team_df.to_csv(\"scraped_team_player_info.csv\")"
   ]
  }
 ],
 "metadata": {
  "kernelspec": {
   "display_name": "Python 3",
   "language": "python",
   "name": "python3"
  },
  "language_info": {
   "codemirror_mode": {
    "name": "ipython",
    "version": 3
   },
   "file_extension": ".py",
   "mimetype": "text/x-python",
   "name": "python",
   "nbconvert_exporter": "python",
   "pygments_lexer": "ipython3",
   "version": "3.10.12"
  },
  "papermill": {
   "default_parameters": {},
   "duration": 311.474232,
   "end_time": "2023-08-12T00:39:26.576582",
   "environment_variables": {},
   "exception": null,
   "input_path": "__notebook__.ipynb",
   "output_path": "__notebook__.ipynb",
   "parameters": {},
   "start_time": "2023-08-12T00:34:15.102350",
   "version": "2.4.0"
  }
 },
 "nbformat": 4,
 "nbformat_minor": 5
}

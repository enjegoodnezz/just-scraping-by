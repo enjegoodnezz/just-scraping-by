{
 "cells": [
  {
   "cell_type": "code",
   "execution_count": 1,
   "id": "f1ec63ce",
   "metadata": {
    "_cell_guid": "b1076dfc-b9ad-4769-8c92-a6c4dae69d19",
    "_uuid": "8f2839f25d086af736a60e9eeb907d3b93b6e0e5",
    "execution": {
     "iopub.execute_input": "2023-08-11T03:20:38.423596Z",
     "iopub.status.busy": "2023-08-11T03:20:38.422988Z",
     "iopub.status.idle": "2023-08-11T03:20:38.447730Z",
     "shell.execute_reply": "2023-08-11T03:20:38.446264Z"
    },
    "papermill": {
     "duration": 0.03455,
     "end_time": "2023-08-11T03:20:38.451377",
     "exception": false,
     "start_time": "2023-08-11T03:20:38.416827",
     "status": "completed"
    },
    "tags": []
   },
   "outputs": [
    {
     "name": "stdout",
     "output_type": "stream",
     "text": [
      "/kaggle/input/unique-bvbinfo-tournament-id/unique_tournid.csv\n"
     ]
    }
   ],
   "source": [
    "# This Python 3 environment comes with many helpful analytics libraries installed\n",
    "# It is defined by the kaggle/python Docker image: https://github.com/kaggle/docker-python\n",
    "# For example, here's several helpful packages to load\n",
    "\n",
    "import numpy as np # linear algebra\n",
    "import pandas as pd # data processing, CSV file I/O (e.g. pd.read_csv)\n",
    "\n",
    "# Input data files are available in the read-only \"../input/\" directory\n",
    "# For example, running this (by clicking run or pressing Shift+Enter) will list all files under the input directory\n",
    "\n",
    "import os\n",
    "for dirname, _, filenames in os.walk('/kaggle/input'):\n",
    "    for filename in filenames:\n",
    "        print(os.path.join(dirname, filename))\n",
    "\n",
    "# You can write up to 20GB to the current directory (/kaggle/working/) that gets preserved as output when you create a version using \"Save & Run All\" \n",
    "# You can also write temporary files to /kaggle/temp/, but they won't be saved outside of the current session"
   ]
  },
  {
   "cell_type": "code",
   "execution_count": 2,
   "id": "fd3efd31",
   "metadata": {
    "execution": {
     "iopub.execute_input": "2023-08-11T03:20:38.460558Z",
     "iopub.status.busy": "2023-08-11T03:20:38.460110Z",
     "iopub.status.idle": "2023-08-11T03:20:38.508419Z",
     "shell.execute_reply": "2023-08-11T03:20:38.507029Z"
    },
    "papermill": {
     "duration": 0.056177,
     "end_time": "2023-08-11T03:20:38.511300",
     "exception": false,
     "start_time": "2023-08-11T03:20:38.455123",
     "status": "completed"
    },
    "tags": []
   },
   "outputs": [
    {
     "name": "stdout",
     "output_type": "stream",
     "text": [
      "<class 'pandas.core.frame.DataFrame'>\n",
      "RangeIndex: 50 entries, 0 to 49\n",
      "Data columns (total 1 columns):\n",
      " #   Column   Non-Null Count  Dtype\n",
      "---  ------   --------------  -----\n",
      " 0   TOURNID  50 non-null     int64\n",
      "dtypes: int64(1)\n",
      "memory usage: 528.0 bytes\n"
     ]
    }
   ],
   "source": [
    "tourn_id_df = pd.read_csv(\"/kaggle/input/unique-bvbinfo-tournament-id/unique_tournid.csv\")\n",
    "tourn_id_df.info()                 "
   ]
  },
  {
   "cell_type": "code",
   "execution_count": 3,
   "id": "a5cd1f5f",
   "metadata": {
    "execution": {
     "iopub.execute_input": "2023-08-11T03:20:38.520449Z",
     "iopub.status.busy": "2023-08-11T03:20:38.520070Z",
     "iopub.status.idle": "2023-08-11T03:20:38.525075Z",
     "shell.execute_reply": "2023-08-11T03:20:38.523507Z"
    },
    "papermill": {
     "duration": 0.012687,
     "end_time": "2023-08-11T03:20:38.527631",
     "exception": false,
     "start_time": "2023-08-11T03:20:38.514944",
     "status": "completed"
    },
    "tags": []
   },
   "outputs": [],
   "source": [
    "base_url = \"http://www.bvbinfo.com/Tournament.asp?ID=\""
   ]
  },
  {
   "cell_type": "code",
   "execution_count": 4,
   "id": "24c0cfcb",
   "metadata": {
    "execution": {
     "iopub.execute_input": "2023-08-11T03:20:38.538031Z",
     "iopub.status.busy": "2023-08-11T03:20:38.536954Z",
     "iopub.status.idle": "2023-08-11T03:20:38.781997Z",
     "shell.execute_reply": "2023-08-11T03:20:38.780647Z"
    },
    "papermill": {
     "duration": 0.25355,
     "end_time": "2023-08-11T03:20:38.785087",
     "exception": false,
     "start_time": "2023-08-11T03:20:38.531537",
     "status": "completed"
    },
    "tags": []
   },
   "outputs": [],
   "source": [
    "import requests\n",
    "from bs4 import BeautifulSoup\n",
    "\n",
    "def bvbinfo_tourni_scraper(tourn_id):\n",
    "    url = base_url + str(tourn_id)\n",
    "    print(url)\n",
    "    response = requests.get(url)\n",
    "    soup = BeautifulSoup(response.content, 'html.parser')\n",
    "\n",
    "    # Extracting team information from the table\n",
    "  \n",
    "    table = soup.find_all('table')\n",
    "    print(\"len: \", len(table))\n",
    "    if len(table) < 5:\n",
    "        return []\n",
    "    rows = table[4].find_all('tr')\n",
    "    header_element = rows[0]\n",
    "    header_text = header_element.get_text(strip=True, separator=\"\\n\").split(\"\\n\")\n",
    "    # Extract category, tournament, location, and start-end date\n",
    "    category = header_text[0].split(\"'\")[0]  \n",
    "    tournament = header_text[0].split()[3:]  \n",
    "    location = header_text[0].split()[3]  \n",
    "    startenddate = header_text[1]  \n",
    "\n",
    "    event = str(tournament) + \" \" + str(category)\n",
    "    # Split by space to get month and day range\n",
    "    month, day_range, year = startenddate.split()[:3]\n",
    "\n",
    "    # Split day range by '-'\n",
    "    start_day, end_day = day_range.split('-')\n",
    "\n",
    "    # Construct tourniStartDate and tourniEndDate\n",
    "    tourniStartDate = f\"{month} {start_day}, {year}\"\n",
    "    tourniEndDate = f\"{month} {end_day}, {year}\"\n",
    "    \n",
    "    misc_info = []\n",
    "    misc_info =[tourniStartDate, tourniStartDate, location, event, tourn_id]\n",
    "    data = []\n",
    "    for cols_element in rows[1:]:\n",
    "        values = []\n",
    "        players = []\n",
    "        if 'Canada' in cols_element.get_text():\n",
    "            for col in cols_element.find_all('td')[:-4]: # don't need all columns\n",
    "                a_tag = col.find('a', href=True)\n",
    "                if a_tag and 'player.asp' in a_tag['href']:\n",
    "                    value = a_tag['href'].split('=')[-1]\n",
    "                    players.append(value)\n",
    "                #else:\n",
    "                value = col.text.strip()\n",
    "                values.append(value)\n",
    "            data.append(values[:3] + players + values[3:] + misc_info)\n",
    "                 \n",
    "    return data\n"
   ]
  },
  {
   "cell_type": "code",
   "execution_count": 5,
   "id": "fdb73add",
   "metadata": {
    "execution": {
     "iopub.execute_input": "2023-08-11T03:20:38.794692Z",
     "iopub.status.busy": "2023-08-11T03:20:38.793857Z",
     "iopub.status.idle": "2023-08-11T03:21:03.491190Z",
     "shell.execute_reply": "2023-08-11T03:21:03.489364Z"
    },
    "papermill": {
     "duration": 24.705236,
     "end_time": "2023-08-11T03:21:03.493979",
     "exception": false,
     "start_time": "2023-08-11T03:20:38.788743",
     "status": "completed"
    },
    "tags": []
   },
   "outputs": [
    {
     "name": "stdout",
     "output_type": "stream",
     "text": [
      "http://www.bvbinfo.com/Tournament.asp?ID=3962\n",
      "len:  6\n",
      "http://www.bvbinfo.com/Tournament.asp?ID=3968\n",
      "len:  6\n",
      "http://www.bvbinfo.com/Tournament.asp?ID=3970\n",
      "len:  6\n",
      "http://www.bvbinfo.com/Tournament.asp?ID=3972\n",
      "len:  6\n",
      "http://www.bvbinfo.com/Tournament.asp?ID=3992\n",
      "len:  6\n",
      "http://www.bvbinfo.com/Tournament.asp?ID=3994\n",
      "len:  6\n",
      "http://www.bvbinfo.com/Tournament.asp?ID=3964\n",
      "len:  6\n",
      "http://www.bvbinfo.com/Tournament.asp?ID=3960\n",
      "len:  6\n",
      "http://www.bvbinfo.com/Tournament.asp?ID=3982\n",
      "len:  6\n",
      "http://www.bvbinfo.com/Tournament.asp?ID=4147\n",
      "len:  6\n",
      "http://www.bvbinfo.com/Tournament.asp?ID=4149\n",
      "len:  6\n",
      "http://www.bvbinfo.com/Tournament.asp?ID=4151\n",
      "len:  6\n",
      "http://www.bvbinfo.com/Tournament.asp?ID=3961\n",
      "len:  6\n",
      "http://www.bvbinfo.com/Tournament.asp?ID=3967\n",
      "len:  6\n",
      "http://www.bvbinfo.com/Tournament.asp?ID=3969\n",
      "len:  6\n",
      "http://www.bvbinfo.com/Tournament.asp?ID=3971\n",
      "len:  6\n",
      "http://www.bvbinfo.com/Tournament.asp?ID=3991\n",
      "len:  6\n",
      "http://www.bvbinfo.com/Tournament.asp?ID=3993\n",
      "len:  6\n",
      "http://www.bvbinfo.com/Tournament.asp?ID=3963\n",
      "len:  6\n",
      "http://www.bvbinfo.com/Tournament.asp?ID=3959\n",
      "len:  6\n",
      "http://www.bvbinfo.com/Tournament.asp?ID=3981\n",
      "len:  6\n",
      "http://www.bvbinfo.com/Tournament.asp?ID=4146\n",
      "len:  6\n",
      "http://www.bvbinfo.com/Tournament.asp?ID=4148\n",
      "len:  6\n",
      "http://www.bvbinfo.com/Tournament.asp?ID=4150\n",
      "len:  6\n",
      "http://www.bvbinfo.com/Tournament.asp?ID=3985\n",
      "len:  6\n",
      "http://www.bvbinfo.com/Tournament.asp?ID=3987\n",
      "len:  6\n",
      "http://www.bvbinfo.com/Tournament.asp?ID=4053\n",
      "len:  6\n",
      "http://www.bvbinfo.com/Tournament.asp?ID=4055\n",
      "len:  6\n",
      "http://www.bvbinfo.com/Tournament.asp?ID=4057\n",
      "len:  6\n",
      "http://www.bvbinfo.com/Tournament.asp?ID=4059\n",
      "len:  6\n",
      "http://www.bvbinfo.com/Tournament.asp?ID=3995\n",
      "len:  6\n",
      "http://www.bvbinfo.com/Tournament.asp?ID=4127\n",
      "len:  6\n",
      "http://www.bvbinfo.com/Tournament.asp?ID=4129\n",
      "len:  6\n",
      "http://www.bvbinfo.com/Tournament.asp?ID=3979\n",
      "len:  6\n",
      "http://www.bvbinfo.com/Tournament.asp?ID=4168\n",
      "len:  6\n",
      "http://www.bvbinfo.com/Tournament.asp?ID=4166\n",
      "len:  6\n",
      "http://www.bvbinfo.com/Tournament.asp?ID=4170\n",
      "len:  6\n",
      "http://www.bvbinfo.com/Tournament.asp?ID=3986\n",
      "len:  6\n",
      "http://www.bvbinfo.com/Tournament.asp?ID=3988\n",
      "len:  6\n",
      "http://www.bvbinfo.com/Tournament.asp?ID=4054\n",
      "len:  6\n",
      "http://www.bvbinfo.com/Tournament.asp?ID=4056\n",
      "len:  6\n",
      "http://www.bvbinfo.com/Tournament.asp?ID=4058\n",
      "len:  6\n",
      "http://www.bvbinfo.com/Tournament.asp?ID=4060\n",
      "len:  6\n",
      "http://www.bvbinfo.com/Tournament.asp?ID=3996\n",
      "len:  6\n",
      "http://www.bvbinfo.com/Tournament.asp?ID=4128\n",
      "len:  6\n",
      "http://www.bvbinfo.com/Tournament.asp?ID=4130\n",
      "len:  6\n",
      "http://www.bvbinfo.com/Tournament.asp?ID=3980\n",
      "len:  6\n",
      "http://www.bvbinfo.com/Tournament.asp?ID=4169\n",
      "len:  6\n",
      "http://www.bvbinfo.com/Tournament.asp?ID=4167\n",
      "len:  6\n",
      "http://www.bvbinfo.com/Tournament.asp?ID=4171\n",
      "len:  6\n"
     ]
    }
   ],
   "source": [
    "columns = ['Finish', 'Player', 'Partner', 'Player_ID', 'Partner_ID', 'Country'\n",
    "           , 'TourniStartDate', 'TourniEndDate', 'TournLocation', 'Event', 'TOURNID']\n",
    "scraped_df = pd.DataFrame(columns=columns)\n",
    "\n",
    "for tournament_id in tourn_id_df['TOURNID']:\n",
    "    data = bvbinfo_tourni_scraper(tournament_id)\n",
    "    if data:  # Check if data is not empty\n",
    "        temp_df = pd.DataFrame(data, columns=columns)\n",
    "        scraped_df = pd.concat([scraped_df, temp_df], ignore_index=True)"
   ]
  },
  {
   "cell_type": "code",
   "execution_count": 6,
   "id": "a4d56aa9",
   "metadata": {
    "execution": {
     "iopub.execute_input": "2023-08-11T03:21:03.512461Z",
     "iopub.status.busy": "2023-08-11T03:21:03.512006Z",
     "iopub.status.idle": "2023-08-11T03:21:03.522996Z",
     "shell.execute_reply": "2023-08-11T03:21:03.521459Z"
    },
    "papermill": {
     "duration": 0.023771,
     "end_time": "2023-08-11T03:21:03.525825",
     "exception": false,
     "start_time": "2023-08-11T03:21:03.502054",
     "status": "completed"
    },
    "tags": []
   },
   "outputs": [],
   "source": [
    "scraped_df.to_csv(\"scraped_tournament_info.csv\")"
   ]
  }
 ],
 "metadata": {
  "kernelspec": {
   "display_name": "Python 3",
   "language": "python",
   "name": "python3"
  },
  "language_info": {
   "codemirror_mode": {
    "name": "ipython",
    "version": 3
   },
   "file_extension": ".py",
   "mimetype": "text/x-python",
   "name": "python",
   "nbconvert_exporter": "python",
   "pygments_lexer": "ipython3",
   "version": "3.10.12"
  },
  "papermill": {
   "default_parameters": {},
   "duration": 38.044348,
   "end_time": "2023-08-11T03:21:04.558493",
   "environment_variables": {},
   "exception": null,
   "input_path": "__notebook__.ipynb",
   "output_path": "__notebook__.ipynb",
   "parameters": {},
   "start_time": "2023-08-11T03:20:26.514145",
   "version": "2.4.0"
  }
 },
 "nbformat": 4,
 "nbformat_minor": 5
}

{
 "cells": [
  {
   "cell_type": "code",
   "execution_count": 1,
   "id": "45095ff6",
   "metadata": {
    "_cell_guid": "b1076dfc-b9ad-4769-8c92-a6c4dae69d19",
    "_uuid": "8f2839f25d086af736a60e9eeb907d3b93b6e0e5",
    "execution": {
     "iopub.execute_input": "2023-08-11T03:32:58.082873Z",
     "iopub.status.busy": "2023-08-11T03:32:58.082426Z",
     "iopub.status.idle": "2023-08-11T03:32:58.103458Z",
     "shell.execute_reply": "2023-08-11T03:32:58.102302Z"
    },
    "papermill": {
     "duration": 0.029249,
     "end_time": "2023-08-11T03:32:58.106343",
     "exception": false,
     "start_time": "2023-08-11T03:32:58.077094",
     "status": "completed"
    },
    "tags": []
   },
   "outputs": [
    {
     "name": "stdout",
     "output_type": "stream",
     "text": [
      "/kaggle/input/unique-bvbinfo-tournament-id/unique_tournid.csv\n"
     ]
    }
   ],
   "source": [
    "# This Python 3 environment comes with many helpful analytics libraries installed\n",
    "# It is defined by the kaggle/python Docker image: https://github.com/kaggle/docker-python\n",
    "# For example, here's several helpful packages to load\n",
    "\n",
    "import numpy as np # linear algebra\n",
    "import pandas as pd # data processing, CSV file I/O (e.g. pd.read_csv)\n",
    "\n",
    "# Input data files are available in the read-only \"../input/\" directory\n",
    "# For example, running this (by clicking run or pressing Shift+Enter) will list all files under the input directory\n",
    "\n",
    "import os\n",
    "for dirname, _, filenames in os.walk('/kaggle/input'):\n",
    "    for filename in filenames:\n",
    "        print(os.path.join(dirname, filename))\n",
    "\n",
    "# You can write up to 20GB to the current directory (/kaggle/working/) that gets preserved as output when you create a version using \"Save & Run All\" \n",
    "# You can also write temporary files to /kaggle/temp/, but they won't be saved outside of the current session"
   ]
  },
  {
   "cell_type": "code",
   "execution_count": 2,
   "id": "d208eb4b",
   "metadata": {
    "execution": {
     "iopub.execute_input": "2023-08-11T03:32:58.114568Z",
     "iopub.status.busy": "2023-08-11T03:32:58.114202Z",
     "iopub.status.idle": "2023-08-11T03:32:58.158325Z",
     "shell.execute_reply": "2023-08-11T03:32:58.156844Z"
    },
    "papermill": {
     "duration": 0.051064,
     "end_time": "2023-08-11T03:32:58.160893",
     "exception": false,
     "start_time": "2023-08-11T03:32:58.109829",
     "status": "completed"
    },
    "tags": []
   },
   "outputs": [
    {
     "name": "stdout",
     "output_type": "stream",
     "text": [
      "<class 'pandas.core.frame.DataFrame'>\n",
      "RangeIndex: 50 entries, 0 to 49\n",
      "Data columns (total 1 columns):\n",
      " #   Column   Non-Null Count  Dtype\n",
      "---  ------   --------------  -----\n",
      " 0   TOURNID  50 non-null     int64\n",
      "dtypes: int64(1)\n",
      "memory usage: 528.0 bytes\n"
     ]
    }
   ],
   "source": [
    "tourn_id_df = pd.read_csv(\"/kaggle/input/unique-bvbinfo-tournament-id/unique_tournid.csv\")\n",
    "tourn_id_df.info()                 "
   ]
  },
  {
   "cell_type": "code",
   "execution_count": 3,
   "id": "2f3888bd",
   "metadata": {
    "execution": {
     "iopub.execute_input": "2023-08-11T03:32:58.169252Z",
     "iopub.status.busy": "2023-08-11T03:32:58.168864Z",
     "iopub.status.idle": "2023-08-11T03:32:58.173220Z",
     "shell.execute_reply": "2023-08-11T03:32:58.172229Z"
    },
    "papermill": {
     "duration": 0.011196,
     "end_time": "2023-08-11T03:32:58.175489",
     "exception": false,
     "start_time": "2023-08-11T03:32:58.164293",
     "status": "completed"
    },
    "tags": []
   },
   "outputs": [],
   "source": [
    "base_url = \"http://www.bvbinfo.com/Tournament.asp?ID=\""
   ]
  },
  {
   "cell_type": "code",
   "execution_count": 4,
   "id": "d649fb46",
   "metadata": {
    "execution": {
     "iopub.execute_input": "2023-08-11T03:32:58.183733Z",
     "iopub.status.busy": "2023-08-11T03:32:58.183350Z",
     "iopub.status.idle": "2023-08-11T03:32:58.409225Z",
     "shell.execute_reply": "2023-08-11T03:32:58.408100Z"
    },
    "papermill": {
     "duration": 0.233709,
     "end_time": "2023-08-11T03:32:58.412469",
     "exception": false,
     "start_time": "2023-08-11T03:32:58.178760",
     "status": "completed"
    },
    "tags": []
   },
   "outputs": [],
   "source": [
    "import requests\n",
    "from bs4 import BeautifulSoup\n",
    "\n",
    "def bvbinfo_tourni_scraper(tourn_id):\n",
    "    url = base_url + str(tourn_id)\n",
    "    print(url)\n",
    "    response = requests.get(url)\n",
    "    soup = BeautifulSoup(response.content, 'html.parser')\n",
    "\n",
    "    # Extracting team information from the table\n",
    "  \n",
    "    table = soup.find_all('table')\n",
    "    print(\"len: \", len(table))\n",
    "    if len(table) < 5:\n",
    "        return []\n",
    "    rows = table[4].find_all('tr')\n",
    "    header_element = rows[0]\n",
    "    header_text = header_element.get_text(strip=True, separator=\"\\n\").split(\"\\n\")\n",
    "    # Extract category, tournament, location, and start-end date\n",
    "    category = header_text[0].split(\"'\")[0]  \n",
    "    tournament = ' '.join(header_text[0].split()[4:])\n",
    "    location = header_text[0].split()[3]  \n",
    "    startenddate = header_text[1]  \n",
    "\n",
    "    event = str(tournament) + \" \" + str(category)\n",
    "    # Split by space to get month and day range\n",
    "    month, day_range, year = startenddate.split()[:3]\n",
    "\n",
    "    # Split day range by '-'\n",
    "    start_day, end_day = day_range.split('-')\n",
    "\n",
    "    # Construct tourniStartDate and tourniEndDate\n",
    "    tourniStartDate = f\"{month} {start_day}, {year}\"\n",
    "    tourniEndDate = f\"{month} {end_day}, {year}\"\n",
    "    \n",
    "    misc_info = []\n",
    "    misc_info =[tourniStartDate, tourniStartDate, location, event, tourn_id]\n",
    "    data = []\n",
    "    for cols_element in rows[1:]:\n",
    "        values = []\n",
    "        players = []\n",
    "        if 'Canada' in cols_element.get_text():\n",
    "            for col in cols_element.find_all('td')[:-4]: # don't need all columns\n",
    "                a_tag = col.find('a', href=True)\n",
    "                if a_tag and 'player.asp' in a_tag['href']:\n",
    "                    value = a_tag['href'].split('=')[-1]\n",
    "                    players.append(value)\n",
    "                #else:\n",
    "                value = col.text.strip()\n",
    "                values.append(value)\n",
    "            data.append(values[:3] + players + values[3:] + misc_info)\n",
    "                 \n",
    "    return data\n"
   ]
  },
  {
   "cell_type": "code",
   "execution_count": 5,
   "id": "82279e3f",
   "metadata": {
    "execution": {
     "iopub.execute_input": "2023-08-11T03:32:58.422329Z",
     "iopub.status.busy": "2023-08-11T03:32:58.421658Z",
     "iopub.status.idle": "2023-08-11T03:33:23.166388Z",
     "shell.execute_reply": "2023-08-11T03:33:23.164980Z"
    },
    "papermill": {
     "duration": 24.752253,
     "end_time": "2023-08-11T03:33:23.168932",
     "exception": false,
     "start_time": "2023-08-11T03:32:58.416679",
     "status": "completed"
    },
    "tags": []
   },
   "outputs": [
    {
     "name": "stdout",
     "output_type": "stream",
     "text": [
      "http://www.bvbinfo.com/Tournament.asp?ID=3962\n",
      "len:  6\n",
      "http://www.bvbinfo.com/Tournament.asp?ID=3968\n",
      "len:  6\n",
      "http://www.bvbinfo.com/Tournament.asp?ID=3970\n",
      "len:  6\n",
      "http://www.bvbinfo.com/Tournament.asp?ID=3972\n",
      "len:  6\n",
      "http://www.bvbinfo.com/Tournament.asp?ID=3992\n",
      "len:  6\n",
      "http://www.bvbinfo.com/Tournament.asp?ID=3994\n",
      "len:  6\n",
      "http://www.bvbinfo.com/Tournament.asp?ID=3964\n",
      "len:  6\n",
      "http://www.bvbinfo.com/Tournament.asp?ID=3960\n",
      "len:  6\n",
      "http://www.bvbinfo.com/Tournament.asp?ID=3982\n",
      "len:  6\n",
      "http://www.bvbinfo.com/Tournament.asp?ID=4147\n",
      "len:  6\n",
      "http://www.bvbinfo.com/Tournament.asp?ID=4149\n",
      "len:  6\n",
      "http://www.bvbinfo.com/Tournament.asp?ID=4151\n",
      "len:  6\n",
      "http://www.bvbinfo.com/Tournament.asp?ID=3961\n",
      "len:  6\n",
      "http://www.bvbinfo.com/Tournament.asp?ID=3967\n",
      "len:  6\n",
      "http://www.bvbinfo.com/Tournament.asp?ID=3969\n",
      "len:  6\n",
      "http://www.bvbinfo.com/Tournament.asp?ID=3971\n",
      "len:  6\n",
      "http://www.bvbinfo.com/Tournament.asp?ID=3991\n",
      "len:  6\n",
      "http://www.bvbinfo.com/Tournament.asp?ID=3993\n",
      "len:  6\n",
      "http://www.bvbinfo.com/Tournament.asp?ID=3963\n",
      "len:  6\n",
      "http://www.bvbinfo.com/Tournament.asp?ID=3959\n",
      "len:  6\n",
      "http://www.bvbinfo.com/Tournament.asp?ID=3981\n",
      "len:  6\n",
      "http://www.bvbinfo.com/Tournament.asp?ID=4146\n",
      "len:  6\n",
      "http://www.bvbinfo.com/Tournament.asp?ID=4148\n",
      "len:  6\n",
      "http://www.bvbinfo.com/Tournament.asp?ID=4150\n",
      "len:  6\n",
      "http://www.bvbinfo.com/Tournament.asp?ID=3985\n",
      "len:  6\n",
      "http://www.bvbinfo.com/Tournament.asp?ID=3987\n",
      "len:  6\n",
      "http://www.bvbinfo.com/Tournament.asp?ID=4053\n",
      "len:  6\n",
      "http://www.bvbinfo.com/Tournament.asp?ID=4055\n",
      "len:  6\n",
      "http://www.bvbinfo.com/Tournament.asp?ID=4057\n",
      "len:  6\n",
      "http://www.bvbinfo.com/Tournament.asp?ID=4059\n",
      "len:  6\n",
      "http://www.bvbinfo.com/Tournament.asp?ID=3995\n",
      "len:  6\n",
      "http://www.bvbinfo.com/Tournament.asp?ID=4127\n",
      "len:  6\n",
      "http://www.bvbinfo.com/Tournament.asp?ID=4129\n",
      "len:  6\n",
      "http://www.bvbinfo.com/Tournament.asp?ID=3979\n",
      "len:  6\n",
      "http://www.bvbinfo.com/Tournament.asp?ID=4168\n",
      "len:  6\n",
      "http://www.bvbinfo.com/Tournament.asp?ID=4166\n",
      "len:  6\n",
      "http://www.bvbinfo.com/Tournament.asp?ID=4170\n",
      "len:  6\n",
      "http://www.bvbinfo.com/Tournament.asp?ID=3986\n",
      "len:  6\n",
      "http://www.bvbinfo.com/Tournament.asp?ID=3988\n",
      "len:  6\n",
      "http://www.bvbinfo.com/Tournament.asp?ID=4054\n",
      "len:  6\n",
      "http://www.bvbinfo.com/Tournament.asp?ID=4056\n",
      "len:  6\n",
      "http://www.bvbinfo.com/Tournament.asp?ID=4058\n",
      "len:  6\n",
      "http://www.bvbinfo.com/Tournament.asp?ID=4060\n",
      "len:  6\n",
      "http://www.bvbinfo.com/Tournament.asp?ID=3996\n",
      "len:  6\n",
      "http://www.bvbinfo.com/Tournament.asp?ID=4128\n",
      "len:  6\n",
      "http://www.bvbinfo.com/Tournament.asp?ID=4130\n",
      "len:  6\n",
      "http://www.bvbinfo.com/Tournament.asp?ID=3980\n",
      "len:  6\n",
      "http://www.bvbinfo.com/Tournament.asp?ID=4169\n",
      "len:  6\n",
      "http://www.bvbinfo.com/Tournament.asp?ID=4167\n",
      "len:  6\n",
      "http://www.bvbinfo.com/Tournament.asp?ID=4171\n",
      "len:  6\n"
     ]
    }
   ],
   "source": [
    "columns = ['Finish', 'Player', 'Partner', 'Player_ID', 'Partner_ID', 'Country'\n",
    "           , 'TourniStartDate', 'TourniEndDate', 'TournLocation', 'Event', 'TOURNID']\n",
    "scraped_df = pd.DataFrame(columns=columns)\n",
    "\n",
    "for tournament_id in tourn_id_df['TOURNID']:\n",
    "    data = bvbinfo_tourni_scraper(tournament_id)\n",
    "    if data:  # Check if data is not empty\n",
    "        temp_df = pd.DataFrame(data, columns=columns)\n",
    "        scraped_df = pd.concat([scraped_df, temp_df], ignore_index=True)"
   ]
  },
  {
   "cell_type": "code",
   "execution_count": 6,
   "id": "e3df1712",
   "metadata": {
    "execution": {
     "iopub.execute_input": "2023-08-11T03:33:23.186842Z",
     "iopub.status.busy": "2023-08-11T03:33:23.185946Z",
     "iopub.status.idle": "2023-08-11T03:33:23.195197Z",
     "shell.execute_reply": "2023-08-11T03:33:23.194271Z"
    },
    "papermill": {
     "duration": 0.020863,
     "end_time": "2023-08-11T03:33:23.197712",
     "exception": false,
     "start_time": "2023-08-11T03:33:23.176849",
     "status": "completed"
    },
    "tags": []
   },
   "outputs": [],
   "source": [
    "scraped_df.to_csv(\"scraped_tournament_info.csv\")"
   ]
  }
 ],
 "metadata": {
  "kernelspec": {
   "display_name": "Python 3",
   "language": "python",
   "name": "python3"
  },
  "language_info": {
   "codemirror_mode": {
    "name": "ipython",
    "version": 3
   },
   "file_extension": ".py",
   "mimetype": "text/x-python",
   "name": "python",
   "nbconvert_exporter": "python",
   "pygments_lexer": "ipython3",
   "version": "3.10.12"
  },
  "papermill": {
   "default_parameters": {},
   "duration": 37.453223,
   "end_time": "2023-08-11T03:33:24.127656",
   "environment_variables": {},
   "exception": null,
   "input_path": "__notebook__.ipynb",
   "output_path": "__notebook__.ipynb",
   "parameters": {},
   "start_time": "2023-08-11T03:32:46.674433",
   "version": "2.4.0"
  }
 },
 "nbformat": 4,
 "nbformat_minor": 5
}

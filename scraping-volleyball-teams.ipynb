{
 "cells": [
  {
   "cell_type": "code",
   "execution_count": 1,
   "id": "3696ff6f",
   "metadata": {
    "_cell_guid": "7344ab9b-7f6f-468a-8b1d-742e50be2950",
    "_uuid": "19d9e590-263b-4573-a91f-01b6406ed5ac",
    "collapsed": false,
    "execution": {
     "iopub.execute_input": "2023-08-12T23:20:22.080470Z",
     "iopub.status.busy": "2023-08-12T23:20:22.080141Z",
     "iopub.status.idle": "2023-08-12T23:20:22.256705Z",
     "shell.execute_reply": "2023-08-12T23:20:22.255445Z"
    },
    "jupyter": {
     "outputs_hidden": false
    },
    "papermill": {
     "duration": 0.185954,
     "end_time": "2023-08-12T23:20:22.259299",
     "exception": false,
     "start_time": "2023-08-12T23:20:22.073345",
     "status": "completed"
    },
    "tags": []
   },
   "outputs": [],
   "source": [
    "import numpy as np # linear algebra\n",
    "import pandas as pd # data processing, CSV file I/O (e.g. pd.read_csv)\n",
    "\n",
    "import requests\n",
    "from bs4 import BeautifulSoup\n",
    "\n",
    "import datetime"
   ]
  },
  {
   "cell_type": "markdown",
   "id": "7d010a9a",
   "metadata": {
    "_cell_guid": "624739ee-0c26-4fff-8e31-2b4c07faa286",
    "_uuid": "ec7cc9c3-124a-4b9d-b469-e6088f849463",
    "papermill": {
     "duration": 0.004121,
     "end_time": "2023-08-12T23:20:22.268226",
     "exception": false,
     "start_time": "2023-08-12T23:20:22.264105",
     "status": "completed"
    },
    "tags": []
   },
   "source": [
    "### Base URL"
   ]
  },
  {
   "cell_type": "code",
   "execution_count": 2,
   "id": "12809858",
   "metadata": {
    "_cell_guid": "d4b7690c-789f-4580-a8ef-3c9198838e54",
    "_uuid": "378a4bb5-40fe-40d9-8aec-3ae2d1bf1a0f",
    "collapsed": false,
    "execution": {
     "iopub.execute_input": "2023-08-12T23:20:22.278999Z",
     "iopub.status.busy": "2023-08-12T23:20:22.278297Z",
     "iopub.status.idle": "2023-08-12T23:20:22.283921Z",
     "shell.execute_reply": "2023-08-12T23:20:22.282666Z"
    },
    "jupyter": {
     "outputs_hidden": false
    },
    "papermill": {
     "duration": 0.013276,
     "end_time": "2023-08-12T23:20:22.285935",
     "exception": false,
     "start_time": "2023-08-12T23:20:22.272659",
     "status": "completed"
    },
    "tags": []
   },
   "outputs": [],
   "source": [
    "base_season_url = \"http://www.bvbinfo.com/season.asp\"\n",
    "base_season_summ_url = \"http://www.bvbinfo.com/Season.asp?AssocID=3&Year=\"\n",
    "base_tournament_url = \"http://www.bvbinfo.com/Tournament.asp?ID=\""
   ]
  },
  {
   "cell_type": "code",
   "execution_count": 3,
   "id": "8f3b270e",
   "metadata": {
    "execution": {
     "iopub.execute_input": "2023-08-12T23:20:22.297240Z",
     "iopub.status.busy": "2023-08-12T23:20:22.296571Z",
     "iopub.status.idle": "2023-08-12T23:20:22.301390Z",
     "shell.execute_reply": "2023-08-12T23:20:22.300239Z"
    },
    "papermill": {
     "duration": 0.012928,
     "end_time": "2023-08-12T23:20:22.303657",
     "exception": false,
     "start_time": "2023-08-12T23:20:22.290729",
     "status": "completed"
    },
    "tags": []
   },
   "outputs": [],
   "source": [
    "from_year = '2000'\n",
    "to_year = str(datetime.date.today().year)"
   ]
  },
  {
   "cell_type": "markdown",
   "id": "14968fba",
   "metadata": {
    "_cell_guid": "9223ce43-75e6-4cfc-b972-df2791bdc928",
    "_uuid": "60894b1c-1d5b-4595-80d3-3468bbdb85bb",
    "papermill": {
     "duration": 0.00427,
     "end_time": "2023-08-12T23:20:22.312780",
     "exception": false,
     "start_time": "2023-08-12T23:20:22.308510",
     "status": "completed"
    },
    "tags": []
   },
   "source": [
    "### Scrape Sessions"
   ]
  },
  {
   "cell_type": "code",
   "execution_count": 4,
   "id": "daa34339",
   "metadata": {
    "_cell_guid": "7250234f-b610-4d9e-8cee-16a550fd81aa",
    "_uuid": "9a22147b-2766-4b0b-9e2c-f6071a83a2cc",
    "collapsed": false,
    "execution": {
     "iopub.execute_input": "2023-08-12T23:20:22.324719Z",
     "iopub.status.busy": "2023-08-12T23:20:22.324119Z",
     "iopub.status.idle": "2023-08-12T23:20:22.334223Z",
     "shell.execute_reply": "2023-08-12T23:20:22.332790Z"
    },
    "jupyter": {
     "outputs_hidden": false
    },
    "papermill": {
     "duration": 0.019107,
     "end_time": "2023-08-12T23:20:22.336403",
     "exception": false,
     "start_time": "2023-08-12T23:20:22.317296",
     "status": "completed"
    },
    "tags": []
   },
   "outputs": [],
   "source": [
    "def bvbinfo_season_scraper():\n",
    "    url = base_season_url\n",
    "    \n",
    "    year_index = 0\n",
    "    fivb_index = 15\n",
    "    \n",
    "    response = requests.get(url)\n",
    "    soup = BeautifulSoup(response.content, 'html.parser')\n",
    "\n",
    "    # Extracting team information from the table\n",
    "    table = soup.find_all('table')\n",
    "\n",
    "    if len(table) < 2:\n",
    "        return []\n",
    "    rows = table[2].find_all('tr')\n",
    "    header_element = rows[2]\n",
    "    header_text = header_element.get_text(strip=True, separator=\"\\n\").split(\"\\n\")\n",
    "    print(header_text[year_index], header_text[fivb_index])\n",
    "    \n",
    "    if (header_text[year_index].upper() != 'YEAR') or (header_text[fivb_index].upper() != 'FIVB'):\n",
    "        print(f\"bvbinfo_season_scraper - Error: check website structure\")\n",
    "        return []\n",
    "        \n",
    "    season_years = []\n",
    "    for cols_element in rows[3:]:\n",
    "        try:\n",
    "            col_element_data = cols_element.find_all('td')\n",
    "            len_col_element_data = len(col_element_data)\n",
    "\n",
    "            if len_col_element_data >= fivb_index:\n",
    "                col = col_element_data[fivb_index]\n",
    "                col.find('a', href=True)\n",
    "                a_tag = col.find('a', href=True)\n",
    "                if a_tag and 'Season.asp' in a_tag['href']:\n",
    "                    value = a_tag['href'].split('=')[-1]            \n",
    "                    season_years.append(value)\n",
    "        except ValueError as e:\n",
    "                print(f\"bvbinfo_tourni_scraper - Error: {e.args[0]}\")\n",
    "\n",
    "    return season_years"
   ]
  },
  {
   "cell_type": "code",
   "execution_count": 5,
   "id": "abbc2162",
   "metadata": {
    "_cell_guid": "9b802e5f-443c-44df-9704-12651a71f6a9",
    "_uuid": "1c6e861e-b296-4d16-85e6-559edaae5e10",
    "collapsed": false,
    "execution": {
     "iopub.execute_input": "2023-08-12T23:20:22.347125Z",
     "iopub.status.busy": "2023-08-12T23:20:22.346737Z",
     "iopub.status.idle": "2023-08-12T23:20:23.385490Z",
     "shell.execute_reply": "2023-08-12T23:20:23.384277Z"
    },
    "jupyter": {
     "outputs_hidden": false
    },
    "papermill": {
     "duration": 1.046272,
     "end_time": "2023-08-12T23:20:23.387394",
     "exception": false,
     "start_time": "2023-08-12T23:20:22.341122",
     "status": "completed"
    },
    "tags": []
   },
   "outputs": [
    {
     "name": "stdout",
     "output_type": "stream",
     "text": [
      "Year FIVB\n"
     ]
    }
   ],
   "source": [
    "season_years = bvbinfo_season_scraper()\n",
    "season_years_df = pd.DataFrame(season_years, columns=['YEAR'])\n",
    "# season_years_df.info()"
   ]
  },
  {
   "cell_type": "markdown",
   "id": "a5f7b0f1",
   "metadata": {
    "_cell_guid": "7b0f2b21-29da-4b58-8b93-8f1c93f6752b",
    "_uuid": "a23fd795-eb44-4c5f-8821-ea18278ca579",
    "papermill": {
     "duration": 0.00431,
     "end_time": "2023-08-12T23:20:23.396364",
     "exception": false,
     "start_time": "2023-08-12T23:20:23.392054",
     "status": "completed"
    },
    "tags": []
   },
   "source": [
    "### Scrape Season Tournament IDs"
   ]
  },
  {
   "cell_type": "code",
   "execution_count": 6,
   "id": "be2b5800",
   "metadata": {
    "_cell_guid": "d4fbbf88-3b76-4976-b1af-61203003770b",
    "_uuid": "10ef298f-e3b1-4ac0-b5fc-9c3bee25ef32",
    "collapsed": false,
    "execution": {
     "iopub.execute_input": "2023-08-12T23:20:23.407148Z",
     "iopub.status.busy": "2023-08-12T23:20:23.406389Z",
     "iopub.status.idle": "2023-08-12T23:20:23.414016Z",
     "shell.execute_reply": "2023-08-12T23:20:23.413280Z"
    },
    "jupyter": {
     "outputs_hidden": false
    },
    "papermill": {
     "duration": 0.014922,
     "end_time": "2023-08-12T23:20:23.415670",
     "exception": false,
     "start_time": "2023-08-12T23:20:23.400748",
     "status": "completed"
    },
    "tags": []
   },
   "outputs": [],
   "source": [
    "def bvbinfo_tourni_scraper(year):\n",
    "    url = base_season_summ_url + str(year)\n",
    "    \n",
    "    location_index = 1\n",
    "    \n",
    "    response = requests.get(url)\n",
    "    soup = BeautifulSoup(response.content, 'html.parser')\n",
    "\n",
    "    # Extracting team information from the table\n",
    "    table = soup.find_all('table')\n",
    "\n",
    "    if len(table) < 2:\n",
    "        return []\n",
    "    rows = table[2].find_all('tr')\n",
    "    header_element = rows[3]\n",
    "    header_text = header_element.get_text(strip=True, separator=\"\\n\").split(\"\\n\")\n",
    "    \n",
    "    if header_text[location_index].upper() != 'LOCATION':\n",
    "        print(f\"bvbinfo_tourni_scraper - Error: check website structure\")\n",
    "        return []\n",
    "    tournament_ids = []\n",
    "\n",
    "    for cols_element in rows[4:]:\n",
    "        try:\n",
    "            col_element_data = cols_element.find_all('td')\n",
    "            len_col_element_data = len(col_element_data)\n",
    "            if len_col_element_data > location_index:\n",
    "                col = col_element_data[location_index]\n",
    "\n",
    "                col.find('a', href=True)\n",
    "                a_tag = col.find('a', href=True)\n",
    "                if a_tag and 'Tournament.asp' in a_tag['href']:\n",
    "                    value = a_tag['href'].split('=')[-1]\n",
    "                    tournament_ids.append(value)                \n",
    "        except ValueError as e:\n",
    "                print(f\"bvbinfo_tourni_scraper - Error: {e.args[0]}\")\n",
    "                \n",
    "    return tournament_ids"
   ]
  },
  {
   "cell_type": "code",
   "execution_count": 7,
   "id": "96684ca7",
   "metadata": {
    "_cell_guid": "e52c4cdc-afa5-4fc9-b605-3057f69fe6f2",
    "_uuid": "fe83b191-2bf7-4ea1-bbd9-ff63dbba2669",
    "collapsed": false,
    "execution": {
     "iopub.execute_input": "2023-08-12T23:20:23.427594Z",
     "iopub.status.busy": "2023-08-12T23:20:23.427061Z",
     "iopub.status.idle": "2023-08-12T23:20:35.160941Z",
     "shell.execute_reply": "2023-08-12T23:20:35.159782Z"
    },
    "jupyter": {
     "outputs_hidden": false
    },
    "papermill": {
     "duration": 11.743114,
     "end_time": "2023-08-12T23:20:35.163347",
     "exception": false,
     "start_time": "2023-08-12T23:20:23.420233",
     "status": "completed"
    },
    "tags": []
   },
   "outputs": [],
   "source": [
    "columns = ['TOURNID']\n",
    "scraped_tournid_df = pd.DataFrame(columns=columns)\n",
    "\n",
    "years_list = season_years_df[(season_years_df['YEAR'] >= from_year) & (season_years_df['YEAR'] <= to_year)]['YEAR'].unique()\n",
    "for year in years_list:\n",
    "    data = bvbinfo_tourni_scraper(year)\n",
    "    if data:  # Check if data is not empty\n",
    "        temp_df = pd.DataFrame(data, columns=['TOURNID'])\n",
    "        scraped_tournid_df = pd.concat([scraped_tournid_df, temp_df], ignore_index=True)"
   ]
  },
  {
   "cell_type": "code",
   "execution_count": 8,
   "id": "02c37fc4",
   "metadata": {
    "_cell_guid": "b955c679-2479-433a-b1e3-21e511c29246",
    "_uuid": "f800ae70-1e1a-44c0-bbb6-788e74d0b2a8",
    "collapsed": false,
    "execution": {
     "iopub.execute_input": "2023-08-12T23:20:35.173993Z",
     "iopub.status.busy": "2023-08-12T23:20:35.173635Z",
     "iopub.status.idle": "2023-08-12T23:20:35.178373Z",
     "shell.execute_reply": "2023-08-12T23:20:35.177100Z"
    },
    "jupyter": {
     "outputs_hidden": false
    },
    "papermill": {
     "duration": 0.012971,
     "end_time": "2023-08-12T23:20:35.181013",
     "exception": false,
     "start_time": "2023-08-12T23:20:35.168042",
     "status": "completed"
    },
    "tags": []
   },
   "outputs": [],
   "source": [
    "#print(scraped_tournid_df.isnull().sum())\n",
    "#scraped_tournid_df.info()"
   ]
  },
  {
   "cell_type": "markdown",
   "id": "70a664f9",
   "metadata": {
    "_cell_guid": "dee37b67-5f3c-4bb0-ac60-f3d6c0e9d734",
    "_uuid": "53054879-86b6-49dc-ad65-49540c71faab",
    "papermill": {
     "duration": 0.004283,
     "end_time": "2023-08-12T23:20:35.190301",
     "exception": false,
     "start_time": "2023-08-12T23:20:35.186018",
     "status": "completed"
    },
    "tags": []
   },
   "source": [
    "### Scrape Team Tournament Information"
   ]
  },
  {
   "cell_type": "code",
   "execution_count": 9,
   "id": "1fea1801",
   "metadata": {
    "_cell_guid": "edb9a69d-0205-4a0a-b96c-18825b11c7de",
    "_uuid": "fff36173-4b25-45a5-9fed-e80f3ceab4f1",
    "collapsed": false,
    "execution": {
     "iopub.execute_input": "2023-08-12T23:20:35.200533Z",
     "iopub.status.busy": "2023-08-12T23:20:35.200206Z",
     "iopub.status.idle": "2023-08-12T23:20:35.204849Z",
     "shell.execute_reply": "2023-08-12T23:20:35.204041Z"
    },
    "jupyter": {
     "outputs_hidden": false
    },
    "papermill": {
     "duration": 0.011889,
     "end_time": "2023-08-12T23:20:35.206537",
     "exception": false,
     "start_time": "2023-08-12T23:20:35.194648",
     "status": "completed"
    },
    "tags": []
   },
   "outputs": [],
   "source": [
    "columns = ['Finish', 'Player', 'Partner', 'Player_ID', 'Partner_ID', 'Country'\n",
    "           , 'TourniStartDate', 'TourniEndDate', 'TournLocation', 'Event', 'TOURNID']\n",
    "\n",
    "tournament_list = ['CHALLENGE','ELITE16']\n",
    "len_columns = len(columns)"
   ]
  },
  {
   "cell_type": "code",
   "execution_count": 10,
   "id": "cb477a62",
   "metadata": {
    "_cell_guid": "ceb537cc-519f-4735-b5d8-cbcd89f9d542",
    "_uuid": "fb731cd4-41c3-4ce6-b455-c24b1d8eb419",
    "collapsed": false,
    "execution": {
     "iopub.execute_input": "2023-08-12T23:20:35.216674Z",
     "iopub.status.busy": "2023-08-12T23:20:35.216390Z",
     "iopub.status.idle": "2023-08-12T23:20:35.222906Z",
     "shell.execute_reply": "2023-08-12T23:20:35.222012Z"
    },
    "jupyter": {
     "outputs_hidden": false
    },
    "papermill": {
     "duration": 0.013629,
     "end_time": "2023-08-12T23:20:35.224680",
     "exception": false,
     "start_time": "2023-08-12T23:20:35.211051",
     "status": "completed"
    },
    "tags": []
   },
   "outputs": [],
   "source": [
    "import re\n",
    "from datetime import datetime\n",
    "def extract_dates(s):\n",
    "    # Regular expression pattern to match the date scenarios\n",
    "    pattern = r\"([A-Za-z]+) (\\d+)-(?:([A-Za-z]+) )?(\\d+), (\\d{4})\"\n",
    "    match = re.search(pattern, s)\n",
    "    \n",
    "    if not match:\n",
    "        return None, None\n",
    "\n",
    "    start_month, start_day, end_month, end_day, year = match.groups()\n",
    "    # If end_month is not provided, use start_month\n",
    "    end_month = end_month or start_month\n",
    "    \n",
    "    start_date_str = f\"{start_month} {start_day}, {year}\"\n",
    "    end_date_str = f\"{end_month} {end_day}, {year}\"\n",
    "    \n",
    "    # Convert to datetime objects for further processing if needed\n",
    "    start_date = datetime.strptime(start_date_str, '%B %d, %Y').date()\n",
    "    end_date = datetime.strptime(end_date_str, '%B %d, %Y').date()\n",
    "    \n",
    "    return start_date, end_date"
   ]
  },
  {
   "cell_type": "code",
   "execution_count": 11,
   "id": "335d143b",
   "metadata": {
    "_cell_guid": "1962b17f-b2c7-42df-88e9-58ad1874e158",
    "_uuid": "68558a0b-b6d4-4db2-ba1f-cb629187ed96",
    "collapsed": false,
    "execution": {
     "iopub.execute_input": "2023-08-12T23:20:35.235051Z",
     "iopub.status.busy": "2023-08-12T23:20:35.234699Z",
     "iopub.status.idle": "2023-08-12T23:20:35.248143Z",
     "shell.execute_reply": "2023-08-12T23:20:35.246748Z"
    },
    "jupyter": {
     "outputs_hidden": false
    },
    "papermill": {
     "duration": 0.020886,
     "end_time": "2023-08-12T23:20:35.250203",
     "exception": false,
     "start_time": "2023-08-12T23:20:35.229317",
     "status": "completed"
    },
    "tags": []
   },
   "outputs": [],
   "source": [
    "\n",
    "def bvbinfo_team_scraper(tourn_id, top_n):\n",
    "    url = base_tournament_url + str(tourn_id)\n",
    "\n",
    "    response = requests.get(url)\n",
    "    soup = BeautifulSoup(response.content, 'html.parser')\n",
    "\n",
    "    # Extracting team information from the table  \n",
    "    table = soup.find_all('table')\n",
    "\n",
    "    if len(table) < 5:\n",
    "        return []\n",
    "    rows = table[4].find_all('tr')\n",
    "    header_element = rows[0]\n",
    "    header_text = header_element.get_text(strip=True, separator=\"\\n\").split(\"\\n\")\n",
    "   \n",
    "    # Extract category, tournament, location, and start-end date\n",
    "    category = header_text[0].split(\"'\")[0]  \n",
    "    tournament = ''.join(header_text[0].split()[4:])\n",
    "    location = header_text[0].split()[3]  \n",
    "    startenddate = header_text[1]  \n",
    "\n",
    "    #print(startenddate)    \n",
    "    tourniStartDate, tourniEndDate = extract_dates(startenddate)        \n",
    "    \n",
    "    event = str(tournament) + \" \" + str(category)\n",
    "    \n",
    "    misc_info = []\n",
    "    misc_info =[tourniStartDate, tourniEndDate, location, event, tourn_id]\n",
    "    data = []\n",
    "            \n",
    "    fetch_columns = columns[:3] + [columns[5]]\n",
    "    \n",
    "    row_data = rows[1].find_all('td')\n",
    "    for val in row_data[:4]:\n",
    "        # print(val.text.strip(), fetch_columns)\n",
    "        if val.text.strip() not in fetch_columns:\n",
    "            print(f\"bvbinfo_team_scraper - Error: check website structure\")\n",
    "            return []\n",
    "        \n",
    "    if len([1 for val in tournament_list if val in tournament.upper()]) == 0:\n",
    "        return []\n",
    "\n",
    "    for cols_element in rows[2:]:\n",
    "        values = []\n",
    "        players = []\n",
    "        \n",
    "        try:\n",
    "            col_element_data = cols_element.find_all('td')\n",
    "            finish_rank = col_element_data[0].text.strip()\n",
    "            if not finish_rank:\n",
    "                finish_rank = 999\n",
    "             \n",
    "            if 'Canada' in cols_element.get_text() or int(finish_rank) <= int(top_n) or int(top_n) == 0:\n",
    "                for col in col_element_data[:4]: # don't need all columns\n",
    "                    a_tag = col.find('a', href=True)\n",
    "                    if a_tag and 'player.asp' in a_tag['href']:\n",
    "                        value = a_tag['href'].split('=')[-1]\n",
    "                        players.append(value)\n",
    "                    #else:\n",
    "                    value = col.text.strip()\n",
    "                    values.append(value)\n",
    "                data.append(values[:3] + players + values[3:] + misc_info)\n",
    "        except ValueError as e:\n",
    "                print(f\"bvbinfo_team_scraper - Error: {e.args[0]} - {tourn_id}\")\n",
    "                 \n",
    "    return data"
   ]
  },
  {
   "cell_type": "code",
   "execution_count": 12,
   "id": "517daaa9",
   "metadata": {
    "_cell_guid": "e40e99ad-20bb-408f-9ab6-7f2ae7550ba0",
    "_uuid": "53f2b699-0699-471e-9003-a66096772a5a",
    "collapsed": false,
    "execution": {
     "iopub.execute_input": "2023-08-12T23:20:35.260865Z",
     "iopub.status.busy": "2023-08-12T23:20:35.260512Z",
     "iopub.status.idle": "2023-08-12T23:27:42.099824Z",
     "shell.execute_reply": "2023-08-12T23:27:42.098279Z"
    },
    "jupyter": {
     "outputs_hidden": false
    },
    "papermill": {
     "duration": 426.84742,
     "end_time": "2023-08-12T23:27:42.102379",
     "exception": false,
     "start_time": "2023-08-12T23:20:35.254959",
     "status": "completed"
    },
    "tags": []
   },
   "outputs": [],
   "source": [
    "scraped_team_df = pd.DataFrame(columns=columns)\n",
    "\n",
    "for tournament_id in scraped_tournid_df['TOURNID']:\n",
    "# for tournament_id in [3982, 3961]:\n",
    "    data = bvbinfo_team_scraper(tournament_id, 5)\n",
    "    if data:  # Check if data is not empty\n",
    "        if len(data[0]) == len_columns:\n",
    "            temp_df = pd.DataFrame(data, columns=columns)\n",
    "            scraped_team_df = pd.concat([scraped_team_df, temp_df], ignore_index=True)"
   ]
  },
  {
   "cell_type": "code",
   "execution_count": 13,
   "id": "e957b128",
   "metadata": {
    "_cell_guid": "c1c9fbd6-29ef-44e0-97bf-8ee6ed777d08",
    "_uuid": "b8b3697d-0d22-4fcf-83ba-606bb474397e",
    "collapsed": false,
    "execution": {
     "iopub.execute_input": "2023-08-12T23:27:42.115352Z",
     "iopub.status.busy": "2023-08-12T23:27:42.114983Z",
     "iopub.status.idle": "2023-08-12T23:27:42.119102Z",
     "shell.execute_reply": "2023-08-12T23:27:42.118211Z"
    },
    "jupyter": {
     "outputs_hidden": false
    },
    "papermill": {
     "duration": 0.011298,
     "end_time": "2023-08-12T23:27:42.120662",
     "exception": false,
     "start_time": "2023-08-12T23:27:42.109364",
     "status": "completed"
    },
    "tags": []
   },
   "outputs": [],
   "source": [
    "#scraped_team_df.info()"
   ]
  },
  {
   "cell_type": "code",
   "execution_count": 14,
   "id": "0274a1b9",
   "metadata": {
    "_cell_guid": "65eaf14f-2bf9-4ec7-ab68-7f00716dc645",
    "_uuid": "e9e3d2ff-4877-4c57-a82d-52012982f5d7",
    "collapsed": false,
    "execution": {
     "iopub.execute_input": "2023-08-12T23:27:42.130402Z",
     "iopub.status.busy": "2023-08-12T23:27:42.130081Z",
     "iopub.status.idle": "2023-08-12T23:27:42.142511Z",
     "shell.execute_reply": "2023-08-12T23:27:42.141619Z"
    },
    "jupyter": {
     "outputs_hidden": false
    },
    "papermill": {
     "duration": 0.01978,
     "end_time": "2023-08-12T23:27:42.144626",
     "exception": false,
     "start_time": "2023-08-12T23:27:42.124846",
     "status": "completed"
    },
    "tags": []
   },
   "outputs": [],
   "source": [
    "scraped_team_df.to_csv(\"scraped_team_info.csv\", index=False)"
   ]
  }
 ],
 "metadata": {
  "kernelspec": {
   "display_name": "Python 3",
   "language": "python",
   "name": "python3"
  },
  "language_info": {
   "codemirror_mode": {
    "name": "ipython",
    "version": 3
   },
   "file_extension": ".py",
   "mimetype": "text/x-python",
   "name": "python",
   "nbconvert_exporter": "python",
   "pygments_lexer": "ipython3",
   "version": "3.10.12"
  },
  "papermill": {
   "default_parameters": {},
   "duration": 449.219984,
   "end_time": "2023-08-12T23:27:42.971291",
   "environment_variables": {},
   "exception": null,
   "input_path": "__notebook__.ipynb",
   "output_path": "__notebook__.ipynb",
   "parameters": {},
   "start_time": "2023-08-12T23:20:13.751307",
   "version": "2.4.0"
  }
 },
 "nbformat": 4,
 "nbformat_minor": 5
}

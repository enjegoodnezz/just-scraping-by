{
 "cells": [
  {
   "cell_type": "code",
   "execution_count": 1,
   "id": "265d695b",
   "metadata": {
    "_cell_guid": "b1076dfc-b9ad-4769-8c92-a6c4dae69d19",
    "_uuid": "8f2839f25d086af736a60e9eeb907d3b93b6e0e5",
    "execution": {
     "iopub.execute_input": "2023-08-11T23:22:36.188327Z",
     "iopub.status.busy": "2023-08-11T23:22:36.187950Z",
     "iopub.status.idle": "2023-08-11T23:22:36.424513Z",
     "shell.execute_reply": "2023-08-11T23:22:36.423470Z"
    },
    "papermill": {
     "duration": 0.247532,
     "end_time": "2023-08-11T23:22:36.427255",
     "exception": false,
     "start_time": "2023-08-11T23:22:36.179723",
     "status": "completed"
    },
    "tags": []
   },
   "outputs": [
    {
     "name": "stdout",
     "output_type": "stream",
     "text": [
      "/kaggle/input/unique-bvbinfo-tournament-id/unique_tournid.csv\n"
     ]
    }
   ],
   "source": [
    "import numpy as np # linear algebra\n",
    "import pandas as pd # data processing, CSV file I/O (e.g. pd.read_csv)\n",
    "\n",
    "import os\n",
    "for dirname, _, filenames in os.walk('/kaggle/input'):\n",
    "    for filename in filenames:\n",
    "        print(os.path.join(dirname, filename))\n",
    "\n",
    "import requests\n",
    "from bs4 import BeautifulSoup"
   ]
  },
  {
   "cell_type": "markdown",
   "id": "30494490",
   "metadata": {
    "papermill": {
     "duration": 0.00578,
     "end_time": "2023-08-11T23:22:36.439161",
     "exception": false,
     "start_time": "2023-08-11T23:22:36.433381",
     "status": "completed"
    },
    "tags": []
   },
   "source": [
    "### Scrape Sessions"
   ]
  },
  {
   "cell_type": "code",
   "execution_count": 2,
   "id": "c1b5fd9a",
   "metadata": {
    "execution": {
     "iopub.execute_input": "2023-08-11T23:22:36.452657Z",
     "iopub.status.busy": "2023-08-11T23:22:36.451588Z",
     "iopub.status.idle": "2023-08-11T23:22:36.456633Z",
     "shell.execute_reply": "2023-08-11T23:22:36.455599Z"
    },
    "papermill": {
     "duration": 0.014255,
     "end_time": "2023-08-11T23:22:36.459005",
     "exception": false,
     "start_time": "2023-08-11T23:22:36.444750",
     "status": "completed"
    },
    "tags": []
   },
   "outputs": [],
   "source": [
    "base_season_url = \"http://www.bvbinfo.com/season.asp\""
   ]
  },
  {
   "cell_type": "code",
   "execution_count": 3,
   "id": "6ca47c14",
   "metadata": {
    "execution": {
     "iopub.execute_input": "2023-08-11T23:22:36.472406Z",
     "iopub.status.busy": "2023-08-11T23:22:36.472022Z",
     "iopub.status.idle": "2023-08-11T23:22:36.483832Z",
     "shell.execute_reply": "2023-08-11T23:22:36.482733Z"
    },
    "papermill": {
     "duration": 0.021226,
     "end_time": "2023-08-11T23:22:36.486018",
     "exception": false,
     "start_time": "2023-08-11T23:22:36.464792",
     "status": "completed"
    },
    "tags": []
   },
   "outputs": [],
   "source": [
    "def bvbinfo_season_scraper():\n",
    "    url = base_season_url\n",
    "    \n",
    "    year_index = 0\n",
    "    fivb_index = 15\n",
    "    \n",
    "    response = requests.get(url)\n",
    "    soup = BeautifulSoup(response.content, 'html.parser')\n",
    "\n",
    "    # Extracting team information from the table\n",
    "    table = soup.find_all('table')\n",
    "\n",
    "    if len(table) < 2:\n",
    "        return []\n",
    "    rows = table[2].find_all('tr')\n",
    "    header_element = rows[2]\n",
    "    header_text = header_element.get_text(strip=True, separator=\"\\n\").split(\"\\n\")\n",
    "    print(header_text[year_index], header_text[fivb_index])\n",
    "    \n",
    "    if (header_text[year_index].upper() != 'YEAR') or (header_text[fivb_index].upper() != 'FIVB'):\n",
    "        print(f\"bvbinfo_season_scraper - Error: check website structure\")\n",
    "        return []\n",
    "        \n",
    "    season_years = []\n",
    "    for cols_element in rows[3:]:\n",
    "        try:\n",
    "            col_element_data = cols_element.find_all('td')\n",
    "            len_col_element_data = len(col_element_data)\n",
    "\n",
    "            if len_col_element_data >= fivb_index:\n",
    "                col = col_element_data[fivb_index]\n",
    "                col.find('a', href=True)\n",
    "                a_tag = col.find('a', href=True)\n",
    "                if a_tag and 'Season.asp' in a_tag['href']:\n",
    "                    value = a_tag['href'].split('=')[-1]            \n",
    "                    season_years.append(value)\n",
    "        except ValueError as e:\n",
    "                print(f\"bvbinfo_tourni_scraper - Error: {e.args[0]}\")\n",
    "\n",
    "    return season_years"
   ]
  },
  {
   "cell_type": "code",
   "execution_count": 4,
   "id": "d0b0888f",
   "metadata": {
    "execution": {
     "iopub.execute_input": "2023-08-11T23:22:36.500231Z",
     "iopub.status.busy": "2023-08-11T23:22:36.499540Z",
     "iopub.status.idle": "2023-08-11T23:22:38.127531Z",
     "shell.execute_reply": "2023-08-11T23:22:38.125790Z"
    },
    "papermill": {
     "duration": 1.638137,
     "end_time": "2023-08-11T23:22:38.130226",
     "exception": false,
     "start_time": "2023-08-11T23:22:36.492089",
     "status": "completed"
    },
    "tags": []
   },
   "outputs": [
    {
     "name": "stdout",
     "output_type": "stream",
     "text": [
      "Year FIVB\n",
      "<class 'pandas.core.frame.DataFrame'>\n",
      "RangeIndex: 38 entries, 0 to 37\n",
      "Data columns (total 1 columns):\n",
      " #   Column  Non-Null Count  Dtype \n",
      "---  ------  --------------  ----- \n",
      " 0   YEAR    38 non-null     object\n",
      "dtypes: object(1)\n",
      "memory usage: 432.0+ bytes\n"
     ]
    }
   ],
   "source": [
    "season_years = bvbinfo_season_scraper()\n",
    "season_years_df = pd.DataFrame(season_years, columns=['YEAR'])\n",
    "season_years_df.info()"
   ]
  },
  {
   "cell_type": "markdown",
   "id": "2b5d63e8",
   "metadata": {
    "papermill": {
     "duration": 0.005768,
     "end_time": "2023-08-11T23:22:38.142059",
     "exception": false,
     "start_time": "2023-08-11T23:22:38.136291",
     "status": "completed"
    },
    "tags": []
   },
   "source": [
    "### Scrape Season Tournament IDs"
   ]
  },
  {
   "cell_type": "code",
   "execution_count": 5,
   "id": "0f66bb41",
   "metadata": {
    "execution": {
     "iopub.execute_input": "2023-08-11T23:22:38.155746Z",
     "iopub.status.busy": "2023-08-11T23:22:38.155341Z",
     "iopub.status.idle": "2023-08-11T23:22:38.159582Z",
     "shell.execute_reply": "2023-08-11T23:22:38.158664Z"
    },
    "papermill": {
     "duration": 0.013792,
     "end_time": "2023-08-11T23:22:38.161681",
     "exception": false,
     "start_time": "2023-08-11T23:22:38.147889",
     "status": "completed"
    },
    "tags": []
   },
   "outputs": [],
   "source": [
    "base_season_summ_url = \"http://www.bvbinfo.com/Season.asp?AssocID=3&Year=\""
   ]
  },
  {
   "cell_type": "code",
   "execution_count": 6,
   "id": "94881e50",
   "metadata": {
    "execution": {
     "iopub.execute_input": "2023-08-11T23:22:38.175863Z",
     "iopub.status.busy": "2023-08-11T23:22:38.175001Z",
     "iopub.status.idle": "2023-08-11T23:22:38.185764Z",
     "shell.execute_reply": "2023-08-11T23:22:38.184930Z"
    },
    "papermill": {
     "duration": 0.020178,
     "end_time": "2023-08-11T23:22:38.187827",
     "exception": false,
     "start_time": "2023-08-11T23:22:38.167649",
     "status": "completed"
    },
    "tags": []
   },
   "outputs": [],
   "source": [
    "def bvbinfo_tourni_scraper(year):\n",
    "    url = base_season_summ_url + str(year)\n",
    "    \n",
    "    location_index = 1\n",
    "    \n",
    "    response = requests.get(url)\n",
    "    soup = BeautifulSoup(response.content, 'html.parser')\n",
    "\n",
    "    # Extracting team information from the table\n",
    "    table = soup.find_all('table')\n",
    "\n",
    "    if len(table) < 2:\n",
    "        return []\n",
    "    rows = table[2].find_all('tr')\n",
    "    header_element = rows[3]\n",
    "    header_text = header_element.get_text(strip=True, separator=\"\\n\").split(\"\\n\")\n",
    "    \n",
    "    if header_text[location_index].upper() != 'LOCATION':\n",
    "        print(f\"bvbinfo_tourni_scraper - Error: check website structure\")\n",
    "        return []\n",
    "    tournament_ids = []\n",
    "\n",
    "    for cols_element in rows[4:]:\n",
    "        try:\n",
    "            col_element_data = cols_element.find_all('td')\n",
    "            len_col_element_data = len(col_element_data)\n",
    "            if len_col_element_data > location_index:\n",
    "                col = col_element_data[location_index]\n",
    "\n",
    "                col.find('a', href=True)\n",
    "                a_tag = col.find('a', href=True)\n",
    "                if a_tag and 'Tournament.asp' in a_tag['href']:\n",
    "                    value = a_tag['href'].split('=')[-1]\n",
    "                    tournament_ids.append(value)                \n",
    "        except ValueError as e:\n",
    "                print(f\"bvbinfo_tourni_scraper - Error: {e.args[0]}\")\n",
    "                \n",
    "    return tournament_ids"
   ]
  },
  {
   "cell_type": "code",
   "execution_count": 7,
   "id": "b1de3226",
   "metadata": {
    "execution": {
     "iopub.execute_input": "2023-08-11T23:22:38.202232Z",
     "iopub.status.busy": "2023-08-11T23:22:38.201619Z",
     "iopub.status.idle": "2023-08-11T23:22:51.186623Z",
     "shell.execute_reply": "2023-08-11T23:22:51.185659Z"
    },
    "papermill": {
     "duration": 12.99549,
     "end_time": "2023-08-11T23:22:51.189373",
     "exception": false,
     "start_time": "2023-08-11T23:22:38.193883",
     "status": "completed"
    },
    "tags": []
   },
   "outputs": [],
   "source": [
    "columns = ['TOURNID']\n",
    "scraped_tournid_df = pd.DataFrame(columns=columns)\n",
    "\n",
    "years_list = season_years_df[(season_years_df['YEAR'] >= '2010') & (season_years_df['YEAR'] <= '2023')]['YEAR'].unique()\n",
    "for year in years_list:\n",
    "    data = bvbinfo_tourni_scraper(year)\n",
    "    if data:  # Check if data is not empty\n",
    "        temp_df = pd.DataFrame(data, columns=['TOURNID'])\n",
    "        scraped_tournid_df = pd.concat([scraped_tournid_df, temp_df], ignore_index=True)"
   ]
  },
  {
   "cell_type": "code",
   "execution_count": 8,
   "id": "ef187526",
   "metadata": {
    "execution": {
     "iopub.execute_input": "2023-08-11T23:22:51.203505Z",
     "iopub.status.busy": "2023-08-11T23:22:51.203123Z",
     "iopub.status.idle": "2023-08-11T23:22:51.216195Z",
     "shell.execute_reply": "2023-08-11T23:22:51.215144Z"
    },
    "papermill": {
     "duration": 0.023095,
     "end_time": "2023-08-11T23:22:51.218833",
     "exception": false,
     "start_time": "2023-08-11T23:22:51.195738",
     "status": "completed"
    },
    "tags": []
   },
   "outputs": [
    {
     "name": "stdout",
     "output_type": "stream",
     "text": [
      "TOURNID    0\n",
      "dtype: int64\n",
      "<class 'pandas.core.frame.DataFrame'>\n",
      "RangeIndex: 688 entries, 0 to 687\n",
      "Data columns (total 1 columns):\n",
      " #   Column   Non-Null Count  Dtype \n",
      "---  ------   --------------  ----- \n",
      " 0   TOURNID  688 non-null    object\n",
      "dtypes: object(1)\n",
      "memory usage: 5.5+ KB\n"
     ]
    }
   ],
   "source": [
    "print(scraped_tournid_df.isnull().sum())\n",
    "scraped_tournid_df.info()"
   ]
  },
  {
   "cell_type": "markdown",
   "id": "04e7c63e",
   "metadata": {
    "papermill": {
     "duration": 0.007227,
     "end_time": "2023-08-11T23:22:51.231876",
     "exception": false,
     "start_time": "2023-08-11T23:22:51.224649",
     "status": "completed"
    },
    "tags": []
   },
   "source": [
    "### Scrape Team Tournament Information"
   ]
  },
  {
   "cell_type": "code",
   "execution_count": 9,
   "id": "7de8d046",
   "metadata": {
    "execution": {
     "iopub.execute_input": "2023-08-11T23:22:51.246091Z",
     "iopub.status.busy": "2023-08-11T23:22:51.245356Z",
     "iopub.status.idle": "2023-08-11T23:22:51.250513Z",
     "shell.execute_reply": "2023-08-11T23:22:51.249730Z"
    },
    "papermill": {
     "duration": 0.014885,
     "end_time": "2023-08-11T23:22:51.252716",
     "exception": false,
     "start_time": "2023-08-11T23:22:51.237831",
     "status": "completed"
    },
    "tags": []
   },
   "outputs": [],
   "source": [
    "base_tournament_url = \"http://www.bvbinfo.com/Tournament.asp?ID=\"\n",
    "\n",
    "columns = ['Finish', 'Player', 'Partner', 'Player_ID', 'Partner_ID', 'Country'\n",
    "           , 'TourniStartDate', 'TourniEndDate', 'TournLocation', 'Event', 'TOURNID']\n",
    "\n",
    "tournament_list = ['CHALLENGE','ELITE16']\n",
    "len_columns = len(columns)"
   ]
  },
  {
   "cell_type": "code",
   "execution_count": 10,
   "id": "07a62c58",
   "metadata": {
    "execution": {
     "iopub.execute_input": "2023-08-11T23:22:51.266569Z",
     "iopub.status.busy": "2023-08-11T23:22:51.266105Z",
     "iopub.status.idle": "2023-08-11T23:22:51.284284Z",
     "shell.execute_reply": "2023-08-11T23:22:51.283057Z"
    },
    "papermill": {
     "duration": 0.028179,
     "end_time": "2023-08-11T23:22:51.286830",
     "exception": false,
     "start_time": "2023-08-11T23:22:51.258651",
     "status": "completed"
    },
    "tags": []
   },
   "outputs": [],
   "source": [
    "\n",
    "def bvbinfo_team_scraper(tourn_id, top_n):\n",
    "    url = base_tournament_url + str(tourn_id)\n",
    "\n",
    "    response = requests.get(url)\n",
    "    soup = BeautifulSoup(response.content, 'html.parser')\n",
    "\n",
    "    # Extracting team information from the table  \n",
    "    table = soup.find_all('table')\n",
    "\n",
    "    if len(table) < 5:\n",
    "        return []\n",
    "    rows = table[4].find_all('tr')\n",
    "    header_element = rows[0]\n",
    "    header_text = header_element.get_text(strip=True, separator=\"\\n\").split(\"\\n\")\n",
    "   \n",
    "    # Extract category, tournament, location, and start-end date\n",
    "    category = header_text[0].split(\"'\")[0]  \n",
    "    tournament = ''.join(header_text[0].split()[4:])\n",
    "    location = header_text[0].split()[3]  \n",
    "    startenddate = header_text[1]  \n",
    "    \n",
    "    event = str(tournament) + \" \" + str(category)\n",
    "    # Split by space to get month and day range\n",
    "    month, day_range, year = startenddate.split()[:3]\n",
    "\n",
    "    # Split day range by '-'\n",
    "    if '-' not in day_range:\n",
    "        return []\n",
    "    start_day, end_day = day_range.split('-')\n",
    "\n",
    "    # Construct tourniStartDate and tourniEndDate\n",
    "    tourniStartDate = f\"{month} {start_day}, {year}\"\n",
    "    tourniEndDate = f\"{month} {end_day}, {year}\"\n",
    "    \n",
    "    misc_info = []\n",
    "    misc_info =[tourniStartDate, tourniStartDate, location, event, tourn_id]\n",
    "    data = []\n",
    "            \n",
    "    fetch_columns = columns[:3] + [columns[5]]\n",
    "    \n",
    "    row_data = rows[1].find_all('td')\n",
    "    for val in row_data[:4]:\n",
    "        # print(val.text.strip(), fetch_columns)\n",
    "        if val.text.strip() not in fetch_columns:\n",
    "            print(f\"bvbinfo_team_scraper - Error: check website structure\")\n",
    "            return []\n",
    "        \n",
    "    if len([1 for val in tournament_list if val in tournament.upper()]) == 0:\n",
    "        return []\n",
    "\n",
    "    for cols_element in rows[2:]:\n",
    "        values = []\n",
    "        players = []\n",
    "        \n",
    "        try:\n",
    "            col_element_data = cols_element.find_all('td')\n",
    "            finish_rank = col_element_data[0].text.strip()\n",
    "            if not finish_rank:\n",
    "                finish_rank = 999\n",
    "             \n",
    "            if 'Canada' in cols_element.get_text() or int(finish_rank) <= int(top_n) or int(top_n) == 0:\n",
    "                for col in col_element_data[:4]: # don't need all columns\n",
    "                    a_tag = col.find('a', href=True)\n",
    "                    if a_tag and 'player.asp' in a_tag['href']:\n",
    "                        value = a_tag['href'].split('=')[-1]\n",
    "                        players.append(value)\n",
    "                    #else:\n",
    "                    value = col.text.strip()\n",
    "                    values.append(value)\n",
    "                data.append(values[:3] + players + values[3:] + misc_info)\n",
    "        except ValueError as e:\n",
    "                print(f\"bvbinfo_team_scraper - Error: {e.args[0]} - {tourn_id}\")\n",
    "                 \n",
    "    return data"
   ]
  },
  {
   "cell_type": "code",
   "execution_count": 11,
   "id": "88bcd9e2",
   "metadata": {
    "execution": {
     "iopub.execute_input": "2023-08-11T23:22:51.301211Z",
     "iopub.status.busy": "2023-08-11T23:22:51.300805Z",
     "iopub.status.idle": "2023-08-11T23:31:10.127431Z",
     "shell.execute_reply": "2023-08-11T23:31:10.126241Z"
    },
    "papermill": {
     "duration": 498.837616,
     "end_time": "2023-08-11T23:31:10.130586",
     "exception": false,
     "start_time": "2023-08-11T23:22:51.292970",
     "status": "completed"
    },
    "tags": []
   },
   "outputs": [],
   "source": [
    "scraped_team_df = pd.DataFrame(columns=columns)\n",
    "\n",
    "for tournament_id in scraped_tournid_df['TOURNID']:\n",
    "# for tournament_id in [3961]:\n",
    "    data = bvbinfo_team_scraper(tournament_id, 5)\n",
    "    if data:  # Check if data is not empty\n",
    "        if len(data[0]) == len_columns:\n",
    "            temp_df = pd.DataFrame(data, columns=columns)\n",
    "            scraped_team_df = pd.concat([scraped_team_df, temp_df], ignore_index=True)"
   ]
  },
  {
   "cell_type": "code",
   "execution_count": 12,
   "id": "c3877cad",
   "metadata": {
    "execution": {
     "iopub.execute_input": "2023-08-11T23:31:10.145363Z",
     "iopub.status.busy": "2023-08-11T23:31:10.144573Z",
     "iopub.status.idle": "2023-08-11T23:31:10.153097Z",
     "shell.execute_reply": "2023-08-11T23:31:10.152290Z"
    },
    "papermill": {
     "duration": 0.018844,
     "end_time": "2023-08-11T23:31:10.155935",
     "exception": false,
     "start_time": "2023-08-11T23:31:10.137091",
     "status": "completed"
    },
    "tags": []
   },
   "outputs": [
    {
     "data": {
      "text/plain": [
       "array(['BPTElite16 Men', 'BPTElite16 Women', 'ChallengeLaPaz Men',\n",
       "       'ChallengeLaPaz Women', 'Elite16Tepic Men', 'Elite16Tepic Women',\n",
       "       'ChallengeItapema Men', 'ChallengeItapema Women',\n",
       "       'ChallengeSaquarema Men', 'ChallengeSaquarema Women',\n",
       "       'Elite16Uberlândia Men', 'Elite16Uberlândia Women',\n",
       "       'Elite16Ostrava Men', 'Elite16Ostrava Women',\n",
       "       'ChallengeJurmala Men', 'ChallengeJurmala Women',\n",
       "       'Elite16Gstaad Men', 'Elite16Gstaad Women',\n",
       "       'ChallengePortugal Men', 'ChallengePortugal Women',\n",
       "       'ChallengeEdmonton Men', 'ChallengeEdmonton Women',\n",
       "       'Elite16Montréal Men', 'Elite16Montréal Women',\n",
       "       'Elite16Hamburg Men', 'Elite16Hamburg Women', 'Elite16Paris Men',\n",
       "       'Elite16Paris Women', 'ChallengeGoa Men', 'ChallengeGoa Women',\n",
       "       'ChallengeMaldives Men', 'ChallengeMaldives Women',\n",
       "       'Elite16Dubai Men', 'Elite16Dubai Women', 'ChallengeHaikou Men',\n",
       "       'ChallengeHaikou Women', 'ChallengeChiangMai Men',\n",
       "       'ChallengeChiangMai Women', 'Elite16Australia Men',\n",
       "       'Elite16Australia Women', 'ChallengeNuvali Men',\n",
       "       'ChallengeNuvali Women', 'Challenge Men', 'Challenge Women',\n",
       "       'Elite16 Men', 'Elite16 Women', '1stChallenge Men',\n",
       "       '1stChallenge Women', '2ndChallenge Men', '2ndChallenge Women',\n",
       "       'TownElite16 Men', 'TownElite16 Women'], dtype=object)"
      ]
     },
     "execution_count": 12,
     "metadata": {},
     "output_type": "execute_result"
    }
   ],
   "source": [
    "scraped_team_df['Event'].unique()"
   ]
  },
  {
   "cell_type": "code",
   "execution_count": 13,
   "id": "af6c06ca",
   "metadata": {
    "execution": {
     "iopub.execute_input": "2023-08-11T23:31:10.170785Z",
     "iopub.status.busy": "2023-08-11T23:31:10.170346Z",
     "iopub.status.idle": "2023-08-11T23:31:10.367508Z",
     "shell.execute_reply": "2023-08-11T23:31:10.366557Z"
    },
    "papermill": {
     "duration": 0.208015,
     "end_time": "2023-08-11T23:31:10.370346",
     "exception": false,
     "start_time": "2023-08-11T23:31:10.162331",
     "status": "completed"
    },
    "tags": []
   },
   "outputs": [],
   "source": [
    "scraped_team_df.to_csv(\"scraped_tournament_info.csv\")"
   ]
  }
 ],
 "metadata": {
  "kernelspec": {
   "display_name": "Python 3",
   "language": "python",
   "name": "python3"
  },
  "language_info": {
   "codemirror_mode": {
    "name": "ipython",
    "version": 3
   },
   "file_extension": ".py",
   "mimetype": "text/x-python",
   "name": "python",
   "nbconvert_exporter": "python",
   "pygments_lexer": "ipython3",
   "version": "3.10.12"
  },
  "papermill": {
   "default_parameters": {},
   "duration": 527.703016,
   "end_time": "2023-08-11T23:31:11.301199",
   "environment_variables": {},
   "exception": null,
   "input_path": "__notebook__.ipynb",
   "output_path": "__notebook__.ipynb",
   "parameters": {},
   "start_time": "2023-08-11T23:22:23.598183",
   "version": "2.4.0"
  }
 },
 "nbformat": 4,
 "nbformat_minor": 5
}

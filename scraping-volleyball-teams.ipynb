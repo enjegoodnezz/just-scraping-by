{
 "cells": [
  {
   "cell_type": "code",
   "execution_count": 1,
   "id": "fee9bb35",
   "metadata": {
    "_cell_guid": "b1076dfc-b9ad-4769-8c92-a6c4dae69d19",
    "_uuid": "8f2839f25d086af736a60e9eeb907d3b93b6e0e5",
    "execution": {
     "iopub.execute_input": "2023-08-12T00:33:10.633028Z",
     "iopub.status.busy": "2023-08-12T00:33:10.632606Z",
     "iopub.status.idle": "2023-08-12T00:33:10.872924Z",
     "shell.execute_reply": "2023-08-12T00:33:10.871856Z"
    },
    "papermill": {
     "duration": 0.252052,
     "end_time": "2023-08-12T00:33:10.875988",
     "exception": false,
     "start_time": "2023-08-12T00:33:10.623936",
     "status": "completed"
    },
    "tags": []
   },
   "outputs": [
    {
     "name": "stdout",
     "output_type": "stream",
     "text": [
      "/kaggle/input/unique-bvbinfo-tournament-id/unique_tournid.csv\n"
     ]
    }
   ],
   "source": [
    "import numpy as np # linear algebra\n",
    "import pandas as pd # data processing, CSV file I/O (e.g. pd.read_csv)\n",
    "\n",
    "import os\n",
    "for dirname, _, filenames in os.walk('/kaggle/input'):\n",
    "    for filename in filenames:\n",
    "        print(os.path.join(dirname, filename))\n",
    "\n",
    "import requests\n",
    "from bs4 import BeautifulSoup"
   ]
  },
  {
   "cell_type": "markdown",
   "id": "5d859937",
   "metadata": {
    "papermill": {
     "duration": 0.006198,
     "end_time": "2023-08-12T00:33:10.888902",
     "exception": false,
     "start_time": "2023-08-12T00:33:10.882704",
     "status": "completed"
    },
    "tags": []
   },
   "source": [
    "### Scrape Sessions"
   ]
  },
  {
   "cell_type": "code",
   "execution_count": 2,
   "id": "e09618b5",
   "metadata": {
    "execution": {
     "iopub.execute_input": "2023-08-12T00:33:10.904782Z",
     "iopub.status.busy": "2023-08-12T00:33:10.904097Z",
     "iopub.status.idle": "2023-08-12T00:33:10.908872Z",
     "shell.execute_reply": "2023-08-12T00:33:10.907695Z"
    },
    "papermill": {
     "duration": 0.015141,
     "end_time": "2023-08-12T00:33:10.911385",
     "exception": false,
     "start_time": "2023-08-12T00:33:10.896244",
     "status": "completed"
    },
    "tags": []
   },
   "outputs": [],
   "source": [
    "base_season_url = \"http://www.bvbinfo.com/season.asp\""
   ]
  },
  {
   "cell_type": "code",
   "execution_count": 3,
   "id": "04994e8c",
   "metadata": {
    "execution": {
     "iopub.execute_input": "2023-08-12T00:33:10.926329Z",
     "iopub.status.busy": "2023-08-12T00:33:10.925920Z",
     "iopub.status.idle": "2023-08-12T00:33:10.938275Z",
     "shell.execute_reply": "2023-08-12T00:33:10.937250Z"
    },
    "papermill": {
     "duration": 0.022985,
     "end_time": "2023-08-12T00:33:10.940790",
     "exception": false,
     "start_time": "2023-08-12T00:33:10.917805",
     "status": "completed"
    },
    "tags": []
   },
   "outputs": [],
   "source": [
    "def bvbinfo_season_scraper():\n",
    "    url = base_season_url\n",
    "    \n",
    "    year_index = 0\n",
    "    fivb_index = 15\n",
    "    \n",
    "    response = requests.get(url)\n",
    "    soup = BeautifulSoup(response.content, 'html.parser')\n",
    "\n",
    "    # Extracting team information from the table\n",
    "    table = soup.find_all('table')\n",
    "\n",
    "    if len(table) < 2:\n",
    "        return []\n",
    "    rows = table[2].find_all('tr')\n",
    "    header_element = rows[2]\n",
    "    header_text = header_element.get_text(strip=True, separator=\"\\n\").split(\"\\n\")\n",
    "    print(header_text[year_index], header_text[fivb_index])\n",
    "    \n",
    "    if (header_text[year_index].upper() != 'YEAR') or (header_text[fivb_index].upper() != 'FIVB'):\n",
    "        print(f\"bvbinfo_season_scraper - Error: check website structure\")\n",
    "        return []\n",
    "        \n",
    "    season_years = []\n",
    "    for cols_element in rows[3:]:\n",
    "        try:\n",
    "            col_element_data = cols_element.find_all('td')\n",
    "            len_col_element_data = len(col_element_data)\n",
    "\n",
    "            if len_col_element_data >= fivb_index:\n",
    "                col = col_element_data[fivb_index]\n",
    "                col.find('a', href=True)\n",
    "                a_tag = col.find('a', href=True)\n",
    "                if a_tag and 'Season.asp' in a_tag['href']:\n",
    "                    value = a_tag['href'].split('=')[-1]            \n",
    "                    season_years.append(value)\n",
    "        except ValueError as e:\n",
    "                print(f\"bvbinfo_tourni_scraper - Error: {e.args[0]}\")\n",
    "\n",
    "    return season_years"
   ]
  },
  {
   "cell_type": "code",
   "execution_count": 4,
   "id": "538b913d",
   "metadata": {
    "execution": {
     "iopub.execute_input": "2023-08-12T00:33:10.957207Z",
     "iopub.status.busy": "2023-08-12T00:33:10.956680Z",
     "iopub.status.idle": "2023-08-12T00:33:12.318879Z",
     "shell.execute_reply": "2023-08-12T00:33:12.317800Z"
    },
    "papermill": {
     "duration": 1.374862,
     "end_time": "2023-08-12T00:33:12.322099",
     "exception": false,
     "start_time": "2023-08-12T00:33:10.947237",
     "status": "completed"
    },
    "tags": []
   },
   "outputs": [
    {
     "name": "stdout",
     "output_type": "stream",
     "text": [
      "Year FIVB\n",
      "<class 'pandas.core.frame.DataFrame'>\n",
      "RangeIndex: 38 entries, 0 to 37\n",
      "Data columns (total 1 columns):\n",
      " #   Column  Non-Null Count  Dtype \n",
      "---  ------  --------------  ----- \n",
      " 0   YEAR    38 non-null     object\n",
      "dtypes: object(1)\n",
      "memory usage: 432.0+ bytes\n"
     ]
    }
   ],
   "source": [
    "season_years = bvbinfo_season_scraper()\n",
    "season_years_df = pd.DataFrame(season_years, columns=['YEAR'])\n",
    "season_years_df.info()"
   ]
  },
  {
   "cell_type": "markdown",
   "id": "98cfbf03",
   "metadata": {
    "papermill": {
     "duration": 0.006012,
     "end_time": "2023-08-12T00:33:12.334477",
     "exception": false,
     "start_time": "2023-08-12T00:33:12.328465",
     "status": "completed"
    },
    "tags": []
   },
   "source": [
    "### Scrape Season Tournament IDs"
   ]
  },
  {
   "cell_type": "code",
   "execution_count": 5,
   "id": "894514ee",
   "metadata": {
    "execution": {
     "iopub.execute_input": "2023-08-12T00:33:12.349603Z",
     "iopub.status.busy": "2023-08-12T00:33:12.348400Z",
     "iopub.status.idle": "2023-08-12T00:33:12.353765Z",
     "shell.execute_reply": "2023-08-12T00:33:12.352940Z"
    },
    "papermill": {
     "duration": 0.015286,
     "end_time": "2023-08-12T00:33:12.356069",
     "exception": false,
     "start_time": "2023-08-12T00:33:12.340783",
     "status": "completed"
    },
    "tags": []
   },
   "outputs": [],
   "source": [
    "base_season_summ_url = \"http://www.bvbinfo.com/Season.asp?AssocID=3&Year=\""
   ]
  },
  {
   "cell_type": "code",
   "execution_count": 6,
   "id": "40c9c072",
   "metadata": {
    "execution": {
     "iopub.execute_input": "2023-08-12T00:33:12.370605Z",
     "iopub.status.busy": "2023-08-12T00:33:12.369865Z",
     "iopub.status.idle": "2023-08-12T00:33:12.381207Z",
     "shell.execute_reply": "2023-08-12T00:33:12.380357Z"
    },
    "papermill": {
     "duration": 0.021319,
     "end_time": "2023-08-12T00:33:12.383727",
     "exception": false,
     "start_time": "2023-08-12T00:33:12.362408",
     "status": "completed"
    },
    "tags": []
   },
   "outputs": [],
   "source": [
    "def bvbinfo_tourni_scraper(year):\n",
    "    url = base_season_summ_url + str(year)\n",
    "    \n",
    "    location_index = 1\n",
    "    \n",
    "    response = requests.get(url)\n",
    "    soup = BeautifulSoup(response.content, 'html.parser')\n",
    "\n",
    "    # Extracting team information from the table\n",
    "    table = soup.find_all('table')\n",
    "\n",
    "    if len(table) < 2:\n",
    "        return []\n",
    "    rows = table[2].find_all('tr')\n",
    "    header_element = rows[3]\n",
    "    header_text = header_element.get_text(strip=True, separator=\"\\n\").split(\"\\n\")\n",
    "    \n",
    "    if header_text[location_index].upper() != 'LOCATION':\n",
    "        print(f\"bvbinfo_tourni_scraper - Error: check website structure\")\n",
    "        return []\n",
    "    tournament_ids = []\n",
    "\n",
    "    for cols_element in rows[4:]:\n",
    "        try:\n",
    "            col_element_data = cols_element.find_all('td')\n",
    "            len_col_element_data = len(col_element_data)\n",
    "            if len_col_element_data > location_index:\n",
    "                col = col_element_data[location_index]\n",
    "\n",
    "                col.find('a', href=True)\n",
    "                a_tag = col.find('a', href=True)\n",
    "                if a_tag and 'Tournament.asp' in a_tag['href']:\n",
    "                    value = a_tag['href'].split('=')[-1]\n",
    "                    tournament_ids.append(value)                \n",
    "        except ValueError as e:\n",
    "                print(f\"bvbinfo_tourni_scraper - Error: {e.args[0]}\")\n",
    "                \n",
    "    return tournament_ids"
   ]
  },
  {
   "cell_type": "code",
   "execution_count": 7,
   "id": "08029cee",
   "metadata": {
    "execution": {
     "iopub.execute_input": "2023-08-12T00:33:12.398023Z",
     "iopub.status.busy": "2023-08-12T00:33:12.397650Z",
     "iopub.status.idle": "2023-08-12T00:33:24.084223Z",
     "shell.execute_reply": "2023-08-12T00:33:24.083275Z"
    },
    "papermill": {
     "duration": 11.696831,
     "end_time": "2023-08-12T00:33:24.086933",
     "exception": false,
     "start_time": "2023-08-12T00:33:12.390102",
     "status": "completed"
    },
    "tags": []
   },
   "outputs": [],
   "source": [
    "columns = ['TOURNID']\n",
    "scraped_tournid_df = pd.DataFrame(columns=columns)\n",
    "\n",
    "years_list = season_years_df[(season_years_df['YEAR'] >= '2010') & (season_years_df['YEAR'] <= '2023')]['YEAR'].unique()\n",
    "for year in years_list:\n",
    "    data = bvbinfo_tourni_scraper(year)\n",
    "    if data:  # Check if data is not empty\n",
    "        temp_df = pd.DataFrame(data, columns=['TOURNID'])\n",
    "        scraped_tournid_df = pd.concat([scraped_tournid_df, temp_df], ignore_index=True)"
   ]
  },
  {
   "cell_type": "code",
   "execution_count": 8,
   "id": "85bb9cb8",
   "metadata": {
    "execution": {
     "iopub.execute_input": "2023-08-12T00:33:24.102408Z",
     "iopub.status.busy": "2023-08-12T00:33:24.101284Z",
     "iopub.status.idle": "2023-08-12T00:33:24.115523Z",
     "shell.execute_reply": "2023-08-12T00:33:24.114372Z"
    },
    "papermill": {
     "duration": 0.025023,
     "end_time": "2023-08-12T00:33:24.118288",
     "exception": false,
     "start_time": "2023-08-12T00:33:24.093265",
     "status": "completed"
    },
    "tags": []
   },
   "outputs": [
    {
     "name": "stdout",
     "output_type": "stream",
     "text": [
      "TOURNID    0\n",
      "dtype: int64\n",
      "<class 'pandas.core.frame.DataFrame'>\n",
      "RangeIndex: 688 entries, 0 to 687\n",
      "Data columns (total 1 columns):\n",
      " #   Column   Non-Null Count  Dtype \n",
      "---  ------   --------------  ----- \n",
      " 0   TOURNID  688 non-null    object\n",
      "dtypes: object(1)\n",
      "memory usage: 5.5+ KB\n"
     ]
    }
   ],
   "source": [
    "print(scraped_tournid_df.isnull().sum())\n",
    "scraped_tournid_df.info()"
   ]
  },
  {
   "cell_type": "markdown",
   "id": "a5b8b943",
   "metadata": {
    "papermill": {
     "duration": 0.006133,
     "end_time": "2023-08-12T00:33:24.132172",
     "exception": false,
     "start_time": "2023-08-12T00:33:24.126039",
     "status": "completed"
    },
    "tags": []
   },
   "source": [
    "### Scrape Team Tournament Information"
   ]
  },
  {
   "cell_type": "code",
   "execution_count": 9,
   "id": "9d02c2cc",
   "metadata": {
    "execution": {
     "iopub.execute_input": "2023-08-12T00:33:24.147041Z",
     "iopub.status.busy": "2023-08-12T00:33:24.146617Z",
     "iopub.status.idle": "2023-08-12T00:33:24.152507Z",
     "shell.execute_reply": "2023-08-12T00:33:24.151384Z"
    },
    "papermill": {
     "duration": 0.016218,
     "end_time": "2023-08-12T00:33:24.154885",
     "exception": false,
     "start_time": "2023-08-12T00:33:24.138667",
     "status": "completed"
    },
    "tags": []
   },
   "outputs": [],
   "source": [
    "base_tournament_url = \"http://www.bvbinfo.com/Tournament.asp?ID=\"\n",
    "\n",
    "columns = ['Finish', 'Player', 'Partner', 'Player_ID', 'Partner_ID', 'Country'\n",
    "           , 'TourniStartDate', 'TourniEndDate', 'TournLocation', 'Event', 'TOURNID']\n",
    "\n",
    "tournament_list = ['CHALLENGE','ELITE16']\n",
    "len_columns = len(columns)"
   ]
  },
  {
   "cell_type": "code",
   "execution_count": 10,
   "id": "01b7de42",
   "metadata": {
    "execution": {
     "iopub.execute_input": "2023-08-12T00:33:24.169761Z",
     "iopub.status.busy": "2023-08-12T00:33:24.169355Z",
     "iopub.status.idle": "2023-08-12T00:33:24.177343Z",
     "shell.execute_reply": "2023-08-12T00:33:24.176178Z"
    },
    "papermill": {
     "duration": 0.018567,
     "end_time": "2023-08-12T00:33:24.180013",
     "exception": false,
     "start_time": "2023-08-12T00:33:24.161446",
     "status": "completed"
    },
    "tags": []
   },
   "outputs": [],
   "source": [
    "import re\n",
    "from datetime import datetime\n",
    "def extract_dates(s):\n",
    "    # Regular expression pattern to match the date scenarios\n",
    "    pattern = r\"([A-Za-z]+) (\\d+)-(?:([A-Za-z]+) )?(\\d+), (\\d{4})\"\n",
    "    match = re.search(pattern, s)\n",
    "    \n",
    "    if not match:\n",
    "        return None, None\n",
    "\n",
    "    start_month, start_day, end_month, end_day, year = match.groups()\n",
    "    # If end_month is not provided, use start_month\n",
    "    end_month = end_month or start_month\n",
    "    \n",
    "    start_date_str = f\"{start_month} {start_day}, {year}\"\n",
    "    end_date_str = f\"{end_month} {end_day}, {year}\"\n",
    "    \n",
    "    # Convert to datetime objects for further processing if needed\n",
    "    start_date = datetime.strptime(start_date_str, '%B %d, %Y').date()\n",
    "    end_date = datetime.strptime(end_date_str, '%B %d, %Y').date()\n",
    "    \n",
    "    return start_date, end_date"
   ]
  },
  {
   "cell_type": "code",
   "execution_count": 11,
   "id": "c8d9207d",
   "metadata": {
    "execution": {
     "iopub.execute_input": "2023-08-12T00:33:24.194981Z",
     "iopub.status.busy": "2023-08-12T00:33:24.194577Z",
     "iopub.status.idle": "2023-08-12T00:33:24.212400Z",
     "shell.execute_reply": "2023-08-12T00:33:24.211180Z"
    },
    "papermill": {
     "duration": 0.028271,
     "end_time": "2023-08-12T00:33:24.214855",
     "exception": false,
     "start_time": "2023-08-12T00:33:24.186584",
     "status": "completed"
    },
    "tags": []
   },
   "outputs": [],
   "source": [
    "\n",
    "def bvbinfo_team_scraper(tourn_id, top_n):\n",
    "    url = base_tournament_url + str(tourn_id)\n",
    "\n",
    "    response = requests.get(url)\n",
    "    soup = BeautifulSoup(response.content, 'html.parser')\n",
    "\n",
    "    # Extracting team information from the table  \n",
    "    table = soup.find_all('table')\n",
    "\n",
    "    if len(table) < 5:\n",
    "        return []\n",
    "    rows = table[4].find_all('tr')\n",
    "    header_element = rows[0]\n",
    "    header_text = header_element.get_text(strip=True, separator=\"\\n\").split(\"\\n\")\n",
    "   \n",
    "    # Extract category, tournament, location, and start-end date\n",
    "    category = header_text[0].split(\"'\")[0]  \n",
    "    tournament = ''.join(header_text[0].split()[4:])\n",
    "    location = header_text[0].split()[3]  \n",
    "    startenddate = header_text[1]  \n",
    "\n",
    "    #print(startenddate)    \n",
    "    tourniStartDate, tourniEndDate = extract_dates(startenddate)        \n",
    "    \n",
    "    event = str(tournament) + \" \" + str(category)\n",
    "    \n",
    "    misc_info = []\n",
    "    misc_info =[tourniStartDate, tourniEndDate, location, event, tourn_id]\n",
    "    data = []\n",
    "            \n",
    "    fetch_columns = columns[:3] + [columns[5]]\n",
    "    \n",
    "    row_data = rows[1].find_all('td')\n",
    "    for val in row_data[:4]:\n",
    "        # print(val.text.strip(), fetch_columns)\n",
    "        if val.text.strip() not in fetch_columns:\n",
    "            print(f\"bvbinfo_team_scraper - Error: check website structure\")\n",
    "            return []\n",
    "        \n",
    "    if len([1 for val in tournament_list if val in tournament.upper()]) == 0:\n",
    "        return []\n",
    "\n",
    "    for cols_element in rows[2:]:\n",
    "        values = []\n",
    "        players = []\n",
    "        \n",
    "        try:\n",
    "            col_element_data = cols_element.find_all('td')\n",
    "            finish_rank = col_element_data[0].text.strip()\n",
    "            if not finish_rank:\n",
    "                finish_rank = 999\n",
    "             \n",
    "            if 'Canada' in cols_element.get_text() or int(finish_rank) <= int(top_n) or int(top_n) == 0:\n",
    "                for col in col_element_data[:4]: # don't need all columns\n",
    "                    a_tag = col.find('a', href=True)\n",
    "                    if a_tag and 'player.asp' in a_tag['href']:\n",
    "                        value = a_tag['href'].split('=')[-1]\n",
    "                        players.append(value)\n",
    "                    #else:\n",
    "                    value = col.text.strip()\n",
    "                    values.append(value)\n",
    "                data.append(values[:3] + players + values[3:] + misc_info)\n",
    "        except ValueError as e:\n",
    "                print(f\"bvbinfo_team_scraper - Error: {e.args[0]} - {tourn_id}\")\n",
    "                 \n",
    "    return data"
   ]
  },
  {
   "cell_type": "code",
   "execution_count": 12,
   "id": "ce814d35",
   "metadata": {
    "execution": {
     "iopub.execute_input": "2023-08-12T00:33:24.229635Z",
     "iopub.status.busy": "2023-08-12T00:33:24.229175Z",
     "iopub.status.idle": "2023-08-12T00:41:24.391379Z",
     "shell.execute_reply": "2023-08-12T00:41:24.390033Z"
    },
    "papermill": {
     "duration": 480.173345,
     "end_time": "2023-08-12T00:41:24.394676",
     "exception": false,
     "start_time": "2023-08-12T00:33:24.221331",
     "status": "completed"
    },
    "tags": []
   },
   "outputs": [],
   "source": [
    "scraped_team_df = pd.DataFrame(columns=columns)\n",
    "\n",
    "for tournament_id in scraped_tournid_df['TOURNID']:\n",
    "# for tournament_id in [3982, 3961]:\n",
    "    data = bvbinfo_team_scraper(tournament_id, 5)\n",
    "    if data:  # Check if data is not empty\n",
    "        if len(data[0]) == len_columns:\n",
    "            temp_df = pd.DataFrame(data, columns=columns)\n",
    "            scraped_team_df = pd.concat([scraped_team_df, temp_df], ignore_index=True)"
   ]
  },
  {
   "cell_type": "code",
   "execution_count": 13,
   "id": "92751539",
   "metadata": {
    "execution": {
     "iopub.execute_input": "2023-08-12T00:41:24.410357Z",
     "iopub.status.busy": "2023-08-12T00:41:24.409898Z",
     "iopub.status.idle": "2023-08-12T00:41:24.425605Z",
     "shell.execute_reply": "2023-08-12T00:41:24.424775Z"
    },
    "papermill": {
     "duration": 0.02644,
     "end_time": "2023-08-12T00:41:24.428114",
     "exception": false,
     "start_time": "2023-08-12T00:41:24.401674",
     "status": "completed"
    },
    "tags": []
   },
   "outputs": [
    {
     "name": "stdout",
     "output_type": "stream",
     "text": [
      "<class 'pandas.core.frame.DataFrame'>\n",
      "RangeIndex: 611 entries, 0 to 610\n",
      "Data columns (total 11 columns):\n",
      " #   Column           Non-Null Count  Dtype \n",
      "---  ------           --------------  ----- \n",
      " 0   Finish           611 non-null    object\n",
      " 1   Player           611 non-null    object\n",
      " 2   Partner          611 non-null    object\n",
      " 3   Player_ID        611 non-null    object\n",
      " 4   Partner_ID       611 non-null    object\n",
      " 5   Country          611 non-null    object\n",
      " 6   TourniStartDate  611 non-null    object\n",
      " 7   TourniEndDate    611 non-null    object\n",
      " 8   TournLocation    611 non-null    object\n",
      " 9   Event            611 non-null    object\n",
      " 10  TOURNID          611 non-null    object\n",
      "dtypes: object(11)\n",
      "memory usage: 52.6+ KB\n"
     ]
    }
   ],
   "source": [
    "scraped_team_df.info()"
   ]
  },
  {
   "cell_type": "code",
   "execution_count": 14,
   "id": "30c68eeb",
   "metadata": {
    "execution": {
     "iopub.execute_input": "2023-08-12T00:41:24.443995Z",
     "iopub.status.busy": "2023-08-12T00:41:24.443262Z",
     "iopub.status.idle": "2023-08-12T00:41:24.462292Z",
     "shell.execute_reply": "2023-08-12T00:41:24.461096Z"
    },
    "papermill": {
     "duration": 0.030229,
     "end_time": "2023-08-12T00:41:24.465023",
     "exception": false,
     "start_time": "2023-08-12T00:41:24.434794",
     "status": "completed"
    },
    "tags": []
   },
   "outputs": [],
   "source": [
    "scraped_team_df.to_csv(\"scraped_tournament_info.csv\")"
   ]
  }
 ],
 "metadata": {
  "kernelspec": {
   "display_name": "Python 3",
   "language": "python",
   "name": "python3"
  },
  "language_info": {
   "codemirror_mode": {
    "name": "ipython",
    "version": 3
   },
   "file_extension": ".py",
   "mimetype": "text/x-python",
   "name": "python",
   "nbconvert_exporter": "python",
   "pygments_lexer": "ipython3",
   "version": "3.10.12"
  },
  "papermill": {
   "default_parameters": {},
   "duration": 506.463822,
   "end_time": "2023-08-12T00:41:25.597577",
   "environment_variables": {},
   "exception": null,
   "input_path": "__notebook__.ipynb",
   "output_path": "__notebook__.ipynb",
   "parameters": {},
   "start_time": "2023-08-12T00:32:59.133755",
   "version": "2.4.0"
  }
 },
 "nbformat": 4,
 "nbformat_minor": 5
}

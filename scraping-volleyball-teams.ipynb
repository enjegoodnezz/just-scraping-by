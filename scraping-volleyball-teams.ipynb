{
 "cells": [
  {
   "cell_type": "code",
   "execution_count": 1,
   "id": "197100f5",
   "metadata": {
    "_cell_guid": "6beed856-ae1e-4bfb-862f-eff1a19f7132",
    "_uuid": "56b510a1-86ae-490a-aae1-159f4cfbdc90",
    "collapsed": false,
    "execution": {
     "iopub.execute_input": "2023-08-12T00:41:14.187850Z",
     "iopub.status.busy": "2023-08-12T00:41:14.187132Z",
     "iopub.status.idle": "2023-08-12T00:41:14.404498Z",
     "shell.execute_reply": "2023-08-12T00:41:14.403333Z"
    },
    "jupyter": {
     "outputs_hidden": false
    },
    "papermill": {
     "duration": 0.230399,
     "end_time": "2023-08-12T00:41:14.407937",
     "exception": false,
     "start_time": "2023-08-12T00:41:14.177538",
     "status": "completed"
    },
    "tags": []
   },
   "outputs": [],
   "source": [
    "import numpy as np # linear algebra\n",
    "import pandas as pd # data processing, CSV file I/O (e.g. pd.read_csv)\n",
    "\n",
    "import requests\n",
    "from bs4 import BeautifulSoup"
   ]
  },
  {
   "cell_type": "markdown",
   "id": "25ca7ec1",
   "metadata": {
    "_cell_guid": "33057228-5776-4282-bfa3-f5b362510bd8",
    "_uuid": "b820f28d-45aa-4cf3-9188-aed18343e92c",
    "papermill": {
     "duration": 0.006577,
     "end_time": "2023-08-12T00:41:14.421965",
     "exception": false,
     "start_time": "2023-08-12T00:41:14.415388",
     "status": "completed"
    },
    "tags": []
   },
   "source": [
    "### Base URL"
   ]
  },
  {
   "cell_type": "code",
   "execution_count": 2,
   "id": "bdc086b9",
   "metadata": {
    "_cell_guid": "40747187-cf38-4c00-a163-d0875532652c",
    "_uuid": "78ef95c1-ce3f-4472-ab05-05138669e5ad",
    "collapsed": false,
    "execution": {
     "iopub.execute_input": "2023-08-12T00:41:14.437691Z",
     "iopub.status.busy": "2023-08-12T00:41:14.437046Z",
     "iopub.status.idle": "2023-08-12T00:41:14.442327Z",
     "shell.execute_reply": "2023-08-12T00:41:14.441236Z"
    },
    "jupyter": {
     "outputs_hidden": false
    },
    "papermill": {
     "duration": 0.016465,
     "end_time": "2023-08-12T00:41:14.445258",
     "exception": false,
     "start_time": "2023-08-12T00:41:14.428793",
     "status": "completed"
    },
    "tags": []
   },
   "outputs": [],
   "source": [
    "base_season_url = \"http://www.bvbinfo.com/season.asp\"\n",
    "base_season_summ_url = \"http://www.bvbinfo.com/Season.asp?AssocID=3&Year=\"\n",
    "base_tournament_url = \"http://www.bvbinfo.com/Tournament.asp?ID=\""
   ]
  },
  {
   "cell_type": "markdown",
   "id": "145bb20b",
   "metadata": {
    "_cell_guid": "8fe0a012-c301-4ce3-a996-e1e3c975e96e",
    "_uuid": "077f2b00-993b-4f85-ad64-672e595b6993",
    "papermill": {
     "duration": 0.006715,
     "end_time": "2023-08-12T00:41:14.459225",
     "exception": false,
     "start_time": "2023-08-12T00:41:14.452510",
     "status": "completed"
    },
    "tags": []
   },
   "source": [
    "### Scrape Sessions"
   ]
  },
  {
   "cell_type": "code",
   "execution_count": 3,
   "id": "395d6f8d",
   "metadata": {
    "_cell_guid": "32a6c47e-291b-4051-b2b0-cac551bf44b2",
    "_uuid": "c29aed31-fc17-4295-997d-c97b1d563149",
    "collapsed": false,
    "execution": {
     "iopub.execute_input": "2023-08-12T00:41:14.475259Z",
     "iopub.status.busy": "2023-08-12T00:41:14.474821Z",
     "iopub.status.idle": "2023-08-12T00:41:14.486748Z",
     "shell.execute_reply": "2023-08-12T00:41:14.485892Z"
    },
    "jupyter": {
     "outputs_hidden": false
    },
    "papermill": {
     "duration": 0.02285,
     "end_time": "2023-08-12T00:41:14.489169",
     "exception": false,
     "start_time": "2023-08-12T00:41:14.466319",
     "status": "completed"
    },
    "tags": []
   },
   "outputs": [],
   "source": [
    "def bvbinfo_season_scraper():\n",
    "    url = base_season_url\n",
    "    \n",
    "    year_index = 0\n",
    "    fivb_index = 15\n",
    "    \n",
    "    response = requests.get(url)\n",
    "    soup = BeautifulSoup(response.content, 'html.parser')\n",
    "\n",
    "    # Extracting team information from the table\n",
    "    table = soup.find_all('table')\n",
    "\n",
    "    if len(table) < 2:\n",
    "        return []\n",
    "    rows = table[2].find_all('tr')\n",
    "    header_element = rows[2]\n",
    "    header_text = header_element.get_text(strip=True, separator=\"\\n\").split(\"\\n\")\n",
    "    print(header_text[year_index], header_text[fivb_index])\n",
    "    \n",
    "    if (header_text[year_index].upper() != 'YEAR') or (header_text[fivb_index].upper() != 'FIVB'):\n",
    "        print(f\"bvbinfo_season_scraper - Error: check website structure\")\n",
    "        return []\n",
    "        \n",
    "    season_years = []\n",
    "    for cols_element in rows[3:]:\n",
    "        try:\n",
    "            col_element_data = cols_element.find_all('td')\n",
    "            len_col_element_data = len(col_element_data)\n",
    "\n",
    "            if len_col_element_data >= fivb_index:\n",
    "                col = col_element_data[fivb_index]\n",
    "                col.find('a', href=True)\n",
    "                a_tag = col.find('a', href=True)\n",
    "                if a_tag and 'Season.asp' in a_tag['href']:\n",
    "                    value = a_tag['href'].split('=')[-1]            \n",
    "                    season_years.append(value)\n",
    "        except ValueError as e:\n",
    "                print(f\"bvbinfo_tourni_scraper - Error: {e.args[0]}\")\n",
    "\n",
    "    return season_years"
   ]
  },
  {
   "cell_type": "code",
   "execution_count": 4,
   "id": "a66eae68",
   "metadata": {
    "_cell_guid": "4137cb0e-7a0e-45bc-884e-32d482ba9a46",
    "_uuid": "8957f600-7216-47e2-ac16-4fafbe69727c",
    "collapsed": false,
    "execution": {
     "iopub.execute_input": "2023-08-12T00:41:14.506246Z",
     "iopub.status.busy": "2023-08-12T00:41:14.505814Z",
     "iopub.status.idle": "2023-08-12T00:41:15.748891Z",
     "shell.execute_reply": "2023-08-12T00:41:15.747798Z"
    },
    "jupyter": {
     "outputs_hidden": false
    },
    "papermill": {
     "duration": 1.255475,
     "end_time": "2023-08-12T00:41:15.751922",
     "exception": false,
     "start_time": "2023-08-12T00:41:14.496447",
     "status": "completed"
    },
    "tags": []
   },
   "outputs": [
    {
     "name": "stdout",
     "output_type": "stream",
     "text": [
      "Year FIVB\n"
     ]
    }
   ],
   "source": [
    "season_years = bvbinfo_season_scraper()\n",
    "season_years_df = pd.DataFrame(season_years, columns=['YEAR'])\n",
    "# season_years_df.info()"
   ]
  },
  {
   "cell_type": "markdown",
   "id": "1c7d535b",
   "metadata": {
    "_cell_guid": "7949ee22-4d4b-4a60-89c8-f5e47ed494fd",
    "_uuid": "dc9fba6a-f649-45d0-971a-810abf98f92d",
    "papermill": {
     "duration": 0.006502,
     "end_time": "2023-08-12T00:41:15.765566",
     "exception": false,
     "start_time": "2023-08-12T00:41:15.759064",
     "status": "completed"
    },
    "tags": []
   },
   "source": [
    "### Scrape Season Tournament IDs"
   ]
  },
  {
   "cell_type": "code",
   "execution_count": 5,
   "id": "dc869e5b",
   "metadata": {
    "_cell_guid": "81e68642-06b5-4fa3-acdf-a6cfff905828",
    "_uuid": "74e699ce-4c38-46cc-a889-fe060d518bdf",
    "collapsed": false,
    "execution": {
     "iopub.execute_input": "2023-08-12T00:41:15.781771Z",
     "iopub.status.busy": "2023-08-12T00:41:15.780598Z",
     "iopub.status.idle": "2023-08-12T00:41:15.791983Z",
     "shell.execute_reply": "2023-08-12T00:41:15.791172Z"
    },
    "jupyter": {
     "outputs_hidden": false
    },
    "papermill": {
     "duration": 0.022458,
     "end_time": "2023-08-12T00:41:15.794723",
     "exception": false,
     "start_time": "2023-08-12T00:41:15.772265",
     "status": "completed"
    },
    "tags": []
   },
   "outputs": [],
   "source": [
    "def bvbinfo_tourni_scraper(year):\n",
    "    url = base_season_summ_url + str(year)\n",
    "    \n",
    "    location_index = 1\n",
    "    \n",
    "    response = requests.get(url)\n",
    "    soup = BeautifulSoup(response.content, 'html.parser')\n",
    "\n",
    "    # Extracting team information from the table\n",
    "    table = soup.find_all('table')\n",
    "\n",
    "    if len(table) < 2:\n",
    "        return []\n",
    "    rows = table[2].find_all('tr')\n",
    "    header_element = rows[3]\n",
    "    header_text = header_element.get_text(strip=True, separator=\"\\n\").split(\"\\n\")\n",
    "    \n",
    "    if header_text[location_index].upper() != 'LOCATION':\n",
    "        print(f\"bvbinfo_tourni_scraper - Error: check website structure\")\n",
    "        return []\n",
    "    tournament_ids = []\n",
    "\n",
    "    for cols_element in rows[4:]:\n",
    "        try:\n",
    "            col_element_data = cols_element.find_all('td')\n",
    "            len_col_element_data = len(col_element_data)\n",
    "            if len_col_element_data > location_index:\n",
    "                col = col_element_data[location_index]\n",
    "\n",
    "                col.find('a', href=True)\n",
    "                a_tag = col.find('a', href=True)\n",
    "                if a_tag and 'Tournament.asp' in a_tag['href']:\n",
    "                    value = a_tag['href'].split('=')[-1]\n",
    "                    tournament_ids.append(value)                \n",
    "        except ValueError as e:\n",
    "                print(f\"bvbinfo_tourni_scraper - Error: {e.args[0]}\")\n",
    "                \n",
    "    return tournament_ids"
   ]
  },
  {
   "cell_type": "code",
   "execution_count": 6,
   "id": "de8a7afb",
   "metadata": {
    "_cell_guid": "b2ef9350-c61b-4a81-acf7-da068c53f7ca",
    "_uuid": "e053ce01-ecce-4638-b2f2-cd4201067a64",
    "collapsed": false,
    "execution": {
     "iopub.execute_input": "2023-08-12T00:41:15.810367Z",
     "iopub.status.busy": "2023-08-12T00:41:15.809654Z",
     "iopub.status.idle": "2023-08-12T00:41:23.810004Z",
     "shell.execute_reply": "2023-08-12T00:41:23.808670Z"
    },
    "jupyter": {
     "outputs_hidden": false
    },
    "papermill": {
     "duration": 8.011531,
     "end_time": "2023-08-12T00:41:23.813112",
     "exception": false,
     "start_time": "2023-08-12T00:41:15.801581",
     "status": "completed"
    },
    "tags": []
   },
   "outputs": [],
   "source": [
    "columns = ['TOURNID']\n",
    "scraped_tournid_df = pd.DataFrame(columns=columns)\n",
    "\n",
    "years_list = season_years_df[(season_years_df['YEAR'] >= '2010') & (season_years_df['YEAR'] <= '2023')]['YEAR'].unique()\n",
    "for year in years_list:\n",
    "    data = bvbinfo_tourni_scraper(year)\n",
    "    if data:  # Check if data is not empty\n",
    "        temp_df = pd.DataFrame(data, columns=['TOURNID'])\n",
    "        scraped_tournid_df = pd.concat([scraped_tournid_df, temp_df], ignore_index=True)"
   ]
  },
  {
   "cell_type": "code",
   "execution_count": 7,
   "id": "1c916840",
   "metadata": {
    "_cell_guid": "544f2177-de9f-4d08-9def-375adb2f1a35",
    "_uuid": "4a2e4b35-08cb-4575-8097-bd43d2128e17",
    "collapsed": false,
    "execution": {
     "iopub.execute_input": "2023-08-12T00:41:23.829841Z",
     "iopub.status.busy": "2023-08-12T00:41:23.829401Z",
     "iopub.status.idle": "2023-08-12T00:41:23.834243Z",
     "shell.execute_reply": "2023-08-12T00:41:23.832917Z"
    },
    "jupyter": {
     "outputs_hidden": false
    },
    "papermill": {
     "duration": 0.016647,
     "end_time": "2023-08-12T00:41:23.837001",
     "exception": false,
     "start_time": "2023-08-12T00:41:23.820354",
     "status": "completed"
    },
    "tags": []
   },
   "outputs": [],
   "source": [
    "#print(scraped_tournid_df.isnull().sum())\n",
    "#scraped_tournid_df.info()"
   ]
  },
  {
   "cell_type": "markdown",
   "id": "5259f2f1",
   "metadata": {
    "_cell_guid": "4268c9e7-8e34-4c56-a3de-a9a1f465ec42",
    "_uuid": "c2256c97-58ca-4026-b6d7-8382c4184071",
    "papermill": {
     "duration": 0.006944,
     "end_time": "2023-08-12T00:41:23.853035",
     "exception": false,
     "start_time": "2023-08-12T00:41:23.846091",
     "status": "completed"
    },
    "tags": []
   },
   "source": [
    "### Scrape Team Tournament Information"
   ]
  },
  {
   "cell_type": "code",
   "execution_count": 8,
   "id": "ef6205df",
   "metadata": {
    "_cell_guid": "4b8b7d4c-b8fc-40af-bf74-87915bad762c",
    "_uuid": "12733380-69f1-47d1-acae-f1a550031c54",
    "collapsed": false,
    "execution": {
     "iopub.execute_input": "2023-08-12T00:41:23.869990Z",
     "iopub.status.busy": "2023-08-12T00:41:23.869511Z",
     "iopub.status.idle": "2023-08-12T00:41:23.875842Z",
     "shell.execute_reply": "2023-08-12T00:41:23.874538Z"
    },
    "jupyter": {
     "outputs_hidden": false
    },
    "papermill": {
     "duration": 0.017896,
     "end_time": "2023-08-12T00:41:23.878441",
     "exception": false,
     "start_time": "2023-08-12T00:41:23.860545",
     "status": "completed"
    },
    "tags": []
   },
   "outputs": [],
   "source": [
    "columns = ['Finish', 'Player', 'Partner', 'Player_ID', 'Partner_ID', 'Country'\n",
    "           , 'TourniStartDate', 'TourniEndDate', 'TournLocation', 'Event', 'TOURNID']\n",
    "\n",
    "tournament_list = ['CHALLENGE','ELITE16']\n",
    "len_columns = len(columns)"
   ]
  },
  {
   "cell_type": "code",
   "execution_count": 9,
   "id": "505deee9",
   "metadata": {
    "_cell_guid": "9628fe5f-475b-4a38-a2fc-08b1e2ab2502",
    "_uuid": "83ede335-9468-41c6-ad3d-0d83934e4fae",
    "collapsed": false,
    "execution": {
     "iopub.execute_input": "2023-08-12T00:41:23.895372Z",
     "iopub.status.busy": "2023-08-12T00:41:23.894991Z",
     "iopub.status.idle": "2023-08-12T00:41:23.903352Z",
     "shell.execute_reply": "2023-08-12T00:41:23.902057Z"
    },
    "jupyter": {
     "outputs_hidden": false
    },
    "papermill": {
     "duration": 0.020111,
     "end_time": "2023-08-12T00:41:23.905856",
     "exception": false,
     "start_time": "2023-08-12T00:41:23.885745",
     "status": "completed"
    },
    "tags": []
   },
   "outputs": [],
   "source": [
    "import re\n",
    "from datetime import datetime\n",
    "def extract_dates(s):\n",
    "    # Regular expression pattern to match the date scenarios\n",
    "    pattern = r\"([A-Za-z]+) (\\d+)-(?:([A-Za-z]+) )?(\\d+), (\\d{4})\"\n",
    "    match = re.search(pattern, s)\n",
    "    \n",
    "    if not match:\n",
    "        return None, None\n",
    "\n",
    "    start_month, start_day, end_month, end_day, year = match.groups()\n",
    "    # If end_month is not provided, use start_month\n",
    "    end_month = end_month or start_month\n",
    "    \n",
    "    start_date_str = f\"{start_month} {start_day}, {year}\"\n",
    "    end_date_str = f\"{end_month} {end_day}, {year}\"\n",
    "    \n",
    "    # Convert to datetime objects for further processing if needed\n",
    "    start_date = datetime.strptime(start_date_str, '%B %d, %Y').date()\n",
    "    end_date = datetime.strptime(end_date_str, '%B %d, %Y').date()\n",
    "    \n",
    "    return start_date, end_date"
   ]
  },
  {
   "cell_type": "code",
   "execution_count": 10,
   "id": "faf8a655",
   "metadata": {
    "_cell_guid": "ab53aa7c-2ff2-41ba-9bf9-ee5625518964",
    "_uuid": "fdffb69b-265a-40c2-bb02-ac37de554f53",
    "collapsed": false,
    "execution": {
     "iopub.execute_input": "2023-08-12T00:41:23.921944Z",
     "iopub.status.busy": "2023-08-12T00:41:23.921389Z",
     "iopub.status.idle": "2023-08-12T00:41:23.940082Z",
     "shell.execute_reply": "2023-08-12T00:41:23.938711Z"
    },
    "jupyter": {
     "outputs_hidden": false
    },
    "papermill": {
     "duration": 0.029848,
     "end_time": "2023-08-12T00:41:23.942761",
     "exception": false,
     "start_time": "2023-08-12T00:41:23.912913",
     "status": "completed"
    },
    "tags": []
   },
   "outputs": [],
   "source": [
    "\n",
    "def bvbinfo_team_scraper(tourn_id, top_n):\n",
    "    url = base_tournament_url + str(tourn_id)\n",
    "\n",
    "    response = requests.get(url)\n",
    "    soup = BeautifulSoup(response.content, 'html.parser')\n",
    "\n",
    "    # Extracting team information from the table  \n",
    "    table = soup.find_all('table')\n",
    "\n",
    "    if len(table) < 5:\n",
    "        return []\n",
    "    rows = table[4].find_all('tr')\n",
    "    header_element = rows[0]\n",
    "    header_text = header_element.get_text(strip=True, separator=\"\\n\").split(\"\\n\")\n",
    "   \n",
    "    # Extract category, tournament, location, and start-end date\n",
    "    category = header_text[0].split(\"'\")[0]  \n",
    "    tournament = ''.join(header_text[0].split()[4:])\n",
    "    location = header_text[0].split()[3]  \n",
    "    startenddate = header_text[1]  \n",
    "\n",
    "    #print(startenddate)    \n",
    "    tourniStartDate, tourniEndDate = extract_dates(startenddate)        \n",
    "    \n",
    "    event = str(tournament) + \" \" + str(category)\n",
    "    \n",
    "    misc_info = []\n",
    "    misc_info =[tourniStartDate, tourniEndDate, location, event, tourn_id]\n",
    "    data = []\n",
    "            \n",
    "    fetch_columns = columns[:3] + [columns[5]]\n",
    "    \n",
    "    row_data = rows[1].find_all('td')\n",
    "    for val in row_data[:4]:\n",
    "        # print(val.text.strip(), fetch_columns)\n",
    "        if val.text.strip() not in fetch_columns:\n",
    "            print(f\"bvbinfo_team_scraper - Error: check website structure\")\n",
    "            return []\n",
    "        \n",
    "    if len([1 for val in tournament_list if val in tournament.upper()]) == 0:\n",
    "        return []\n",
    "\n",
    "    for cols_element in rows[2:]:\n",
    "        values = []\n",
    "        players = []\n",
    "        \n",
    "        try:\n",
    "            col_element_data = cols_element.find_all('td')\n",
    "            finish_rank = col_element_data[0].text.strip()\n",
    "            if not finish_rank:\n",
    "                finish_rank = 999\n",
    "             \n",
    "            if 'Canada' in cols_element.get_text() or int(finish_rank) <= int(top_n) or int(top_n) == 0:\n",
    "                for col in col_element_data[:4]: # don't need all columns\n",
    "                    a_tag = col.find('a', href=True)\n",
    "                    if a_tag and 'player.asp' in a_tag['href']:\n",
    "                        value = a_tag['href'].split('=')[-1]\n",
    "                        players.append(value)\n",
    "                    #else:\n",
    "                    value = col.text.strip()\n",
    "                    values.append(value)\n",
    "                data.append(values[:3] + players + values[3:] + misc_info)\n",
    "        except ValueError as e:\n",
    "                print(f\"bvbinfo_team_scraper - Error: {e.args[0]} - {tourn_id}\")\n",
    "                 \n",
    "    return data"
   ]
  },
  {
   "cell_type": "code",
   "execution_count": 11,
   "id": "8328098a",
   "metadata": {
    "_cell_guid": "f744ad09-c736-436e-a2b4-08ea5fafaa00",
    "_uuid": "37d7564a-14b3-4eba-a479-fc610997c720",
    "collapsed": false,
    "execution": {
     "iopub.execute_input": "2023-08-12T00:41:23.958903Z",
     "iopub.status.busy": "2023-08-12T00:41:23.958418Z",
     "iopub.status.idle": "2023-08-12T00:46:39.523164Z",
     "shell.execute_reply": "2023-08-12T00:46:39.521937Z"
    },
    "jupyter": {
     "outputs_hidden": false
    },
    "papermill": {
     "duration": 315.576965,
     "end_time": "2023-08-12T00:46:39.526646",
     "exception": false,
     "start_time": "2023-08-12T00:41:23.949681",
     "status": "completed"
    },
    "tags": []
   },
   "outputs": [],
   "source": [
    "scraped_team_df = pd.DataFrame(columns=columns)\n",
    "\n",
    "for tournament_id in scraped_tournid_df['TOURNID']:\n",
    "# for tournament_id in [3982, 3961]:\n",
    "    data = bvbinfo_team_scraper(tournament_id, 5)\n",
    "    if data:  # Check if data is not empty\n",
    "        if len(data[0]) == len_columns:\n",
    "            temp_df = pd.DataFrame(data, columns=columns)\n",
    "            scraped_team_df = pd.concat([scraped_team_df, temp_df], ignore_index=True)"
   ]
  },
  {
   "cell_type": "code",
   "execution_count": 12,
   "id": "402d8a8d",
   "metadata": {
    "_cell_guid": "5486daf6-d420-4e5a-9de9-8136c1e92ab4",
    "_uuid": "ab9fb403-8903-4c2d-9737-d55ea343d247",
    "collapsed": false,
    "execution": {
     "iopub.execute_input": "2023-08-12T00:46:39.543752Z",
     "iopub.status.busy": "2023-08-12T00:46:39.543320Z",
     "iopub.status.idle": "2023-08-12T00:46:39.548361Z",
     "shell.execute_reply": "2023-08-12T00:46:39.546961Z"
    },
    "jupyter": {
     "outputs_hidden": false
    },
    "papermill": {
     "duration": 0.016395,
     "end_time": "2023-08-12T00:46:39.550753",
     "exception": false,
     "start_time": "2023-08-12T00:46:39.534358",
     "status": "completed"
    },
    "tags": []
   },
   "outputs": [],
   "source": [
    "#scraped_team_df.info()"
   ]
  },
  {
   "cell_type": "code",
   "execution_count": 13,
   "id": "d084efd3",
   "metadata": {
    "_cell_guid": "be703c2a-2f99-4a45-8033-ace007446bd5",
    "_uuid": "b13ddc4a-daa2-4d13-87e6-09d12aa9182a",
    "collapsed": false,
    "execution": {
     "iopub.execute_input": "2023-08-12T00:46:39.566855Z",
     "iopub.status.busy": "2023-08-12T00:46:39.566336Z",
     "iopub.status.idle": "2023-08-12T00:46:39.587836Z",
     "shell.execute_reply": "2023-08-12T00:46:39.586468Z"
    },
    "jupyter": {
     "outputs_hidden": false
    },
    "papermill": {
     "duration": 0.032908,
     "end_time": "2023-08-12T00:46:39.590675",
     "exception": false,
     "start_time": "2023-08-12T00:46:39.557767",
     "status": "completed"
    },
    "tags": []
   },
   "outputs": [],
   "source": [
    "scraped_team_df.to_csv(\"scraped_team_info.csv\")"
   ]
  }
 ],
 "metadata": {
  "kernelspec": {
   "display_name": "Python 3",
   "language": "python",
   "name": "python3"
  },
  "language_info": {
   "codemirror_mode": {
    "name": "ipython",
    "version": 3
   },
   "file_extension": ".py",
   "mimetype": "text/x-python",
   "name": "python",
   "nbconvert_exporter": "python",
   "pygments_lexer": "ipython3",
   "version": "3.10.12"
  },
  "papermill": {
   "default_parameters": {},
   "duration": 337.650148,
   "end_time": "2023-08-12T00:46:40.523481",
   "environment_variables": {},
   "exception": null,
   "input_path": "__notebook__.ipynb",
   "output_path": "__notebook__.ipynb",
   "parameters": {},
   "start_time": "2023-08-12T00:41:02.873333",
   "version": "2.4.0"
  }
 },
 "nbformat": 4,
 "nbformat_minor": 5
}

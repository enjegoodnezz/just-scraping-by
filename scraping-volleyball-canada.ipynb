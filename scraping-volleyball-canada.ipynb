{
 "cells": [
  {
   "cell_type": "code",
   "execution_count": 1,
   "id": "d9428ab3",
   "metadata": {
    "_cell_guid": "bf62a832-0b00-4224-b0f4-d2a01f32e564",
    "_uuid": "5f379365-00a0-4489-85a7-92c3eba04faf",
    "collapsed": false,
    "execution": {
     "iopub.execute_input": "2023-08-12T02:49:02.501845Z",
     "iopub.status.busy": "2023-08-12T02:49:02.500564Z",
     "iopub.status.idle": "2023-08-12T02:49:02.807718Z",
     "shell.execute_reply": "2023-08-12T02:49:02.805987Z"
    },
    "jupyter": {
     "outputs_hidden": false
    },
    "papermill": {
     "duration": 0.317655,
     "end_time": "2023-08-12T02:49:02.811006",
     "exception": false,
     "start_time": "2023-08-12T02:49:02.493351",
     "status": "completed"
    },
    "tags": []
   },
   "outputs": [
    {
     "name": "stdout",
     "output_type": "stream",
     "text": [
      "/kaggle/input/scraping-volleyball-teams/__results__.html\n",
      "/kaggle/input/scraping-volleyball-teams/__notebook__.ipynb\n",
      "/kaggle/input/scraping-volleyball-teams/scraped_team_info.csv\n",
      "/kaggle/input/scraping-volleyball-teams/__output__.json\n",
      "/kaggle/input/scraping-volleyball-teams/custom.css\n"
     ]
    }
   ],
   "source": [
    "import pandas as pd\n",
    "import requests\n",
    "from bs4 import BeautifulSoup\n",
    "import time\n",
    "\n",
    "import os\n",
    "for dirname, _, filenames in os.walk('/kaggle/input'):\n",
    "    for filename in filenames:\n",
    "        print(os.path.join(dirname, filename))"
   ]
  },
  {
   "cell_type": "code",
   "execution_count": 2,
   "id": "4e548cfb",
   "metadata": {
    "execution": {
     "iopub.execute_input": "2023-08-12T02:49:02.821871Z",
     "iopub.status.busy": "2023-08-12T02:49:02.820930Z",
     "iopub.status.idle": "2023-08-12T02:49:03.091613Z",
     "shell.execute_reply": "2023-08-12T02:49:03.090226Z"
    },
    "papermill": {
     "duration": 0.279701,
     "end_time": "2023-08-12T02:49:03.094573",
     "exception": false,
     "start_time": "2023-08-12T02:49:02.814872",
     "status": "completed"
    },
    "tags": []
   },
   "outputs": [
    {
     "name": "stdout",
     "output_type": "stream",
     "text": [
      "<class 'pandas.core.frame.DataFrame'>\n",
      "RangeIndex: 611 entries, 0 to 610\n",
      "Data columns (total 11 columns):\n",
      " #   Column           Non-Null Count  Dtype  \n",
      "---  ------           --------------  -----  \n",
      " 0   Finish           574 non-null    float64\n",
      " 1   Player           611 non-null    object \n",
      " 2   Partner          611 non-null    object \n",
      " 3   Player_ID        611 non-null    int64  \n",
      " 4   Partner_ID       611 non-null    int64  \n",
      " 5   Country          611 non-null    object \n",
      " 6   TourniStartDate  611 non-null    object \n",
      " 7   TourniEndDate    611 non-null    object \n",
      " 8   TournLocation    611 non-null    object \n",
      " 9   Event            611 non-null    object \n",
      " 10  TOURNID          611 non-null    int64  \n",
      "dtypes: float64(1), int64(3), object(7)\n",
      "memory usage: 52.6+ KB\n"
     ]
    }
   ],
   "source": [
    "# file generated from another scraping script/notebook\n",
    "team_df = pd.read_csv(\"/kaggle/input/scraping-volleyball-teams/scraped_team_info.csv\")\n",
    "team_df.info()"
   ]
  },
  {
   "cell_type": "code",
   "execution_count": 3,
   "id": "328a8b98",
   "metadata": {
    "_cell_guid": "be218428-3aab-49f2-aaea-018f5351bf5b",
    "_uuid": "52b90d11-b49e-4f33-bd12-8c9bf1cf0f62",
    "collapsed": false,
    "execution": {
     "iopub.execute_input": "2023-08-12T02:49:03.105737Z",
     "iopub.status.busy": "2023-08-12T02:49:03.103924Z",
     "iopub.status.idle": "2023-08-12T02:49:03.136018Z",
     "shell.execute_reply": "2023-08-12T02:49:03.134221Z"
    },
    "jupyter": {
     "outputs_hidden": false
    },
    "papermill": {
     "duration": 0.040685,
     "end_time": "2023-08-12T02:49:03.139083",
     "exception": false,
     "start_time": "2023-08-12T02:49:03.098398",
     "status": "completed"
    },
    "tags": []
   },
   "outputs": [
    {
     "data": {
      "text/html": [
       "<div>\n",
       "<style scoped>\n",
       "    .dataframe tbody tr th:only-of-type {\n",
       "        vertical-align: middle;\n",
       "    }\n",
       "\n",
       "    .dataframe tbody tr th {\n",
       "        vertical-align: top;\n",
       "    }\n",
       "\n",
       "    .dataframe thead th {\n",
       "        text-align: right;\n",
       "    }\n",
       "</style>\n",
       "<table border=\"1\" class=\"dataframe\">\n",
       "  <thead>\n",
       "    <tr style=\"text-align: right;\">\n",
       "      <th></th>\n",
       "      <th>PLAYER_ID</th>\n",
       "      <th>ATTRIBUTE</th>\n",
       "      <th>VALUE</th>\n",
       "    </tr>\n",
       "  </thead>\n",
       "  <tbody>\n",
       "  </tbody>\n",
       "</table>\n",
       "</div>"
      ],
      "text/plain": [
       "Empty DataFrame\n",
       "Columns: [PLAYER_ID, ATTRIBUTE, VALUE]\n",
       "Index: []"
      ]
     },
     "execution_count": 3,
     "metadata": {},
     "output_type": "execute_result"
    }
   ],
   "source": [
    "scraped_df = pd.DataFrame(columns=[\"PLAYER_ID\", \"ATTRIBUTE\", \"VALUE\"])\n",
    "scraped_df"
   ]
  },
  {
   "cell_type": "code",
   "execution_count": 4,
   "id": "57853939",
   "metadata": {
    "_cell_guid": "6eba0f1d-9b02-4007-adef-0dd19f393eeb",
    "_uuid": "c9bae747-07a0-4ff7-9d5c-6d187b86adcd",
    "collapsed": false,
    "execution": {
     "iopub.execute_input": "2023-08-12T02:49:03.150079Z",
     "iopub.status.busy": "2023-08-12T02:49:03.149609Z",
     "iopub.status.idle": "2023-08-12T02:50:17.908170Z",
     "shell.execute_reply": "2023-08-12T02:50:17.907137Z"
    },
    "jupyter": {
     "outputs_hidden": false
    },
    "papermill": {
     "duration": 74.772826,
     "end_time": "2023-08-12T02:50:17.916102",
     "exception": false,
     "start_time": "2023-08-12T02:49:03.143276",
     "status": "completed"
    },
    "tags": []
   },
   "outputs": [
    {
     "name": "stdout",
     "output_type": "stream",
     "text": [
      "142\n",
      "CPU times: user 46.9 s, sys: 166 ms, total: 47.1 s\n",
      "Wall time: 1min 14s\n"
     ]
    },
    {
     "data": {
      "text/html": [
       "<div>\n",
       "<style scoped>\n",
       "    .dataframe tbody tr th:only-of-type {\n",
       "        vertical-align: middle;\n",
       "    }\n",
       "\n",
       "    .dataframe tbody tr th {\n",
       "        vertical-align: top;\n",
       "    }\n",
       "\n",
       "    .dataframe thead th {\n",
       "        text-align: right;\n",
       "    }\n",
       "</style>\n",
       "<table border=\"1\" class=\"dataframe\">\n",
       "  <thead>\n",
       "    <tr style=\"text-align: right;\">\n",
       "      <th></th>\n",
       "      <th>PLAYER_ID</th>\n",
       "      <th>ATTRIBUTE</th>\n",
       "      <th>VALUE</th>\n",
       "    </tr>\n",
       "  </thead>\n",
       "  <tbody>\n",
       "    <tr>\n",
       "      <th>0</th>\n",
       "      <td>14741</td>\n",
       "      <td>Name</td>\n",
       "      <td>Anders Berntsen Mol</td>\n",
       "    </tr>\n",
       "    <tr>\n",
       "      <th>1</th>\n",
       "      <td>14741</td>\n",
       "      <td>Country</td>\n",
       "      <td>Norway</td>\n",
       "    </tr>\n",
       "    <tr>\n",
       "      <th>2</th>\n",
       "      <td>14741</td>\n",
       "      <td>Birth Date</td>\n",
       "      <td>July 2, 1997 (26 years old)</td>\n",
       "    </tr>\n",
       "    <tr>\n",
       "      <th>3</th>\n",
       "      <td>14741</td>\n",
       "      <td>Home Town</td>\n",
       "      <td>Stord, Hordaland</td>\n",
       "    </tr>\n",
       "    <tr>\n",
       "      <th>4</th>\n",
       "      <td>14741</td>\n",
       "      <td>Resides</td>\n",
       "      <td>Strandvik</td>\n",
       "    </tr>\n",
       "  </tbody>\n",
       "</table>\n",
       "</div>"
      ],
      "text/plain": [
       "   PLAYER_ID   ATTRIBUTE                        VALUE\n",
       "0      14741        Name          Anders Berntsen Mol\n",
       "1      14741     Country                       Norway\n",
       "2      14741  Birth Date  July 2, 1997 (26 years old)\n",
       "3      14741   Home Town             Stord, Hordaland\n",
       "4      14741     Resides                    Strandvik"
      ]
     },
     "execution_count": 4,
     "metadata": {},
     "output_type": "execute_result"
    }
   ],
   "source": [
    "%%time\n",
    "\n",
    "# Create a list to store the data\n",
    "data = []\n",
    "player_id_list = team_df['Player_ID'].unique()\n",
    "print(len(player_id_list))\n",
    "\n",
    "for player_id in player_id_list:\n",
    "#for player_id in range(1, 30000):\n",
    "    url = f\"http://www.bvbinfo.com/player.asp?ID={player_id}\"\n",
    "\n",
    "    # Make a request to the URL\n",
    "    try:\n",
    "        response = requests.get(url, timeout=10)\n",
    "    except requests.exceptions.Timeout as e:\n",
    "        # If the request times out, skip to the next player ID\n",
    "        print(f\"Time out for player ID {player_id}: {e}\")\n",
    "        continue\n",
    "\n",
    "    except requests.exceptions.RequestException as e:\n",
    "        # If there is another error, skip to the next player ID\n",
    "        print(f\"Error for player ID {player_id}: {e}\")\n",
    "        continue\n",
    "\n",
    "    # Parse the HTML content of the page\n",
    "    soup = BeautifulSoup(response.content, \"html.parser\")\n",
    "\n",
    "    # Get player name and country\n",
    "    name_element = soup.find(class_=\"clsPlayerName\")\n",
    "    if name_element:\n",
    "        name = name_element.text.strip()\n",
    "        country_element = soup.find(class_=\"clsPlayerCountry\")\n",
    "        if country_element:\n",
    "            country = country_element.text.strip()\n",
    "            # Append player ID, name, and country to the data list\n",
    "            data.append([player_id, \"Name\", name])\n",
    "            data.append([player_id, \"Country\", country])\n",
    "        else:\n",
    "            country = ' '\n",
    "            data.append([player_id, \"Country\", country])\n",
    "    else:\n",
    "        name = ' '\n",
    "        data.append([player_id, \"Name\", name])\n",
    "\n",
    "    # Find the element with the \"Vital Statistics\" string\n",
    "    vital_statistics = soup.find(string=\"Vital Statistics\")\n",
    "\n",
    "    if vital_statistics:\n",
    "        # Find the parent table of the \"Vital Statistics\"\n",
    "        table = vital_statistics.find_parent(\"table\")\n",
    "\n",
    "        if table:\n",
    "            # Iterate over the rows in the table\n",
    "            for row in table.find_all(\"tr\"):\n",
    "                # Get the columns in the row\n",
    "                columns = row.find_all(\"td\")\n",
    "\n",
    "                # If the row has at least 2 columns of data and without the 'Photo' in the first column\n",
    "                if len(columns) >= 2 and \"Photo\" not in columns[0].text:\n",
    "\n",
    "                    # Get the text in the first column (when class=\"clsPlayerDataLabel\")\n",
    "                    # Let the text in the first column become the key\n",
    "                    key = columns[0].text.strip()\n",
    "\n",
    "                    # Get the text in the second column (when class=\"clsPlayerData\")\n",
    "                    # Let the text in the second column become the value\n",
    "                    value = columns[1].text.strip()\n",
    "\n",
    "                    if len(columns) >= 3:\n",
    "                        # Split the text from the second column and the third column\n",
    "                        value += ';'\n",
    "                        # Get the text in the third column (when class=\"clsPlayerData\")\n",
    "                        value += columns[2].text.strip()\n",
    "\n",
    "                    # Append player ID, key, and value to the data list\n",
    "                    data.append([player_id, key, value])\n",
    "\n",
    "# Create the DataFrame from the data list\n",
    "scraped_df = pd.DataFrame(data, columns=[\"PLAYER_ID\", \"ATTRIBUTE\", \"VALUE\"])\n",
    "\n",
    "# Display the scraped DataFrame\n",
    "scraped_df.head()"
   ]
  },
  {
   "cell_type": "code",
   "execution_count": 5,
   "id": "5d86aff6",
   "metadata": {
    "_cell_guid": "bcec5b0c-5723-4a95-89ec-de49d3143001",
    "_uuid": "e4071b8e-6779-48c2-bda4-d1fdc7670046",
    "collapsed": false,
    "execution": {
     "iopub.execute_input": "2023-08-12T02:50:17.927525Z",
     "iopub.status.busy": "2023-08-12T02:50:17.927080Z",
     "iopub.status.idle": "2023-08-12T02:50:17.949712Z",
     "shell.execute_reply": "2023-08-12T02:50:17.948409Z"
    },
    "jupyter": {
     "outputs_hidden": false
    },
    "papermill": {
     "duration": 0.032151,
     "end_time": "2023-08-12T02:50:17.952797",
     "exception": false,
     "start_time": "2023-08-12T02:50:17.920646",
     "status": "completed"
    },
    "tags": []
   },
   "outputs": [
    {
     "name": "stdout",
     "output_type": "stream",
     "text": [
      "CPU times: user 4 µs, sys: 0 ns, total: 4 µs\n",
      "Wall time: 8.82 µs\n"
     ]
    }
   ],
   "source": [
    "%time\n",
    "scraped_df.to_csv(\"scraped_player_data.csv\", index = False)"
   ]
  }
 ],
 "metadata": {
  "kernelspec": {
   "display_name": "Python 3",
   "language": "python",
   "name": "python3"
  },
  "language_info": {
   "codemirror_mode": {
    "name": "ipython",
    "version": 3
   },
   "file_extension": ".py",
   "mimetype": "text/x-python",
   "name": "python",
   "nbconvert_exporter": "python",
   "pygments_lexer": "ipython3",
   "version": "3.10.10"
  },
  "papermill": {
   "default_parameters": {},
   "duration": 95.844799,
   "end_time": "2023-08-12T02:50:19.083941",
   "environment_variables": {},
   "exception": null,
   "input_path": "__notebook__.ipynb",
   "output_path": "__notebook__.ipynb",
   "parameters": {},
   "start_time": "2023-08-12T02:48:43.239142",
   "version": "2.4.0"
  }
 },
 "nbformat": 4,
 "nbformat_minor": 5
}

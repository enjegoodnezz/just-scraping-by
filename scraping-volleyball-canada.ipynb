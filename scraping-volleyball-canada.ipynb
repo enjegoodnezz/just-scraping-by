{
 "cells": [
  {
   "cell_type": "code",
   "execution_count": 1,
   "id": "4e6aeb19",
   "metadata": {
    "_cell_guid": "bf62a832-0b00-4224-b0f4-d2a01f32e564",
    "_uuid": "5f379365-00a0-4489-85a7-92c3eba04faf",
    "collapsed": false,
    "execution": {
     "iopub.execute_input": "2023-08-12T02:10:55.557345Z",
     "iopub.status.busy": "2023-08-12T02:10:55.557028Z",
     "iopub.status.idle": "2023-08-12T02:10:55.771292Z",
     "shell.execute_reply": "2023-08-12T02:10:55.770363Z"
    },
    "jupyter": {
     "outputs_hidden": false
    },
    "papermill": {
     "duration": 0.220554,
     "end_time": "2023-08-12T02:10:55.773445",
     "exception": false,
     "start_time": "2023-08-12T02:10:55.552891",
     "status": "completed"
    },
    "tags": []
   },
   "outputs": [
    {
     "name": "stdout",
     "output_type": "stream",
     "text": [
      "/kaggle/input/scraping-volleyball-teams/__results__.html\n",
      "/kaggle/input/scraping-volleyball-teams/__notebook__.ipynb\n",
      "/kaggle/input/scraping-volleyball-teams/scraped_team_info.csv\n",
      "/kaggle/input/scraping-volleyball-teams/__output__.json\n",
      "/kaggle/input/scraping-volleyball-teams/custom.css\n"
     ]
    }
   ],
   "source": [
    "import pandas as pd\n",
    "import requests\n",
    "from bs4 import BeautifulSoup\n",
    "import time\n",
    "\n",
    "import os\n",
    "for dirname, _, filenames in os.walk('/kaggle/input'):\n",
    "    for filename in filenames:\n",
    "        print(os.path.join(dirname, filename))"
   ]
  },
  {
   "cell_type": "code",
   "execution_count": 2,
   "id": "35cff8aa",
   "metadata": {
    "execution": {
     "iopub.execute_input": "2023-08-12T02:10:55.780104Z",
     "iopub.status.busy": "2023-08-12T02:10:55.779501Z",
     "iopub.status.idle": "2023-08-12T02:10:55.954131Z",
     "shell.execute_reply": "2023-08-12T02:10:55.952596Z"
    },
    "papermill": {
     "duration": 0.180377,
     "end_time": "2023-08-12T02:10:55.956287",
     "exception": false,
     "start_time": "2023-08-12T02:10:55.775910",
     "status": "completed"
    },
    "tags": []
   },
   "outputs": [
    {
     "name": "stdout",
     "output_type": "stream",
     "text": [
      "<class 'pandas.core.frame.DataFrame'>\n",
      "RangeIndex: 611 entries, 0 to 610\n",
      "Data columns (total 11 columns):\n",
      " #   Column           Non-Null Count  Dtype  \n",
      "---  ------           --------------  -----  \n",
      " 0   Finish           574 non-null    float64\n",
      " 1   Player           611 non-null    object \n",
      " 2   Partner          611 non-null    object \n",
      " 3   Player_ID        611 non-null    int64  \n",
      " 4   Partner_ID       611 non-null    int64  \n",
      " 5   Country          611 non-null    object \n",
      " 6   TourniStartDate  611 non-null    object \n",
      " 7   TourniEndDate    611 non-null    object \n",
      " 8   TournLocation    611 non-null    object \n",
      " 9   Event            611 non-null    object \n",
      " 10  TOURNID          611 non-null    int64  \n",
      "dtypes: float64(1), int64(3), object(7)\n",
      "memory usage: 52.6+ KB\n"
     ]
    }
   ],
   "source": [
    "# file generated from another scraping script/notebook\n",
    "team_df = pd.read_csv(\"/kaggle/input/scraping-volleyball-teams/scraped_team_info.csv\")\n",
    "team_df.info()"
   ]
  },
  {
   "cell_type": "code",
   "execution_count": 3,
   "id": "3815d992",
   "metadata": {
    "_cell_guid": "be218428-3aab-49f2-aaea-018f5351bf5b",
    "_uuid": "52b90d11-b49e-4f33-bd12-8c9bf1cf0f62",
    "collapsed": false,
    "execution": {
     "iopub.execute_input": "2023-08-12T02:10:55.962717Z",
     "iopub.status.busy": "2023-08-12T02:10:55.962319Z",
     "iopub.status.idle": "2023-08-12T02:10:55.986699Z",
     "shell.execute_reply": "2023-08-12T02:10:55.985146Z"
    },
    "jupyter": {
     "outputs_hidden": false
    },
    "papermill": {
     "duration": 0.03031,
     "end_time": "2023-08-12T02:10:55.988972",
     "exception": false,
     "start_time": "2023-08-12T02:10:55.958662",
     "status": "completed"
    },
    "tags": []
   },
   "outputs": [
    {
     "data": {
      "text/html": [
       "<div>\n",
       "<style scoped>\n",
       "    .dataframe tbody tr th:only-of-type {\n",
       "        vertical-align: middle;\n",
       "    }\n",
       "\n",
       "    .dataframe tbody tr th {\n",
       "        vertical-align: top;\n",
       "    }\n",
       "\n",
       "    .dataframe thead th {\n",
       "        text-align: right;\n",
       "    }\n",
       "</style>\n",
       "<table border=\"1\" class=\"dataframe\">\n",
       "  <thead>\n",
       "    <tr style=\"text-align: right;\">\n",
       "      <th></th>\n",
       "      <th>PLAYER_ID</th>\n",
       "      <th>ATTRIBUTE</th>\n",
       "      <th>VALUE</th>\n",
       "    </tr>\n",
       "  </thead>\n",
       "  <tbody>\n",
       "  </tbody>\n",
       "</table>\n",
       "</div>"
      ],
      "text/plain": [
       "Empty DataFrame\n",
       "Columns: [PLAYER_ID, ATTRIBUTE, VALUE]\n",
       "Index: []"
      ]
     },
     "execution_count": 3,
     "metadata": {},
     "output_type": "execute_result"
    }
   ],
   "source": [
    "scraped_df = pd.DataFrame(columns=[\"PLAYER_ID\", \"ATTRIBUTE\", \"VALUE\"])\n",
    "scraped_df"
   ]
  },
  {
   "cell_type": "code",
   "execution_count": 4,
   "id": "aa28cf01",
   "metadata": {
    "_cell_guid": "6eba0f1d-9b02-4007-adef-0dd19f393eeb",
    "_uuid": "c9bae747-07a0-4ff7-9d5c-6d187b86adcd",
    "collapsed": false,
    "execution": {
     "iopub.execute_input": "2023-08-12T02:10:55.995514Z",
     "iopub.status.busy": "2023-08-12T02:10:55.995155Z",
     "iopub.status.idle": "2023-08-12T02:10:56.083337Z",
     "shell.execute_reply": "2023-08-12T02:10:56.081846Z"
    },
    "jupyter": {
     "outputs_hidden": false
    },
    "papermill": {
     "duration": 0.094404,
     "end_time": "2023-08-12T02:10:56.086119",
     "exception": false,
     "start_time": "2023-08-12T02:10:55.991715",
     "status": "completed"
    },
    "tags": []
   },
   "outputs": [
    {
     "name": "stdout",
     "output_type": "stream",
     "text": [
      "Unexpected exception formatting exception. Falling back to standard exception\n"
     ]
    },
    {
     "name": "stderr",
     "output_type": "stream",
     "text": [
      "Traceback (most recent call last):\n",
      "  File \"/opt/conda/lib/python3.10/site-packages/IPython/core/magics/execution.py\", line 1325, in time\n",
      "    exec(code, glob, local_ns)\n",
      "  File \"<timed exec>\", line 5, in <module>\n",
      "  File \"/opt/conda/lib/python3.10/site-packages/pandas/core/generic.py\", line 5902, in __getattr__\n",
      "    return object.__getattribute__(self, name)\n",
      "AttributeError: 'Series' object has no attribute 'absunique'\n",
      "\n",
      "During handling of the above exception, another exception occurred:\n",
      "\n",
      "Traceback (most recent call last):\n",
      "  File \"/opt/conda/lib/python3.10/site-packages/IPython/core/interactiveshell.py\", line 2105, in showtraceback\n",
      "    stb = self.InteractiveTB.structured_traceback(\n",
      "  File \"/opt/conda/lib/python3.10/site-packages/IPython/core/ultratb.py\", line 1396, in structured_traceback\n",
      "    return FormattedTB.structured_traceback(\n",
      "  File \"/opt/conda/lib/python3.10/site-packages/IPython/core/ultratb.py\", line 1287, in structured_traceback\n",
      "    return VerboseTB.structured_traceback(\n",
      "  File \"/opt/conda/lib/python3.10/site-packages/IPython/core/ultratb.py\", line 1140, in structured_traceback\n",
      "    formatted_exception = self.format_exception_as_a_whole(etype, evalue, etb, number_of_lines_of_context,\n",
      "  File \"/opt/conda/lib/python3.10/site-packages/IPython/core/ultratb.py\", line 1030, in format_exception_as_a_whole\n",
      "    self.get_records(etb, number_of_lines_of_context, tb_offset) if etb else []\n",
      "  File \"/opt/conda/lib/python3.10/site-packages/IPython/core/ultratb.py\", line 1122, in get_records\n",
      "    FrameInfo(\n",
      "  File \"/opt/conda/lib/python3.10/site-packages/IPython/core/ultratb.py\", line 766, in __init__\n",
      "    ix = inspect.getsourcelines(frame)\n",
      "  File \"/opt/conda/lib/python3.10/inspect.py\", line 1121, in getsourcelines\n",
      "    lines, lnum = findsource(object)\n",
      "  File \"/opt/conda/lib/python3.10/inspect.py\", line 958, in findsource\n",
      "    raise OSError('could not get source code')\n",
      "OSError: could not get source code\n"
     ]
    }
   ],
   "source": [
    "%%time\n",
    "\n",
    "# Create a list to store the data\n",
    "data = []\n",
    "\n",
    "#for player_id in range(1, 30000):\n",
    "for player_id in team_df['Player_ID'].absunique():\n",
    "    url = f\"http://www.bvbinfo.com/player.asp?ID={player_id}\"\n",
    "\n",
    "    # Make a request to the URL\n",
    "    try:\n",
    "        response = requests.get(url, timeout=10)\n",
    "    except requests.exceptions.Timeout as e:\n",
    "        # If the request times out, skip to the next player ID\n",
    "        print(f\"Time out for player ID {player_id}: {e}\")\n",
    "        continue\n",
    "\n",
    "    except requests.exceptions.RequestException as e:\n",
    "        # If there is another error, skip to the next player ID\n",
    "        print(f\"Error for player ID {player_id}: {e}\")\n",
    "        continue\n",
    "\n",
    "    # Parse the HTML content of the page\n",
    "    soup = BeautifulSoup(response.content, \"html.parser\")\n",
    "\n",
    "    # Get player name and country\n",
    "    name_element = soup.find(class_=\"clsPlayerName\")\n",
    "    if name_element:\n",
    "        name = name_element.text.strip()\n",
    "        country_element = soup.find(class_=\"clsPlayerCountry\")\n",
    "        if country_element:\n",
    "            country = country_element.text.strip()\n",
    "            # Append player ID, name, and country to the data list\n",
    "            data.append([player_id, \"Name\", name])\n",
    "            data.append([player_id, \"Country\", country])\n",
    "        else:\n",
    "            country = ' '\n",
    "            data.append([player_id, \"Country\", country])\n",
    "    else:\n",
    "        name = ' '\n",
    "        data.append([player_id, \"Name\", name])\n",
    "\n",
    "    # Find the element with the \"Vital Statistics\" string\n",
    "    vital_statistics = soup.find(string=\"Vital Statistics\")\n",
    "\n",
    "    if vital_statistics:\n",
    "        # Find the parent table of the \"Vital Statistics\"\n",
    "        table = vital_statistics.find_parent(\"table\")\n",
    "\n",
    "        if table:\n",
    "            # Iterate over the rows in the table\n",
    "            for row in table.find_all(\"tr\"):\n",
    "                # Get the columns in the row\n",
    "                columns = row.find_all(\"td\")\n",
    "\n",
    "                # If the row has at least 2 columns of data and without the 'Photo' in the first column\n",
    "                if len(columns) >= 2 and \"Photo\" not in columns[0].text:\n",
    "\n",
    "                    # Get the text in the first column (when class=\"clsPlayerDataLabel\")\n",
    "                    # Let the text in the first column become the key\n",
    "                    key = columns[0].text.strip()\n",
    "\n",
    "                    # Get the text in the second column (when class=\"clsPlayerData\")\n",
    "                    # Let the text in the second column become the value\n",
    "                    value = columns[1].text.strip()\n",
    "\n",
    "                    if len(columns) >= 3:\n",
    "                        # Split the text from the second column and the third column\n",
    "                        value += ';'\n",
    "                        # Get the text in the third column (when class=\"clsPlayerData\")\n",
    "                        value += columns[2].text.strip()\n",
    "\n",
    "                    # Append player ID, key, and value to the data list\n",
    "                    data.append([player_id, key, value])\n",
    "\n",
    "# Create the DataFrame from the data list\n",
    "scraped_df = pd.DataFrame(data, columns=[\"PLAYER_ID\", \"ATTRIBUTE\", \"VALUE\"])\n",
    "\n",
    "# Display the scraped DataFrame\n",
    "scraped_df.head()"
   ]
  },
  {
   "cell_type": "code",
   "execution_count": 5,
   "id": "9537ab45",
   "metadata": {
    "_cell_guid": "bcec5b0c-5723-4a95-89ec-de49d3143001",
    "_uuid": "e4071b8e-6779-48c2-bda4-d1fdc7670046",
    "collapsed": false,
    "execution": {
     "iopub.execute_input": "2023-08-12T02:10:56.092892Z",
     "iopub.status.busy": "2023-08-12T02:10:56.092561Z",
     "iopub.status.idle": "2023-08-12T02:10:56.101850Z",
     "shell.execute_reply": "2023-08-12T02:10:56.100826Z"
    },
    "jupyter": {
     "outputs_hidden": false
    },
    "papermill": {
     "duration": 0.015182,
     "end_time": "2023-08-12T02:10:56.103936",
     "exception": false,
     "start_time": "2023-08-12T02:10:56.088754",
     "status": "completed"
    },
    "tags": []
   },
   "outputs": [
    {
     "name": "stdout",
     "output_type": "stream",
     "text": [
      "CPU times: user 2 µs, sys: 0 ns, total: 2 µs\n",
      "Wall time: 5.96 µs\n"
     ]
    }
   ],
   "source": [
    "%time\n",
    "scraped_df.to_csv(\"scraped_player_data.csv\", index = False)"
   ]
  }
 ],
 "metadata": {
  "kernelspec": {
   "display_name": "Python 3",
   "language": "python",
   "name": "python3"
  },
  "language_info": {
   "codemirror_mode": {
    "name": "ipython",
    "version": 3
   },
   "file_extension": ".py",
   "mimetype": "text/x-python",
   "name": "python",
   "nbconvert_exporter": "python",
   "pygments_lexer": "ipython3",
   "version": "3.10.10"
  },
  "papermill": {
   "default_parameters": {},
   "duration": 12.489261,
   "end_time": "2023-08-12T02:10:56.928750",
   "environment_variables": {},
   "exception": null,
   "input_path": "__notebook__.ipynb",
   "output_path": "__notebook__.ipynb",
   "parameters": {},
   "start_time": "2023-08-12T02:10:44.439489",
   "version": "2.4.0"
  }
 },
 "nbformat": 4,
 "nbformat_minor": 5
}

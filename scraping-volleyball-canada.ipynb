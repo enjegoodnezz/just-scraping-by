{
 "cells": [
  {
   "cell_type": "code",
   "execution_count": 1,
   "id": "b64da5fc",
   "metadata": {
    "_cell_guid": "bf62a832-0b00-4224-b0f4-d2a01f32e564",
    "_uuid": "5f379365-00a0-4489-85a7-92c3eba04faf",
    "collapsed": false,
    "execution": {
     "iopub.execute_input": "2023-08-13T03:13:13.261003Z",
     "iopub.status.busy": "2023-08-13T03:13:13.260584Z",
     "iopub.status.idle": "2023-08-13T03:13:13.477493Z",
     "shell.execute_reply": "2023-08-13T03:13:13.475820Z"
    },
    "jupyter": {
     "outputs_hidden": false
    },
    "papermill": {
     "duration": 0.224642,
     "end_time": "2023-08-13T03:13:13.479814",
     "exception": false,
     "start_time": "2023-08-13T03:13:13.255172",
     "status": "completed"
    },
    "tags": []
   },
   "outputs": [
    {
     "name": "stdout",
     "output_type": "stream",
     "text": [
      "/kaggle/input/scraping-volleyball-teams/__results__.html\n",
      "/kaggle/input/scraping-volleyball-teams/__notebook__.ipynb\n",
      "/kaggle/input/scraping-volleyball-teams/scraped_team_info.csv\n",
      "/kaggle/input/scraping-volleyball-teams/__output__.json\n",
      "/kaggle/input/scraping-volleyball-teams/custom.css\n"
     ]
    }
   ],
   "source": [
    "import pandas as pd\n",
    "import requests\n",
    "from bs4 import BeautifulSoup\n",
    "import time\n",
    "\n",
    "import os\n",
    "for dirname, _, filenames in os.walk('/kaggle/input'):\n",
    "    for filename in filenames:\n",
    "        print(os.path.join(dirname, filename))"
   ]
  },
  {
   "cell_type": "code",
   "execution_count": 2,
   "id": "7246f92b",
   "metadata": {
    "execution": {
     "iopub.execute_input": "2023-08-13T03:13:13.487452Z",
     "iopub.status.busy": "2023-08-13T03:13:13.486807Z",
     "iopub.status.idle": "2023-08-13T03:13:13.492448Z",
     "shell.execute_reply": "2023-08-13T03:13:13.490855Z"
    },
    "papermill": {
     "duration": 0.011656,
     "end_time": "2023-08-13T03:13:13.494475",
     "exception": false,
     "start_time": "2023-08-13T03:13:13.482819",
     "status": "completed"
    },
    "tags": []
   },
   "outputs": [],
   "source": [
    "# base url\n",
    "base_url = \"http://www.bvbinfo.com/player.asp?ID=\""
   ]
  },
  {
   "cell_type": "code",
   "execution_count": 3,
   "id": "6441f71b",
   "metadata": {
    "execution": {
     "iopub.execute_input": "2023-08-13T03:13:13.501797Z",
     "iopub.status.busy": "2023-08-13T03:13:13.500935Z",
     "iopub.status.idle": "2023-08-13T03:13:13.667267Z",
     "shell.execute_reply": "2023-08-13T03:13:13.666564Z"
    },
    "papermill": {
     "duration": 0.171955,
     "end_time": "2023-08-13T03:13:13.669226",
     "exception": false,
     "start_time": "2023-08-13T03:13:13.497271",
     "status": "completed"
    },
    "tags": []
   },
   "outputs": [
    {
     "name": "stdout",
     "output_type": "stream",
     "text": [
      "<class 'pandas.core.frame.DataFrame'>\n",
      "RangeIndex: 611 entries, 0 to 610\n",
      "Data columns (total 11 columns):\n",
      " #   Column           Non-Null Count  Dtype  \n",
      "---  ------           --------------  -----  \n",
      " 0   Finish           574 non-null    float64\n",
      " 1   Player           611 non-null    object \n",
      " 2   Partner          611 non-null    object \n",
      " 3   Player_ID        611 non-null    int64  \n",
      " 4   Partner_ID       611 non-null    int64  \n",
      " 5   Country          611 non-null    object \n",
      " 6   TourniStartDate  611 non-null    object \n",
      " 7   TourniEndDate    611 non-null    object \n",
      " 8   TournLocation    611 non-null    object \n",
      " 9   Event            611 non-null    object \n",
      " 10  TOURNID          611 non-null    int64  \n",
      "dtypes: float64(1), int64(3), object(7)\n",
      "memory usage: 52.6+ KB\n"
     ]
    }
   ],
   "source": [
    "# file generated from another scraping script/notebook\n",
    "team_df = pd.read_csv(\"/kaggle/input/scraping-volleyball-teams/scraped_team_info.csv\")\n",
    "team_df.info()"
   ]
  },
  {
   "cell_type": "code",
   "execution_count": 4,
   "id": "8d35dc78",
   "metadata": {
    "execution": {
     "iopub.execute_input": "2023-08-13T03:13:13.676147Z",
     "iopub.status.busy": "2023-08-13T03:13:13.675788Z",
     "iopub.status.idle": "2023-08-13T03:13:13.691671Z",
     "shell.execute_reply": "2023-08-13T03:13:13.690389Z"
    },
    "papermill": {
     "duration": 0.022375,
     "end_time": "2023-08-13T03:13:13.694373",
     "exception": false,
     "start_time": "2023-08-13T03:13:13.671998",
     "status": "completed"
    },
    "tags": []
   },
   "outputs": [
    {
     "data": {
      "text/plain": [
       "(Empty DataFrame\n",
       " Columns: [Finish, Player, Partner, Player_ID, Partner_ID, Country, TourniStartDate, TourniEndDate, TournLocation, Event, TOURNID]\n",
       " Index: [],\n",
       " Empty DataFrame\n",
       " Columns: [Finish, Player, Partner, Player_ID, Partner_ID, Country, TourniStartDate, TourniEndDate, TournLocation, Event, TOURNID]\n",
       " Index: [])"
      ]
     },
     "execution_count": 4,
     "metadata": {},
     "output_type": "execute_result"
    }
   ],
   "source": [
    "team_df[team_df['Player_ID'] == 39937], team_df[team_df['Partner_ID'] == 39937]\n"
   ]
  },
  {
   "cell_type": "code",
   "execution_count": 5,
   "id": "3e3c24c5",
   "metadata": {
    "_cell_guid": "be218428-3aab-49f2-aaea-018f5351bf5b",
    "_uuid": "52b90d11-b49e-4f33-bd12-8c9bf1cf0f62",
    "collapsed": false,
    "execution": {
     "iopub.execute_input": "2023-08-13T03:13:13.701843Z",
     "iopub.status.busy": "2023-08-13T03:13:13.701438Z",
     "iopub.status.idle": "2023-08-13T03:13:13.720118Z",
     "shell.execute_reply": "2023-08-13T03:13:13.719145Z"
    },
    "jupyter": {
     "outputs_hidden": false
    },
    "papermill": {
     "duration": 0.024746,
     "end_time": "2023-08-13T03:13:13.722152",
     "exception": false,
     "start_time": "2023-08-13T03:13:13.697406",
     "status": "completed"
    },
    "tags": []
   },
   "outputs": [
    {
     "data": {
      "text/html": [
       "<div>\n",
       "<style scoped>\n",
       "    .dataframe tbody tr th:only-of-type {\n",
       "        vertical-align: middle;\n",
       "    }\n",
       "\n",
       "    .dataframe tbody tr th {\n",
       "        vertical-align: top;\n",
       "    }\n",
       "\n",
       "    .dataframe thead th {\n",
       "        text-align: right;\n",
       "    }\n",
       "</style>\n",
       "<table border=\"1\" class=\"dataframe\">\n",
       "  <thead>\n",
       "    <tr style=\"text-align: right;\">\n",
       "      <th></th>\n",
       "      <th>PLAYER_ID</th>\n",
       "      <th>ATTRIBUTE</th>\n",
       "      <th>VALUE</th>\n",
       "    </tr>\n",
       "  </thead>\n",
       "  <tbody>\n",
       "  </tbody>\n",
       "</table>\n",
       "</div>"
      ],
      "text/plain": [
       "Empty DataFrame\n",
       "Columns: [PLAYER_ID, ATTRIBUTE, VALUE]\n",
       "Index: []"
      ]
     },
     "execution_count": 5,
     "metadata": {},
     "output_type": "execute_result"
    }
   ],
   "source": [
    "scraped_df = pd.DataFrame(columns=[\"PLAYER_ID\", \"ATTRIBUTE\", \"VALUE\"])\n",
    "scraped_df"
   ]
  },
  {
   "cell_type": "code",
   "execution_count": 6,
   "id": "24acb5a9",
   "metadata": {
    "execution": {
     "iopub.execute_input": "2023-08-13T03:13:13.730105Z",
     "iopub.status.busy": "2023-08-13T03:13:13.729471Z",
     "iopub.status.idle": "2023-08-13T03:13:13.738158Z",
     "shell.execute_reply": "2023-08-13T03:13:13.736664Z"
    },
    "papermill": {
     "duration": 0.015328,
     "end_time": "2023-08-13T03:13:13.740589",
     "exception": false,
     "start_time": "2023-08-13T03:13:13.725261",
     "status": "completed"
    },
    "tags": []
   },
   "outputs": [],
   "source": [
    "[team_df['Player_ID'].unique(), team_df['Partner_ID'].unique()]\n",
    "player_id_list = list(team_df['Player_ID'].unique())\n",
    "player_id_list.extend(list(team_df['Partner_ID'].unique()))\n",
    "player_id_list = list(set(player_id_list))"
   ]
  },
  {
   "cell_type": "code",
   "execution_count": 7,
   "id": "b509b53f",
   "metadata": {
    "execution": {
     "iopub.execute_input": "2023-08-13T03:13:13.748451Z",
     "iopub.status.busy": "2023-08-13T03:13:13.748021Z",
     "iopub.status.idle": "2023-08-13T03:14:41.632849Z",
     "shell.execute_reply": "2023-08-13T03:14:41.631915Z"
    },
    "papermill": {
     "duration": 87.895212,
     "end_time": "2023-08-13T03:14:41.639007",
     "exception": false,
     "start_time": "2023-08-13T03:13:13.743795",
     "status": "completed"
    },
    "tags": []
   },
   "outputs": [
    {
     "name": "stdout",
     "output_type": "stream",
     "text": [
      "267\n",
      "CPU times: user 46 s, sys: 185 ms, total: 46.2 s\n",
      "Wall time: 1min 27s\n"
     ]
    }
   ],
   "source": [
    "%%time\n",
    "\n",
    "columns = [\"PLAYER_ID\", \"ATTRIBUTE\", \"VALUE\"]\n",
    "\n",
    "# Create a list to store the data\n",
    "data = []\n",
    "data_values = []\n",
    "\n",
    "print(len(player_id_list))\n",
    "\n",
    "for player_id in player_id_list:\n",
    "# for player_id in range(1,20):\n",
    "    url = base_url + str(player_id)\n",
    "\n",
    "    # Make a request to the URL\n",
    "    try:\n",
    "        response = requests.get(url, timeout=10)\n",
    "    except requests.exceptions.Timeout as e:\n",
    "        # If the request times out, skip to the next player ID\n",
    "        print(f\"Time out for player ID {player_id}: {e}\")\n",
    "        continue\n",
    "\n",
    "    except requests.exceptions.RequestException as e1:\n",
    "        # If there is another error, skip to the next player ID\n",
    "        print(f\"Error for player ID {player_id}: {e1}\")\n",
    "        continue\n",
    "    try:\n",
    "    # Parse the HTML content of the page\n",
    "        soup = BeautifulSoup(response.content, \"html.parser\")\n",
    "        player_table_element = soup.find('table', {'class': 'clsPlayerTable'})\n",
    "        # Get player name and country\n",
    "        name_element = player_table_element.find(class_=\"clsPlayerName\")\n",
    "        country_element = player_table_element.find(class_=\"clsPlayerCountry\")\n",
    "        name = name_element.text.strip()\n",
    "        \n",
    "        country = country_element.text.strip()\n",
    "        \n",
    "        data.append([player_id, \"Name\", name])\n",
    "        data.append([player_id, \"Country\", country])\n",
    "        \n",
    "        # tables\n",
    "        tables =player_table_element.find_all('table')\n",
    "        for table_element in tables:\n",
    "            header_element = table_element.find('td',{'class':\"clsPlayerHeader\"})\n",
    "            if header_element:\n",
    "                header_text = header_element.text.strip()\n",
    "                # print(header_text)\n",
    "                if 'Vital Statistics' == header_text:\n",
    "                    info_table = table_element.find('table').find('table')\n",
    "                    if info_table:\n",
    "                        info_rows = info_table.find_all('tr')\n",
    "                        for rows in info_rows:\n",
    "                            label = rows.find(class_=\"clsPlayerDataLabel\")\n",
    "                            if label:\n",
    "                                label = label.text.strip()\n",
    "                            value = rows.find(class_=\"clsPlayerData\")\n",
    "                            if value:\n",
    "                                value = value.text.strip()\n",
    "                            data.append([player_id, label, value])              \n",
    "                if 'Career Summary' == header_text:               \n",
    "                    categories = table_element.find_all('td',{'class':'clsPlayerCategoryHeader'})\n",
    "                    totals = table_element.find_all('tr',{'class':'clsPlayerDataTotal'})\n",
    "                    for i in range(len(categories)):\n",
    "                        data.append([player_id, \"Career-\" + categories[i].text.strip(),totals[i].find_all('td')[2].text.split('(')[0]])\n",
    "                    overall_total = totals[len(totals)-1].find_all('td')[2].text.split('(')[0]\n",
    "                    data.append([player_id, \"Career-total\",overall_total])\n",
    "    except:\n",
    "        # If there is another error, skip to the next player ID\n",
    "        print(f\"There was an Error: {player_id}\")\n",
    "        continue\n",
    "        \n",
    "# Display the scraped DataFrame\n",
    "scraped_df = pd.DataFrame(data, columns=columns)"
   ]
  },
  {
   "cell_type": "code",
   "execution_count": 8,
   "id": "cc399da0",
   "metadata": {
    "_cell_guid": "bcec5b0c-5723-4a95-89ec-de49d3143001",
    "_uuid": "e4071b8e-6779-48c2-bda4-d1fdc7670046",
    "collapsed": false,
    "execution": {
     "iopub.execute_input": "2023-08-13T03:14:41.647204Z",
     "iopub.status.busy": "2023-08-13T03:14:41.646597Z",
     "iopub.status.idle": "2023-08-13T03:14:41.667959Z",
     "shell.execute_reply": "2023-08-13T03:14:41.666452Z"
    },
    "jupyter": {
     "outputs_hidden": false
    },
    "papermill": {
     "duration": 0.028231,
     "end_time": "2023-08-13T03:14:41.670319",
     "exception": false,
     "start_time": "2023-08-13T03:14:41.642088",
     "status": "completed"
    },
    "tags": []
   },
   "outputs": [
    {
     "name": "stdout",
     "output_type": "stream",
     "text": [
      "CPU times: user 2 µs, sys: 0 ns, total: 2 µs\n",
      "Wall time: 4.77 µs\n"
     ]
    }
   ],
   "source": [
    "%time\n",
    "scraped_df.to_csv(\"scraped_player_data.csv\", index = False)"
   ]
  }
 ],
 "metadata": {
  "kernelspec": {
   "display_name": "Python 3",
   "language": "python",
   "name": "python3"
  },
  "language_info": {
   "codemirror_mode": {
    "name": "ipython",
    "version": 3
   },
   "file_extension": ".py",
   "mimetype": "text/x-python",
   "name": "python",
   "nbconvert_exporter": "python",
   "pygments_lexer": "ipython3",
   "version": "3.10.10"
  },
  "papermill": {
   "default_parameters": {},
   "duration": 100.511702,
   "end_time": "2023-08-13T03:14:42.596662",
   "environment_variables": {},
   "exception": null,
   "input_path": "__notebook__.ipynb",
   "output_path": "__notebook__.ipynb",
   "parameters": {},
   "start_time": "2023-08-13T03:13:02.084960",
   "version": "2.4.0"
  }
 },
 "nbformat": 4,
 "nbformat_minor": 5
}
